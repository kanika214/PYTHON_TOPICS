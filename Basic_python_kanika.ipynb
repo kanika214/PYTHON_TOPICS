{
  "nbformat": 4,
  "nbformat_minor": 0,
  "metadata": {
    "colab": {
      "provenance": [],
      "authorship_tag": "ABX9TyNTpIgP1bBRqvXeWCxwTLsr",
      "include_colab_link": true
    },
    "kernelspec": {
      "name": "python3",
      "display_name": "Python 3"
    },
    "language_info": {
      "name": "python"
    }
  },
  "cells": [
    {
      "cell_type": "markdown",
      "metadata": {
        "id": "view-in-github",
        "colab_type": "text"
      },
      "source": [
        "<a href=\"https://colab.research.google.com/github/kanika214/PYTHON_TOPICS/blob/main/Basic_python_kanika.ipynb\" target=\"_parent\"><img src=\"https://colab.research.google.com/assets/colab-badge.svg\" alt=\"Open In Colab\"/></a>"
      ]
    },
    {
      "cell_type": "markdown",
      "source": [
        "# 'Srings' - An immutable sequence data type"
      ],
      "metadata": {
        "id": "7sZo1VnLHx9E"
      }
    },
    {
      "cell_type": "markdown",
      "source": [
        "### len() function counts all of the characters in the string, including spaces and punctuation"
      ],
      "metadata": {
        "id": "zLbBt3E7Oc8T"
      }
    },
    {
      "cell_type": "code",
      "execution_count": 2,
      "metadata": {
        "colab": {
          "base_uri": "https://localhost:8080/"
        },
        "id": "xh-CuyVd7qnT",
        "outputId": "d83a3aea-1590-458f-da30-0fcef73fad74"
      },
      "outputs": [
        {
          "output_type": "stream",
          "name": "stdout",
          "text": [
            "Hello world!\n",
            "hello\n",
            "world\n"
          ]
        },
        {
          "output_type": "execute_result",
          "data": {
            "text/plain": [
              "12"
            ]
          },
          "metadata": {},
          "execution_count": 2
        }
      ],
      "source": [
        "#creating a string\n",
        "Python = 'Hello world!'\n",
        "print(Python)\n",
        "\n",
        "#type of variable\n",
        "type(Python)\n",
        "\n",
        "# break into new line \\n\n",
        "print('hello\\nworld')\n",
        "\n",
        "# to get the length of the string\n",
        "len(Python)"
      ]
    },
    {
      "cell_type": "markdown",
      "source": [
        "# String Indexing\n",
        "\n",
        "* We know strings are a sequence, which means Python can use indexes to call parts of the sequence.\n",
        "* A string index refers to the location of an element present in a string.\n",
        "* In Python, we use brackets [] after an object to call its index."
      ],
      "metadata": {
        "id": "gfuTqkwzfvuZ"
      }
    },
    {
      "cell_type": "code",
      "source": [
        "string_index1 = 'I am very confident'\n",
        "print(string_index1[0])\n",
        "\n",
        "#last element in index\n",
        "print(string_index1[-1])"
      ],
      "metadata": {
        "colab": {
          "base_uri": "https://localhost:8080/"
        },
        "id": "wIISmcqPfuyS",
        "outputId": "d798b20f-0988-4e29-f3ed-6078d2329a20"
      },
      "execution_count": 3,
      "outputs": [
        {
          "output_type": "stream",
          "name": "stdout",
          "text": [
            "I\n",
            "t\n"
          ]
        }
      ]
    },
    {
      "cell_type": "markdown",
      "source": [
        "# String Slicing\n",
        "\n",
        "*   **colon(:)** (to perform slicing which grabs everything up to a designated point)\n",
        "* element located at the right index is not included like [1:5]--> 1 to 4 it will show."
      ],
      "metadata": {
        "id": "dlvQV1O_gqli"
      }
    },
    {
      "cell_type": "code",
      "source": [
        "str_slc = 'I am very happy'\n",
        "print(str_slc[1:5])\n",
        "\n",
        "len(str_slc)\n",
        "\n",
        "print(str_slc[:16])\n",
        "\n",
        "# to end\n",
        "print(str_slc[1:])\n",
        "\n",
        "\n",
        "#Everything\n",
        "print(str_slc[:])\n"
      ],
      "metadata": {
        "colab": {
          "base_uri": "https://localhost:8080/"
        },
        "id": "10SX8DAuNQtx",
        "outputId": "b25840dd-8975-4970-a3e7-0f76357822b7"
      },
      "execution_count": 4,
      "outputs": [
        {
          "output_type": "stream",
          "name": "stdout",
          "text": [
            " am \n",
            "I am very happy\n",
            " am very happy\n",
            "I am very happy\n"
          ]
        }
      ]
    },
    {
      "cell_type": "code",
      "source": [
        "#we can use the index -4 to extract the FOURTH LAST element\n",
        "\n",
        "print(str_slc[-4])"
      ],
      "metadata": {
        "colab": {
          "base_uri": "https://localhost:8080/"
        },
        "id": "P6azMyJyw1PZ",
        "outputId": "47d9c51e-3efd-4b22-f2a1-a2d0277a6dc7"
      },
      "execution_count": 5,
      "outputs": [
        {
          "output_type": "stream",
          "name": "stdout",
          "text": [
            "a\n"
          ]
        }
      ]
    },
    {
      "cell_type": "code",
      "source": [
        "## Grab everything, but go in steps size of 1\n",
        "print(str_slc[::1])\n",
        "\n",
        "print(str_slc[::2])\n",
        "\n",
        "# Grab everything, but go in step sizes of 5\n",
        "print(str_slc[5:15:5])       #(start:stop:step)"
      ],
      "metadata": {
        "colab": {
          "base_uri": "https://localhost:8080/"
        },
        "id": "ZtT3NiXZ_6KE",
        "outputId": "d9e00ddb-2b06-40ac-aacd-9f5dc2a45d69"
      },
      "execution_count": 6,
      "outputs": [
        {
          "output_type": "stream",
          "name": "stdout",
          "text": [
            "I am very happy\n",
            "Ia eyhpy\n",
            "vh\n"
          ]
        }
      ]
    },
    {
      "cell_type": "markdown",
      "source": [
        "# Reverse a string."
      ],
      "metadata": {
        "id": "kj9OPyklE8xR"
      }
    },
    {
      "cell_type": "code",
      "source": [
        "print(str_slc)"
      ],
      "metadata": {
        "colab": {
          "base_uri": "https://localhost:8080/"
        },
        "id": "ja-VBw_PFJ-y",
        "outputId": "1122d18c-3e44-4741-a674-966d9785270c"
      },
      "execution_count": 7,
      "outputs": [
        {
          "output_type": "stream",
          "name": "stdout",
          "text": [
            "I am very happy\n"
          ]
        }
      ]
    },
    {
      "cell_type": "code",
      "source": [
        "#reverse of string using slicing\n",
        "print(str_slc[::-1])    # start from -1 then go to 0th index"
      ],
      "metadata": {
        "colab": {
          "base_uri": "https://localhost:8080/"
        },
        "id": "9wKloV0-E8G7",
        "outputId": "db1a6679-2092-4641-eb60-b91e8d1f7364"
      },
      "execution_count": 8,
      "outputs": [
        {
          "output_type": "stream",
          "name": "stdout",
          "text": [
            "yppah yrev ma I\n"
          ]
        }
      ]
    },
    {
      "cell_type": "markdown",
      "source": [
        "# Reverse a string without changing the position of words."
      ],
      "metadata": {
        "id": "OsiZvV5HHcTy"
      }
    },
    {
      "cell_type": "code",
      "source": [
        "string = 'GOOD LUCK'\n",
        "split = string.split()\n",
        "emp_str = \"\"\n",
        "for i in split:\n",
        "  emp_str = emp_str+' '+i[::-1]\n",
        "print(emp_str)\n",
        "\n"
      ],
      "metadata": {
        "colab": {
          "base_uri": "https://localhost:8080/"
        },
        "id": "UjK0bbTg__n2",
        "outputId": "d349bb03-2e36-4e7d-d6fe-3d72a1dcc481"
      },
      "execution_count": 37,
      "outputs": [
        {
          "output_type": "stream",
          "name": "stdout",
          "text": [
            " DOOG KCUL\n"
          ]
        }
      ]
    },
    {
      "cell_type": "code",
      "source": [
        "#using function\n",
        "def rev_str(text):\n",
        "  sp=text.split()\n",
        "  emp=\"\"\n",
        "  for char in sp:\n",
        "    emp=emp+' '+char[::-1]\n",
        "  return emp\n",
        "rev_str('I HAVE MY DREAM JOB')\n"
      ],
      "metadata": {
        "colab": {
          "base_uri": "https://localhost:8080/",
          "height": 36
        },
        "id": "4fU84JfOcRg1",
        "outputId": "e2208119-732b-4d36-fe38-b7a921e75dce"
      },
      "execution_count": 33,
      "outputs": [
        {
          "output_type": "execute_result",
          "data": {
            "text/plain": [
              "' I EVAH YM MAERD BOJ'"
            ],
            "application/vnd.google.colaboratory.intrinsic+json": {
              "type": "string"
            }
          },
          "metadata": {},
          "execution_count": 33
        }
      ]
    },
    {
      "cell_type": "markdown",
      "source": [
        "# concatenate strings!"
      ],
      "metadata": {
        "id": "IwneEDhWlH3z"
      }
    },
    {
      "cell_type": "code",
      "source": [
        "str1='good'\n",
        "str2='luck'\n",
        "print(str1+' '+str2)\n",
        "\n",
        "#multiply string with int\n",
        "print(str2*3)"
      ],
      "metadata": {
        "colab": {
          "base_uri": "https://localhost:8080/"
        },
        "id": "gR6BAb0o8MAo",
        "outputId": "2bdf09bb-1048-4152-8280-dfbf4ff8553a"
      },
      "execution_count": 41,
      "outputs": [
        {
          "output_type": "stream",
          "name": "stdout",
          "text": [
            "good luck\n",
            "luckluckluck "
          ]
        }
      ]
    },
    {
      "cell_type": "markdown",
      "source": [
        "# String functions and methods"
      ],
      "metadata": {
        "id": "xoyDUKH1mQnY"
      }
    },
    {
      "cell_type": "markdown",
      "source": [
        "1. **len()** **function** returns the length of the string\n",
        "2. **lower()** **method** converts the string to lowercase\n",
        "3. **upper()** **method** converts the string to uppercase\n",
        "4. **count()** **method** returns the count of a string in the given string.\n",
        "\n",
        " Unlike lower() and upper() method, the count() method takes a string as an argument\n",
        "5. **find()** **method** returns the index of the first occurrence of a string present in a given string. Similar to the count() method, the find() method takes a string as an argument.\n",
        "6. **replace()** **method** takes two arguments - \n",
        "  * (i) the string to replace and\n",
        "  * (ii) the string to replace with, and returns a modified string after the operation\n",
        "7. **capitalize():** method returns a string where the first character is upper case, and the rest is lower case"
      ],
      "metadata": {
        "id": "YiO2Au5SmVtS"
      }
    },
    {
      "cell_type": "code",
      "source": [
        "#1. len() function\n",
        "str_len = 'I am learning python'\n",
        "print(len(str_len))"
      ],
      "metadata": {
        "colab": {
          "base_uri": "https://localhost:8080/"
        },
        "id": "DPD6BHAMmTJA",
        "outputId": "7341b1c3-69e3-4071-aa8e-1323fb5297ee"
      },
      "execution_count": 42,
      "outputs": [
        {
          "output_type": "stream",
          "name": "stdout",
          "text": [
            "20\n"
          ]
        }
      ]
    },
    {
      "cell_type": "code",
      "source": [
        "#2.lower() method\n",
        "str_low = 'ALL THE BEST'\n",
        "str_low.lower()"
      ],
      "metadata": {
        "colab": {
          "base_uri": "https://localhost:8080/",
          "height": 36
        },
        "id": "a2jei4ehnNLJ",
        "outputId": "63d85673-4fc0-4f2f-8b0a-dd80667b6ce4"
      },
      "execution_count": 44,
      "outputs": [
        {
          "output_type": "execute_result",
          "data": {
            "text/plain": [
              "'all the best'"
            ],
            "application/vnd.google.colaboratory.intrinsic+json": {
              "type": "string"
            }
          },
          "metadata": {},
          "execution_count": 44
        }
      ]
    },
    {
      "cell_type": "code",
      "source": [
        "#3. upper() method\n",
        "str_up = 'i am very happy'\n",
        "print(str_up.upper())\n"
      ],
      "metadata": {
        "colab": {
          "base_uri": "https://localhost:8080/"
        },
        "id": "msJwOusQnqks",
        "outputId": "1bfbaa5e-2774-4d35-a06a-d356c71e9425"
      },
      "execution_count": 48,
      "outputs": [
        {
          "output_type": "stream",
          "name": "stdout",
          "text": [
            "I AM VERY HAPPY\n"
          ]
        }
      ]
    },
    {
      "cell_type": "code",
      "source": [
        "#4. count() method\n",
        "str_cnt = 'i am happy that i am learning python and sql'\n",
        "print(str_cnt.count('i am')) "
      ],
      "metadata": {
        "colab": {
          "base_uri": "https://localhost:8080/"
        },
        "id": "crrDvZVjoMUr",
        "outputId": "642dc3bb-7401-4841-e289-c2f4cd18c947"
      },
      "execution_count": 51,
      "outputs": [
        {
          "output_type": "stream",
          "name": "stdout",
          "text": [
            "2\n"
          ]
        }
      ]
    },
    {
      "cell_type": "code",
      "source": [
        "#5. find() method\n",
        "str_find = 'i am improving my coding skills'\n",
        "print(str_find.find('c'))\n",
        "\n",
        "\n",
        "\n",
        "#find method will return a value of -1 if string is not there\n",
        "str_find.find('z')"
      ],
      "metadata": {
        "colab": {
          "base_uri": "https://localhost:8080/"
        },
        "id": "h8x4jw4ZoymI",
        "outputId": "48c66894-c9e1-48c5-f83c-d4455777fc3a"
      },
      "execution_count": 56,
      "outputs": [
        {
          "output_type": "stream",
          "name": "stdout",
          "text": [
            "18\n"
          ]
        },
        {
          "output_type": "execute_result",
          "data": {
            "text/plain": [
              "-1"
            ]
          },
          "metadata": {},
          "execution_count": 56
        }
      ]
    },
    {
      "cell_type": "code",
      "source": [
        "#6. replace() method, takes 2 argument\n",
        "str_rplc = 'all the best'\n",
        "print(str_rplc.replace('best','good luck'))"
      ],
      "metadata": {
        "colab": {
          "base_uri": "https://localhost:8080/",
          "height": 53
        },
        "id": "NuHvN03bzf08",
        "outputId": "1095bb11-4fb3-4e35-ea12-c022e2df7bd3"
      },
      "execution_count": 58,
      "outputs": [
        {
          "output_type": "stream",
          "name": "stdout",
          "text": [
            "all the good luck\n"
          ]
        },
        {
          "output_type": "execute_result",
          "data": {
            "text/plain": [
              "'all the best'"
            ],
            "application/vnd.google.colaboratory.intrinsic+json": {
              "type": "string"
            }
          },
          "metadata": {},
          "execution_count": 58
        }
      ]
    },
    {
      "cell_type": "code",
      "source": [
        "#7. capitalize() method\n",
        "str_capital = 'kanika raj'\n",
        "print(str_capital.capitalize())"
      ],
      "metadata": {
        "id": "3_5_prF-EKyE"
      },
      "execution_count": null,
      "outputs": []
    },
    {
      "cell_type": "markdown",
      "source": [
        "# Printing strings a bit differently"
      ],
      "metadata": {
        "id": "yOytPq2I0KUm"
      }
    },
    {
      "cell_type": "code",
      "source": [
        "f_name = 'kanika'\n",
        "l_name = 'raj'\n",
        "print(f'merge both the strings:-  {f_name} {l_name}')"
      ],
      "metadata": {
        "colab": {
          "base_uri": "https://localhost:8080/"
        },
        "id": "lP8zU8zK0F0n",
        "outputId": "9e6e61a8-22a9-4178-a8cd-1c77b4e10744"
      },
      "execution_count": 60,
      "outputs": [
        {
          "output_type": "stream",
          "name": "stdout",
          "text": [
            "merge both the strings:-  kanika raj\n"
          ]
        }
      ]
    },
    {
      "cell_type": "code",
      "source": [
        "print(f_name+' '+l_name)"
      ],
      "metadata": {
        "id": "dDWqayZU0-sW"
      },
      "execution_count": null,
      "outputs": []
    },
    {
      "cell_type": "markdown",
      "source": [
        "## Check if any word is present in the given string or not"
      ],
      "metadata": {
        "id": "4PvheDw6_mdh"
      }
    },
    {
      "cell_type": "code",
      "source": [
        "st_wrd = 'i am learning python from basic and soon i will learn advance'\n",
        "if 'soon' in st_wrd:\n",
        "    print('True')\n",
        "else:\n",
        "    print('n.a')"
      ],
      "metadata": {
        "colab": {
          "base_uri": "https://localhost:8080/"
        },
        "id": "h_BzxcGx5ghI",
        "outputId": "b90a04df-0bd5-4fb0-84c0-ab3b37edbcc2"
      },
      "execution_count": 72,
      "outputs": [
        {
          "output_type": "stream",
          "name": "stdout",
          "text": [
            "True\n"
          ]
        }
      ]
    }
  ]
}