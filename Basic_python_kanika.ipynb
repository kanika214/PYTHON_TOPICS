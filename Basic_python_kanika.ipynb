{
  "nbformat": 4,
  "nbformat_minor": 0,
  "metadata": {
    "colab": {
      "provenance": [],
      "authorship_tag": "ABX9TyO+iM6pVZgfMjFiI/sCrmGP",
      "include_colab_link": true
    },
    "kernelspec": {
      "name": "python3",
      "display_name": "Python 3"
    },
    "language_info": {
      "name": "python"
    }
  },
  "cells": [
    {
      "cell_type": "markdown",
      "metadata": {
        "id": "view-in-github",
        "colab_type": "text"
      },
      "source": [
        "<a href=\"https://colab.research.google.com/github/kanika214/PYTHON_TOPICS/blob/main/Basic_python_kanika.ipynb\" target=\"_parent\"><img src=\"https://colab.research.google.com/assets/colab-badge.svg\" alt=\"Open In Colab\"/></a>"
      ]
    },
    {
      "cell_type": "markdown",
      "source": [
        "# 'Srings' - An immutable sequence data type"
      ],
      "metadata": {
        "id": "7sZo1VnLHx9E"
      }
    },
    {
      "cell_type": "markdown",
      "source": [
        "### len() function counts all of the characters in the string, including spaces and punctuation"
      ],
      "metadata": {
        "id": "zLbBt3E7Oc8T"
      }
    },
    {
      "cell_type": "code",
      "execution_count": 2,
      "metadata": {
        "colab": {
          "base_uri": "https://localhost:8080/"
        },
        "id": "xh-CuyVd7qnT",
        "outputId": "d83a3aea-1590-458f-da30-0fcef73fad74"
      },
      "outputs": [
        {
          "output_type": "stream",
          "name": "stdout",
          "text": [
            "Hello world!\n",
            "hello\n",
            "world\n"
          ]
        },
        {
          "output_type": "execute_result",
          "data": {
            "text/plain": [
              "12"
            ]
          },
          "metadata": {},
          "execution_count": 2
        }
      ],
      "source": [
        "#creating a string\n",
        "Python = 'Hello world!'\n",
        "print(Python)\n",
        "\n",
        "#type of variable\n",
        "type(Python)\n",
        "\n",
        "# break into new line \\n\n",
        "print('hello\\nworld')\n",
        "\n",
        "# to get the length of the string\n",
        "len(Python)"
      ]
    },
    {
      "cell_type": "markdown",
      "source": [
        "# String Indexing\n",
        "\n",
        "* We know strings are a sequence, which means Python can use indexes to call parts of the sequence.\n",
        "* A string index refers to the location of an element present in a string.\n",
        "* In Python, we use brackets [] after an object to call its index."
      ],
      "metadata": {
        "id": "gfuTqkwzfvuZ"
      }
    },
    {
      "cell_type": "code",
      "source": [
        "string_index1 = 'I am very confident'\n",
        "print(string_index1[0])\n",
        "\n",
        "#last element in index\n",
        "print(string_index1[-1])"
      ],
      "metadata": {
        "colab": {
          "base_uri": "https://localhost:8080/"
        },
        "id": "wIISmcqPfuyS",
        "outputId": "d798b20f-0988-4e29-f3ed-6078d2329a20"
      },
      "execution_count": 3,
      "outputs": [
        {
          "output_type": "stream",
          "name": "stdout",
          "text": [
            "I\n",
            "t\n"
          ]
        }
      ]
    },
    {
      "cell_type": "markdown",
      "source": [
        "# String Slicing\n",
        "\n",
        "*   **colon(:)** (to perform slicing which grabs everything up to a designated point)\n",
        "* element located at the right index is not included like [1:5]--> 1 to 4 it will show."
      ],
      "metadata": {
        "id": "dlvQV1O_gqli"
      }
    },
    {
      "cell_type": "code",
      "source": [
        "str_slc = 'I am very happy'\n",
        "print(str_slc[1:5])\n",
        "\n",
        "len(str_slc)\n",
        "\n",
        "print(str_slc[:16])\n",
        "\n",
        "# to end\n",
        "print(str_slc[1:])\n",
        "\n",
        "\n",
        "#Everything\n",
        "print(str_slc[:])\n"
      ],
      "metadata": {
        "colab": {
          "base_uri": "https://localhost:8080/"
        },
        "id": "10SX8DAuNQtx",
        "outputId": "b25840dd-8975-4970-a3e7-0f76357822b7"
      },
      "execution_count": 4,
      "outputs": [
        {
          "output_type": "stream",
          "name": "stdout",
          "text": [
            " am \n",
            "I am very happy\n",
            " am very happy\n",
            "I am very happy\n"
          ]
        }
      ]
    },
    {
      "cell_type": "code",
      "source": [
        "#we can use the index -4 to extract the FOURTH LAST element\n",
        "\n",
        "print(str_slc[-4])"
      ],
      "metadata": {
        "colab": {
          "base_uri": "https://localhost:8080/"
        },
        "id": "P6azMyJyw1PZ",
        "outputId": "47d9c51e-3efd-4b22-f2a1-a2d0277a6dc7"
      },
      "execution_count": 5,
      "outputs": [
        {
          "output_type": "stream",
          "name": "stdout",
          "text": [
            "a\n"
          ]
        }
      ]
    },
    {
      "cell_type": "code",
      "source": [
        "## Grab everything, but go in steps size of 1\n",
        "print(str_slc[::1])\n",
        "\n",
        "print(str_slc[::2])\n",
        "\n",
        "# Grab everything, but go in step sizes of 5\n",
        "print(str_slc[5:15:5])       #(start:stop:step)"
      ],
      "metadata": {
        "colab": {
          "base_uri": "https://localhost:8080/"
        },
        "id": "ZtT3NiXZ_6KE",
        "outputId": "d9e00ddb-2b06-40ac-aacd-9f5dc2a45d69"
      },
      "execution_count": 6,
      "outputs": [
        {
          "output_type": "stream",
          "name": "stdout",
          "text": [
            "I am very happy\n",
            "Ia eyhpy\n",
            "vh\n"
          ]
        }
      ]
    },
    {
      "cell_type": "markdown",
      "source": [
        "# Reverse a string."
      ],
      "metadata": {
        "id": "kj9OPyklE8xR"
      }
    },
    {
      "cell_type": "code",
      "source": [
        "print(str_slc)"
      ],
      "metadata": {
        "colab": {
          "base_uri": "https://localhost:8080/"
        },
        "id": "ja-VBw_PFJ-y",
        "outputId": "1122d18c-3e44-4741-a674-966d9785270c"
      },
      "execution_count": 7,
      "outputs": [
        {
          "output_type": "stream",
          "name": "stdout",
          "text": [
            "I am very happy\n"
          ]
        }
      ]
    },
    {
      "cell_type": "code",
      "source": [
        "#reverse of string using slicing\n",
        "print(str_slc[::-1])    # start from -1 then go to 0th index"
      ],
      "metadata": {
        "colab": {
          "base_uri": "https://localhost:8080/"
        },
        "id": "9wKloV0-E8G7",
        "outputId": "db1a6679-2092-4641-eb60-b91e8d1f7364"
      },
      "execution_count": 8,
      "outputs": [
        {
          "output_type": "stream",
          "name": "stdout",
          "text": [
            "yppah yrev ma I\n"
          ]
        }
      ]
    },
    {
      "cell_type": "markdown",
      "source": [
        "# Reverse a string without changing the position of words."
      ],
      "metadata": {
        "id": "OsiZvV5HHcTy"
      }
    },
    {
      "cell_type": "code",
      "source": [
        "string = 'GOOD LUCK'\n",
        "split = string.split()\n",
        "emp_str = \"\"\n",
        "for i in split:\n",
        "  emp_str = emp_str+' '+i[::-1]\n",
        "print(emp_str)\n",
        "\n"
      ],
      "metadata": {
        "colab": {
          "base_uri": "https://localhost:8080/"
        },
        "id": "UjK0bbTg__n2",
        "outputId": "41aba80e-7434-479e-9536-55ffc86f4868"
      },
      "execution_count": 22,
      "outputs": [
        {
          "output_type": "stream",
          "name": "stdout",
          "text": [
            " DOOG KCUL\n"
          ]
        }
      ]
    },
    {
      "cell_type": "code",
      "source": [
        "#using function\n",
        "def rev_str(text):\n",
        "  sp=text.split()\n",
        "  emp=\"\"\n",
        "  for char in sp:\n",
        "    emp=emp+' '+char[::-1]\n",
        "  return emp\n",
        "rev_str('I HAVE MY DREAM JOB')\n"
      ],
      "metadata": {
        "colab": {
          "base_uri": "https://localhost:8080/",
          "height": 36
        },
        "id": "4fU84JfOcRg1",
        "outputId": "e2208119-732b-4d36-fe38-b7a921e75dce"
      },
      "execution_count": 33,
      "outputs": [
        {
          "output_type": "execute_result",
          "data": {
            "text/plain": [
              "' I EVAH YM MAERD BOJ'"
            ],
            "application/vnd.google.colaboratory.intrinsic+json": {
              "type": "string"
            }
          },
          "metadata": {},
          "execution_count": 33
        }
      ]
    },
    {
      "cell_type": "code",
      "source": [],
      "metadata": {
        "id": "gR6BAb0o8MAo"
      },
      "execution_count": 11,
      "outputs": []
    }
  ]
}