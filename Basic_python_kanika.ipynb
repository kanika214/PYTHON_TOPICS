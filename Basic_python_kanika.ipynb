{
  "nbformat": 4,
  "nbformat_minor": 0,
  "metadata": {
    "colab": {
      "provenance": [],
      "authorship_tag": "ABX9TyOkSELRVB6OP+lj/XlCnb1f",
      "include_colab_link": true
    },
    "kernelspec": {
      "name": "python3",
      "display_name": "Python 3"
    },
    "language_info": {
      "name": "python"
    }
  },
  "cells": [
    {
      "cell_type": "markdown",
      "metadata": {
        "id": "view-in-github",
        "colab_type": "text"
      },
      "source": [
        "<a href=\"https://colab.research.google.com/github/kanika214/PYTHON_TOPICS/blob/main/Basic_python_kanika.ipynb\" target=\"_parent\"><img src=\"https://colab.research.google.com/assets/colab-badge.svg\" alt=\"Open In Colab\"/></a>"
      ]
    },
    {
      "cell_type": "markdown",
      "source": [
        "# 'Srings' - An immutable sequence data type"
      ],
      "metadata": {
        "id": "7sZo1VnLHx9E"
      }
    },
    {
      "cell_type": "markdown",
      "source": [
        "### len() function counts all of the characters in the string, including spaces and punctuation"
      ],
      "metadata": {
        "id": "zLbBt3E7Oc8T"
      }
    },
    {
      "cell_type": "code",
      "execution_count": 97,
      "metadata": {
        "colab": {
          "base_uri": "https://localhost:8080/"
        },
        "id": "xh-CuyVd7qnT",
        "outputId": "f4f8bb62-7417-486b-9710-2633e4a2d936"
      },
      "outputs": [
        {
          "output_type": "stream",
          "name": "stdout",
          "text": [
            "Hello world!\n",
            "hello\n",
            "world\n"
          ]
        }
      ],
      "source": [
        "#creating a string\n",
        "Python = 'Hello world!'\n",
        "print(Python)\n",
        "\n",
        "#type of variable\n",
        "type(Python)\n",
        "\n",
        "# break into new line \\n\n",
        "print('hello\\nworld')\n",
        "\n"
      ]
    },
    {
      "cell_type": "markdown",
      "source": [
        "# String Indexing\n",
        "\n",
        "* We know strings are a sequence, which means Python can use indexes to call parts of the sequence.\n",
        "* A string index refers to the location of an element present in a string.\n",
        "* In Python, we use brackets [] after an object to call its index."
      ],
      "metadata": {
        "id": "gfuTqkwzfvuZ"
      }
    },
    {
      "cell_type": "code",
      "source": [
        "string_index1 = 'I am very confident'\n",
        "print(string_index1[0])\n",
        "\n",
        "#last element in index\n",
        "print(string_index1[-1])"
      ],
      "metadata": {
        "colab": {
          "base_uri": "https://localhost:8080/"
        },
        "id": "wIISmcqPfuyS",
        "outputId": "f673d949-adf9-442d-ad84-052031be1692"
      },
      "execution_count": 98,
      "outputs": [
        {
          "output_type": "stream",
          "name": "stdout",
          "text": [
            "I\n",
            "t\n"
          ]
        }
      ]
    },
    {
      "cell_type": "markdown",
      "source": [
        "# String Slicing\n",
        "\n",
        "*   **colon(:)** (to perform slicing which grabs everything up to a designated point)\n",
        "* element located at the right index is not included like [1:5]--> 1 to 4 it will show."
      ],
      "metadata": {
        "id": "dlvQV1O_gqli"
      }
    },
    {
      "cell_type": "code",
      "source": [
        "str_slc = 'I am very happy'\n",
        "print(str_slc[1:5])\n",
        "\n",
        "len(str_slc)\n",
        "\n",
        "print(str_slc[:16])\n",
        "\n",
        "# to end\n",
        "print(str_slc[1:])\n",
        "\n",
        "\n",
        "#Everything\n",
        "print(str_slc[:])\n"
      ],
      "metadata": {
        "colab": {
          "base_uri": "https://localhost:8080/",
          "height": 252
        },
        "id": "10SX8DAuNQtx",
        "outputId": "82dc085f-9c53-4d82-a0da-c623a6835a5b"
      },
      "execution_count": 99,
      "outputs": [
        {
          "output_type": "stream",
          "name": "stdout",
          "text": [
            " am \n"
          ]
        },
        {
          "output_type": "error",
          "ename": "TypeError",
          "evalue": "ignored",
          "traceback": [
            "\u001b[0;31m---------------------------------------------------------------------------\u001b[0m",
            "\u001b[0;31mTypeError\u001b[0m                                 Traceback (most recent call last)",
            "\u001b[0;32m<ipython-input-99-07e91ab9e8bf>\u001b[0m in \u001b[0;36m<module>\u001b[0;34m\u001b[0m\n\u001b[1;32m      2\u001b[0m \u001b[0mprint\u001b[0m\u001b[0;34m(\u001b[0m\u001b[0mstr_slc\u001b[0m\u001b[0;34m[\u001b[0m\u001b[0;36m1\u001b[0m\u001b[0;34m:\u001b[0m\u001b[0;36m5\u001b[0m\u001b[0;34m]\u001b[0m\u001b[0;34m)\u001b[0m\u001b[0;34m\u001b[0m\u001b[0;34m\u001b[0m\u001b[0m\n\u001b[1;32m      3\u001b[0m \u001b[0;34m\u001b[0m\u001b[0m\n\u001b[0;32m----> 4\u001b[0;31m \u001b[0mlen\u001b[0m\u001b[0;34m(\u001b[0m\u001b[0mstr_slc\u001b[0m\u001b[0;34m)\u001b[0m\u001b[0;34m\u001b[0m\u001b[0;34m\u001b[0m\u001b[0m\n\u001b[0m\u001b[1;32m      5\u001b[0m \u001b[0;34m\u001b[0m\u001b[0m\n\u001b[1;32m      6\u001b[0m \u001b[0mprint\u001b[0m\u001b[0;34m(\u001b[0m\u001b[0mstr_slc\u001b[0m\u001b[0;34m[\u001b[0m\u001b[0;34m:\u001b[0m\u001b[0;36m16\u001b[0m\u001b[0;34m]\u001b[0m\u001b[0;34m)\u001b[0m\u001b[0;34m\u001b[0m\u001b[0;34m\u001b[0m\u001b[0m\n",
            "\u001b[0;31mTypeError\u001b[0m: 'list' object is not callable"
          ]
        }
      ]
    },
    {
      "cell_type": "code",
      "source": [
        "#we can use the index -4 to extract the FOURTH LAST element\n",
        "\n",
        "print(str_slc[-4])"
      ],
      "metadata": {
        "id": "P6azMyJyw1PZ"
      },
      "execution_count": null,
      "outputs": []
    },
    {
      "cell_type": "code",
      "source": [
        "## Grab everything, but go in steps size of 1\n",
        "print(str_slc[::1])\n",
        "\n",
        "print(str_slc[::2])\n",
        "\n",
        "# Grab everything, but go in step sizes of 5\n",
        "print(str_slc[5:15:5])       #(start:stop:step)"
      ],
      "metadata": {
        "id": "ZtT3NiXZ_6KE"
      },
      "execution_count": null,
      "outputs": []
    },
    {
      "cell_type": "markdown",
      "source": [
        "# Reverse a string."
      ],
      "metadata": {
        "id": "kj9OPyklE8xR"
      }
    },
    {
      "cell_type": "code",
      "source": [
        "print(str_slc)"
      ],
      "metadata": {
        "id": "ja-VBw_PFJ-y"
      },
      "execution_count": null,
      "outputs": []
    },
    {
      "cell_type": "code",
      "source": [
        "#reverse of string using slicing\n",
        "print(str_slc[::-1])    # start from -1 then go to 0th index"
      ],
      "metadata": {
        "id": "9wKloV0-E8G7"
      },
      "execution_count": null,
      "outputs": []
    },
    {
      "cell_type": "markdown",
      "source": [
        "## **split()** method Splits the **\"string\"** at the specified separator, and returns a **\"list\"**"
      ],
      "metadata": {
        "id": "qeF2oUzG9TvU"
      }
    },
    {
      "cell_type": "code",
      "source": [
        "st_splt = 'i am an aspiring data scienctist'\n",
        "print(st_splt.split())"
      ],
      "metadata": {
        "id": "TWjjRzF29f5R"
      },
      "execution_count": null,
      "outputs": []
    },
    {
      "cell_type": "markdown",
      "source": [
        "###**join() method** returns a string by joining all the elements of an iterable (list, string, tuple), separated by the given separator."
      ],
      "metadata": {
        "id": "-LRGgCF0-BKr"
      }
    },
    {
      "cell_type": "code",
      "source": [
        "text = ['Python', 'is', 'a', 'fun', 'programming', 'language']\n",
        "\n",
        "# join elements of text with space\n",
        "print(' '.join(text))\n"
      ],
      "metadata": {
        "id": "Mzqnb1DDASdn"
      },
      "execution_count": null,
      "outputs": []
    },
    {
      "cell_type": "code",
      "source": [
        "i = ['1','2','3']\n",
        "print(''.join(i))"
      ],
      "metadata": {
        "id": "DtyNB19IBAc8"
      },
      "execution_count": null,
      "outputs": []
    },
    {
      "cell_type": "markdown",
      "source": [
        "# Reverse a string without changing the position of words."
      ],
      "metadata": {
        "id": "OsiZvV5HHcTy"
      }
    },
    {
      "cell_type": "code",
      "source": [
        "string = 'GOOD LUCK'\n",
        "split = string.split()\n",
        "emp_str = \"\"\n",
        "for i in split:\n",
        "  emp_str = emp_str+' '+i[::-1]\n",
        "print(emp_str)\n",
        "\n"
      ],
      "metadata": {
        "colab": {
          "base_uri": "https://localhost:8080/"
        },
        "id": "UjK0bbTg__n2",
        "outputId": "a0ace02a-fb63-469b-f0f5-8c17c7de2d87"
      },
      "execution_count": 100,
      "outputs": [
        {
          "output_type": "stream",
          "name": "stdout",
          "text": [
            " DOOG KCUL\n"
          ]
        }
      ]
    },
    {
      "cell_type": "code",
      "source": [
        "#using function\n",
        "def rev_str(text):\n",
        "  sp=text.split()\n",
        "  emp=\"\"\n",
        "  for char in sp:\n",
        "    emp=emp+' '+char[::-1]\n",
        "  return emp\n",
        "rev_str('I HAVE MY DREAM JOB')\n"
      ],
      "metadata": {
        "colab": {
          "base_uri": "https://localhost:8080/",
          "height": 36
        },
        "id": "4fU84JfOcRg1",
        "outputId": "11fcc6ca-a1ef-40ee-ed36-9e49f609fbde"
      },
      "execution_count": 101,
      "outputs": [
        {
          "output_type": "execute_result",
          "data": {
            "text/plain": [
              "' I EVAH YM MAERD BOJ'"
            ],
            "application/vnd.google.colaboratory.intrinsic+json": {
              "type": "string"
            }
          },
          "metadata": {},
          "execution_count": 101
        }
      ]
    },
    {
      "cell_type": "markdown",
      "source": [
        "# concatenate strings!"
      ],
      "metadata": {
        "id": "IwneEDhWlH3z"
      }
    },
    {
      "cell_type": "code",
      "source": [
        "str1='good'\n",
        "str2='luck'\n",
        "print(str1+' '+str2)\n",
        "\n",
        "#multiply string with int\n",
        "print(str2*3)"
      ],
      "metadata": {
        "colab": {
          "base_uri": "https://localhost:8080/"
        },
        "id": "gR6BAb0o8MAo",
        "outputId": "921b427c-8f7e-4a7b-f0cd-3d1d0abdf29c"
      },
      "execution_count": 102,
      "outputs": [
        {
          "output_type": "stream",
          "name": "stdout",
          "text": [
            "good luck\n",
            "luckluckluck\n"
          ]
        }
      ]
    },
    {
      "cell_type": "markdown",
      "source": [
        "# String functions and methods"
      ],
      "metadata": {
        "id": "xoyDUKH1mQnY"
      }
    },
    {
      "cell_type": "markdown",
      "source": [
        "1. **len()** **function** returns the length of the string\n",
        "2. **lower()** **method** converts the string to lowercase\n",
        "3. **upper()** **method** converts the string to uppercase\n",
        "4. **count()** **method** returns the count of a string in the given string.\n",
        "\n",
        " Unlike lower() and upper() method, the count() method takes a string as an argument\n",
        "5. **find()** **method** returns the index of the first occurrence of a string present in a given string. Similar to the count() method, the find() method takes a string as an argument.\n",
        "6. **replace()** **method** takes two arguments - \n",
        "  * (i) the string to replace and\n",
        "  * (ii) the string to replace with, and returns a modified string after the operation\n",
        "7. **capitalize():** method returns a string where the first character is upper case, and the rest is lower case"
      ],
      "metadata": {
        "id": "YiO2Au5SmVtS"
      }
    },
    {
      "cell_type": "code",
      "source": [
        "#1. len() function\n",
        "str_len = 'I am learning python'\n",
        "print(len(str_len))"
      ],
      "metadata": {
        "colab": {
          "base_uri": "https://localhost:8080/",
          "height": 200
        },
        "id": "DPD6BHAMmTJA",
        "outputId": "b82c2bfc-ee51-43da-a1bc-23ee9061ee58"
      },
      "execution_count": 103,
      "outputs": [
        {
          "output_type": "error",
          "ename": "TypeError",
          "evalue": "ignored",
          "traceback": [
            "\u001b[0;31m---------------------------------------------------------------------------\u001b[0m",
            "\u001b[0;31mTypeError\u001b[0m                                 Traceback (most recent call last)",
            "\u001b[0;32m<ipython-input-103-5210062f8894>\u001b[0m in \u001b[0;36m<module>\u001b[0;34m\u001b[0m\n\u001b[1;32m      1\u001b[0m \u001b[0;31m#1. len() function\u001b[0m\u001b[0;34m\u001b[0m\u001b[0;34m\u001b[0m\u001b[0;34m\u001b[0m\u001b[0m\n\u001b[1;32m      2\u001b[0m \u001b[0mstr_len\u001b[0m \u001b[0;34m=\u001b[0m \u001b[0;34m'I am learning python'\u001b[0m\u001b[0;34m\u001b[0m\u001b[0;34m\u001b[0m\u001b[0m\n\u001b[0;32m----> 3\u001b[0;31m \u001b[0mprint\u001b[0m\u001b[0;34m(\u001b[0m\u001b[0mlen\u001b[0m\u001b[0;34m(\u001b[0m\u001b[0mstr_len\u001b[0m\u001b[0;34m)\u001b[0m\u001b[0;34m)\u001b[0m\u001b[0;34m\u001b[0m\u001b[0;34m\u001b[0m\u001b[0m\n\u001b[0m",
            "\u001b[0;31mTypeError\u001b[0m: 'list' object is not callable"
          ]
        }
      ]
    },
    {
      "cell_type": "code",
      "source": [
        "#2.lower() method\n",
        "str_low = 'ALL THE BEST'\n",
        "str_low.lower()"
      ],
      "metadata": {
        "id": "a2jei4ehnNLJ"
      },
      "execution_count": null,
      "outputs": []
    },
    {
      "cell_type": "code",
      "source": [
        "#3. upper() method\n",
        "str_up = 'i am very happy'\n",
        "print(str_up.upper())\n"
      ],
      "metadata": {
        "id": "msJwOusQnqks"
      },
      "execution_count": null,
      "outputs": []
    },
    {
      "cell_type": "code",
      "source": [
        "#4. count() method\n",
        "str_cnt = 'i am happy that i am learning python and sql'\n",
        "print(str_cnt.count('i am')) "
      ],
      "metadata": {
        "id": "crrDvZVjoMUr"
      },
      "execution_count": null,
      "outputs": []
    },
    {
      "cell_type": "code",
      "source": [
        "#5. find() method\n",
        "str_find = 'i am improving my coding skills'\n",
        "print(str_find.find('c'))\n",
        "\n",
        "\n",
        "\n",
        "#find method will return a value of -1 if string is not there\n",
        "str_find.find('z')"
      ],
      "metadata": {
        "id": "h8x4jw4ZoymI"
      },
      "execution_count": null,
      "outputs": []
    },
    {
      "cell_type": "code",
      "source": [
        "#6. replace() method, takes 2 argument\n",
        "str_rplc = 'all the best'\n",
        "print(str_rplc.replace('best','good luck'))"
      ],
      "metadata": {
        "id": "NuHvN03bzf08"
      },
      "execution_count": null,
      "outputs": []
    },
    {
      "cell_type": "code",
      "source": [
        "#7. capitalize() method\n",
        "str_capital = 'kanika raj'\n",
        "print(str_capital.capitalize())"
      ],
      "metadata": {
        "id": "3_5_prF-EKyE"
      },
      "execution_count": null,
      "outputs": []
    },
    {
      "cell_type": "markdown",
      "source": [
        "### **isalnum()** Returns True if all characters in the string are alphanumeric\n",
        "\n",
        "###**isalpha()** Returns True if all characters in the string are in the alphabet\n",
        "\n",
        "###**isdigit()** Returns True if all characters in the string are digits"
      ],
      "metadata": {
        "id": "v1dC3_BC7LZR"
      }
    },
    {
      "cell_type": "code",
      "source": [
        "is_num = \"kanikaraj\"\n",
        "\n",
        "x = is_num.isalnum()\n",
        "print(x)\n",
        "\n",
        "isnm = 'kanikaraj@@'\n",
        "print(isnm.isalnum())"
      ],
      "metadata": {
        "id": "a2AHZgD-7ZVi"
      },
      "execution_count": null,
      "outputs": []
    },
    {
      "cell_type": "code",
      "source": [
        "txt = \"CompanyX\"\n",
        "\n",
        "x = txt.isalpha()\n",
        "\n",
        "print(x)"
      ],
      "metadata": {
        "id": "YBDlMIL38BtQ"
      },
      "execution_count": null,
      "outputs": []
    },
    {
      "cell_type": "code",
      "source": [
        "txt = \"50800\"\n",
        "\n",
        "x = txt.isdigit()\n",
        "\n",
        "print(x)"
      ],
      "metadata": {
        "id": "ib9z8iIU8IvZ"
      },
      "execution_count": null,
      "outputs": []
    },
    {
      "cell_type": "markdown",
      "source": [
        "## swapcase() Swaps cases, lower case becomes upper case and vice versa."
      ],
      "metadata": {
        "id": "sOgBGFtn8PmY"
      }
    },
    {
      "cell_type": "code",
      "source": [
        "txt = \"HeLLO,WeLCOME\"\n",
        "\n",
        "x = txt.swapcase()\n",
        "\n",
        "print(x)"
      ],
      "metadata": {
        "id": "hNnNqJhV8Mhq"
      },
      "execution_count": null,
      "outputs": []
    },
    {
      "cell_type": "markdown",
      "source": [
        "## **zfill()** Fills the string with a specified number of 0 values at the beginning"
      ],
      "metadata": {
        "id": "3enqPF4X80tM"
      }
    },
    {
      "cell_type": "code",
      "source": [
        "txt = \"5\"\n",
        "\n",
        "x = txt.zfill(2)\n",
        "\n",
        "print(x)"
      ],
      "metadata": {
        "id": "ebMikBs684pN"
      },
      "execution_count": null,
      "outputs": []
    },
    {
      "cell_type": "markdown",
      "source": [
        "# Printing strings a bit differently"
      ],
      "metadata": {
        "id": "yOytPq2I0KUm"
      }
    },
    {
      "cell_type": "code",
      "source": [
        "f_name = 'kanika'\n",
        "l_name = 'raj'\n",
        "print(f'merge both the strings:-  {f_name} {l_name}')"
      ],
      "metadata": {
        "id": "lP8zU8zK0F0n"
      },
      "execution_count": null,
      "outputs": []
    },
    {
      "cell_type": "code",
      "source": [
        "print(f_name+' '+l_name)"
      ],
      "metadata": {
        "id": "dDWqayZU0-sW"
      },
      "execution_count": null,
      "outputs": []
    },
    {
      "cell_type": "markdown",
      "source": [
        "## Check if any word is present in the given string or not"
      ],
      "metadata": {
        "id": "4PvheDw6_mdh"
      }
    },
    {
      "cell_type": "markdown",
      "source": [
        "**To check the certain phrase in a string we use *IN* and *NOT IN* keyword**"
      ],
      "metadata": {
        "id": "Qy6LqPw8CgsA"
      }
    },
    {
      "cell_type": "code",
      "source": [
        "st_wrd = 'i am learning python from basic and soon i will learn advance'\n",
        "if 'soon' in st_wrd:\n",
        "    print('True')\n",
        "else:\n",
        "    print('n.a')"
      ],
      "metadata": {
        "id": "h_BzxcGx5ghI"
      },
      "execution_count": null,
      "outputs": []
    },
    {
      "cell_type": "markdown",
      "source": [
        "# List- A list is a collection of similar or different types of data.\n",
        "\n",
        "* **List items are ordered, mutable, and allow duplicate values.**\n"
      ],
      "metadata": {
        "id": "PjvEtlIIBY1E"
      }
    },
    {
      "cell_type": "code",
      "source": [
        "list1 = ['a','1','b','2']\n",
        "print(list1)\n",
        "\n",
        "#check item\n",
        "if i in list1:\n",
        "  print('yes')\n"
      ],
      "metadata": {
        "id": "zJ4_89quC5nV"
      },
      "execution_count": null,
      "outputs": []
    },
    {
      "cell_type": "markdown",
      "source": [
        "### Add Elements to a Python List:\n",
        "\n",
        "* **+**\n",
        "* **append()**\n",
        "* **join()**\n",
        "* **insert()** - method inserts an element to the list at the specified index\n",
        "* **extend()** - to add all items of one list to another "
      ],
      "metadata": {
        "id": "e1WRtlN9Ico2"
      }
    },
    {
      "cell_type": "code",
      "source": [
        "#Add item into a list\n",
        "l1 = ['Fname','lname','dob','email']+['mobile_no']\n",
        "print(l1)\n"
      ],
      "metadata": {
        "id": "F0gqQLWEH-_v"
      },
      "execution_count": null,
      "outputs": []
    },
    {
      "cell_type": "code",
      "source": [
        "#2.append()\n",
        "num_ap = [1,2,3,4,5]\n",
        "num_ap.append(6)\n",
        "print(num_ap)"
      ],
      "metadata": {
        "id": "1HYO141tR8jS"
      },
      "execution_count": null,
      "outputs": []
    },
    {
      "cell_type": "code",
      "source": [
        "#3.join()\n",
        "l_j = ['hello','kanika_raj']\n",
        "print(' '.join(l_j))"
      ],
      "metadata": {
        "id": "VzAS7DH6Smt5"
      },
      "execution_count": null,
      "outputs": []
    },
    {
      "cell_type": "code",
      "source": [
        "#4.insert()\n",
        "vowel = ['a', 'e', 'i', 'u']\n",
        "vowel.insert(3, 'o')\n",
        "print(vowel)"
      ],
      "metadata": {
        "id": "kl2P15R4TuWk"
      },
      "execution_count": null,
      "outputs": []
    },
    {
      "cell_type": "code",
      "source": [
        "#5. extend()\n",
        "prime_numbers = [2, 3, 5]\n",
        "numbers = [1, 4]\n",
        "numbers.extend(prime_numbers)\n",
        "print(numbers)"
      ],
      "metadata": {
        "id": "Z_6WeShCU0kh"
      },
      "execution_count": null,
      "outputs": []
    },
    {
      "cell_type": "code",
      "source": [
        "# Print all items in the list, one by one:\n",
        "litems= ['a','b','c']\n",
        "for i in litems:\n",
        "  print(i)"
      ],
      "metadata": {
        "id": "6rBHQFHKegnj"
      },
      "execution_count": null,
      "outputs": []
    },
    {
      "cell_type": "code",
      "source": [
        "# Print all items by referring to their index number:\n",
        "list_index = [\"a\", \"b\", \"c\"]\n",
        "for i in range(len(list_index)):\n",
        "  print(list_index[i])"
      ],
      "metadata": {
        "id": "X3GwbwwueuqQ"
      },
      "execution_count": null,
      "outputs": []
    },
    {
      "cell_type": "code",
      "source": [
        "# Print all items, using a while loop to go through all the index numbers\n",
        "\n",
        "thislist = [\"apple\", \"banana\", \"cherry\"]\n",
        "i = 0\n",
        "while i < len(thislist):\n",
        "  print(thislist[i])\n",
        "  i = i + 1"
      ],
      "metadata": {
        "id": "fcXeq0sse_Tb"
      },
      "execution_count": null,
      "outputs": []
    },
    {
      "cell_type": "code",
      "source": [
        "# Looping using list comprehention\n",
        "\n",
        "thislist = [\"apple\", \"banana\", \"cherry\"]\n",
        "print([i for i in thislist])"
      ],
      "metadata": {
        "id": "MQZvF20PfGj3"
      },
      "execution_count": null,
      "outputs": []
    },
    {
      "cell_type": "markdown",
      "source": [
        "## List methods\n",
        "* pop() - to \"pop off\" an item from the list.\n",
        "\n",
        " By default pop() takes off the element at the last index, but you can also specify which index to pop off.\n",
        "* remove()\n",
        "* count()\n",
        "* index()\n",
        "* sort()\n",
        "* reverse()\n"
      ],
      "metadata": {
        "id": "rVbJ4thGG20c"
      }
    },
    {
      "cell_type": "code",
      "source": [
        "#1. pop()\n",
        "my_list = [1, 2, 3, 1, 1, 1, 3, 10, 5, 8, 'Append me!', 2.73, [1, 2, 3], [10, [19, 20], 30]]\n",
        "\n",
        "# Pop off the 0 indexed item\n",
        "my_list.pop()"
      ],
      "metadata": {
        "id": "-o3RjYYIfo9s"
      },
      "execution_count": null,
      "outputs": []
    },
    {
      "cell_type": "code",
      "source": [
        "# Assign the popped element, remember default popped index is -1\n",
        "my_list.pop(11)"
      ],
      "metadata": {
        "id": "77TzuaOEgWMx"
      },
      "execution_count": null,
      "outputs": []
    },
    {
      "cell_type": "markdown",
      "source": [
        "## Use remove() to remove an item/element from the list.\n",
        "* By default remove() removes the specified element from the list.\n",
        "\n",
        "* remove() takes the element as an argument."
      ],
      "metadata": {
        "id": "y7udxOiUgjyc"
      }
    },
    {
      "cell_type": "code",
      "source": [
        "my_list = [1, 2, 3, 1, 1, 1, 3, 10, 5, 8, 'Append me!', 2.73, [1, 2, 3], [10, [19, 20], 30]]\n",
        "\n",
        "# Remove the element which you want to \n",
        "my_list.remove([10, [19, 20], 30])\n",
        "print(my_list)"
      ],
      "metadata": {
        "id": "hUAcCg1wgp6P"
      },
      "execution_count": null,
      "outputs": []
    },
    {
      "cell_type": "markdown",
      "source": [
        "## index()\n",
        "The index() method returns the index of a specified element."
      ],
      "metadata": {
        "id": "-YSnCAZZhGEu"
      }
    },
    {
      "cell_type": "code",
      "source": [
        "my_list.index('Append me!')"
      ],
      "metadata": {
        "id": "nKFTPmvShIWx"
      },
      "execution_count": null,
      "outputs": []
    },
    {
      "cell_type": "markdown",
      "source": [
        "## sort()\n",
        "- Use sort() to sort the list in either ascending/descending order\n",
        "\n",
        "- The sorting is done in ascending order by default\n",
        "\n",
        "- sort() method takes the reverse boolean as an argument\n",
        "\n",
        "- sort() method only works on a list with elements of same data type"
      ],
      "metadata": {
        "id": "HficOp1yhTO0"
      }
    },
    {
      "cell_type": "code",
      "source": [
        "new_list = [6, 9, 1, 3, 5]\n",
        "\n",
        "# Use sort to sort the list (this is permanent!)\n",
        "new_list.sort()\n",
        "print(new_list)"
      ],
      "metadata": {
        "id": "uB4ygxhShZ-9"
      },
      "execution_count": null,
      "outputs": []
    },
    {
      "cell_type": "code",
      "source": [
        "# Use the reverse boolean to set the ascending or descending order\n",
        "new_list.sort(reverse=True)\n",
        "print(new_list)"
      ],
      "metadata": {
        "id": "G4gQwMafhucI"
      },
      "execution_count": null,
      "outputs": []
    },
    {
      "cell_type": "code",
      "source": [
        "boolean_list = [True, False]\n",
        "\n",
        "boolean_list.sort(reverse=True)\n",
        "print(boolean_list)"
      ],
      "metadata": {
        "id": "WetHuiiihxo1"
      },
      "execution_count": null,
      "outputs": []
    },
    {
      "cell_type": "markdown",
      "source": [
        "# reverse()\n",
        "reverse() method reverses the list"
      ],
      "metadata": {
        "id": "CPI3KHZLiJIH"
      }
    },
    {
      "cell_type": "code",
      "source": [
        "my_list = [1, 1, 1, 1, 1.43, 2, 3, 3, 5, 8, 10, 'Lubba', 'Dub Dub']\n",
        "my_list.reverse()\n",
        "print(my_list)"
      ],
      "metadata": {
        "id": "b94o6R69iK7x"
      },
      "execution_count": null,
      "outputs": []
    },
    {
      "cell_type": "markdown",
      "source": [
        "## clear() Removes all the elements from the list"
      ],
      "metadata": {
        "id": "J2um2zoHjUXG"
      }
    },
    {
      "cell_type": "markdown",
      "source": [
        "## List Functions"
      ],
      "metadata": {
        "id": "v6VCBXJdjfu1"
      }
    },
    {
      "cell_type": "markdown",
      "source": [
        "### len()- function returns the length of the list\n"
      ],
      "metadata": {
        "id": "T-o8sjALjhiI"
      }
    },
    {
      "cell_type": "code",
      "source": [
        "l_length = ['Mean Absolute Error', 'Mean Squared Error', 'Huber Loss', 'Log Loss', 'Hinge Loss', 'Kullback-Leibler']\n",
        "len(l_length)"
      ],
      "metadata": {
        "id": "GYF9QVRFjuCC"
      },
      "execution_count": null,
      "outputs": []
    },
    {
      "cell_type": "code",
      "source": [],
      "metadata": {
        "id": "NnTHdnPcjlLi"
      },
      "execution_count": null,
      "outputs": []
    },
    {
      "cell_type": "code",
      "source": [
        "fruits = ['apple', 'banana', 'cherry', 'orange']\n",
        "\n",
        "fruits.clear()\n",
        "\n",
        "print(fruits)"
      ],
      "metadata": {
        "id": "749NXw0LjYZw"
      },
      "execution_count": null,
      "outputs": []
    },
    {
      "cell_type": "markdown",
      "source": [
        "# Nested Lists- A list inside a list\n",
        "* [A [list] inside a list]."
      ],
      "metadata": {
        "id": "hPDHy9dIiWa5"
      }
    },
    {
      "cell_type": "code",
      "source": [
        "# Let's make three lists\n",
        "lst_1=[1,2,3]\n",
        "lst_2=['b','a','d']\n",
        "lst_3=[7,8,9]\n",
        "\n",
        "# Make a list of lists to form a matrix\n",
        "list_of_lists = [lst_1,lst_2,lst_3]\n",
        "print(list_of_lists)"
      ],
      "metadata": {
        "id": "XMm3ux8xinNF"
      },
      "execution_count": null,
      "outputs": []
    },
    {
      "cell_type": "code",
      "source": [
        "# Grab first item in matrix object\n",
        "list_of_lists[1]"
      ],
      "metadata": {
        "id": "IW8Lje1Li0ic"
      },
      "execution_count": null,
      "outputs": []
    },
    {
      "cell_type": "code",
      "source": [
        "list_of_lists[1][1]"
      ],
      "metadata": {
        "id": "p0m_UOOWi6C5"
      },
      "execution_count": null,
      "outputs": []
    }
  ]
}