{
  "nbformat": 4,
  "nbformat_minor": 0,
  "metadata": {
    "colab": {
      "provenance": [],
      "authorship_tag": "ABX9TyOL66zeY6M1uOm3eu9pGbd9",
      "include_colab_link": true
    },
    "kernelspec": {
      "name": "python3",
      "display_name": "Python 3"
    },
    "language_info": {
      "name": "python"
    }
  },
  "cells": [
    {
      "cell_type": "markdown",
      "metadata": {
        "id": "view-in-github",
        "colab_type": "text"
      },
      "source": [
        "<a href=\"https://colab.research.google.com/github/kanika214/PYTHON_TOPICS/blob/main/about_python_kanika.ipynb\" target=\"_parent\"><img src=\"https://colab.research.google.com/assets/colab-badge.svg\" alt=\"Open In Colab\"/></a>"
      ]
    },
    {
      "cell_type": "markdown",
      "source": [
        "# 'Srings' - An immutable sequence data type"
      ],
      "metadata": {
        "id": "7sZo1VnLHx9E"
      }
    },
    {
      "cell_type": "markdown",
      "source": [
        "### len() function counts all of the characters in the string, including spaces and punctuation"
      ],
      "metadata": {
        "id": "zLbBt3E7Oc8T"
      }
    },
    {
      "cell_type": "code",
      "execution_count": 3,
      "metadata": {
        "colab": {
          "base_uri": "https://localhost:8080/"
        },
        "id": "xh-CuyVd7qnT",
        "outputId": "60e14a4c-c8c1-446c-887a-a6296abce888"
      },
      "outputs": [
        {
          "output_type": "stream",
          "name": "stdout",
          "text": [
            "Hello world!\n",
            "hello\n",
            "world\n"
          ]
        },
        {
          "output_type": "execute_result",
          "data": {
            "text/plain": [
              "12"
            ]
          },
          "metadata": {},
          "execution_count": 3
        }
      ],
      "source": [
        "#creating a string\n",
        "Python = 'Hello world!'\n",
        "print(Python)\n",
        "\n",
        "#type of variable\n",
        "type(Python)\n",
        "\n",
        "# break into new line \\n\n",
        "print('hello\\nworld')\n",
        "\n",
        "len(Python)"
      ]
    },
    {
      "cell_type": "markdown",
      "source": [
        "# String Indexing\n",
        "\n",
        "* We know strings are a sequence, which means Python can use indexes to call parts of the sequence.\n",
        "* A string index refers to the location of an element present in a string.\n",
        "* In Python, we use brackets [] after an object to call its index."
      ],
      "metadata": {
        "id": "gfuTqkwzfvuZ"
      }
    },
    {
      "cell_type": "code",
      "source": [
        "string_index1 = 'I am very confident'\n",
        "print(string_index1[0])\n",
        "\n",
        "#last element in index\n",
        "print(string_index1[-1])"
      ],
      "metadata": {
        "colab": {
          "base_uri": "https://localhost:8080/"
        },
        "id": "wIISmcqPfuyS",
        "outputId": "aacfee15-5ea0-4e64-88d3-dc23d40e45a3"
      },
      "execution_count": 4,
      "outputs": [
        {
          "output_type": "stream",
          "name": "stdout",
          "text": [
            "I\n",
            "t\n"
          ]
        }
      ]
    },
    {
      "cell_type": "markdown",
      "source": [
        "# String Slicing\n",
        "\n",
        "*   **colon(:)** (to perform slicing which grabs everything up to a designated point)\n",
        "* element located at the right index is not included like [1:5]--> 1 to 4 it will show."
      ],
      "metadata": {
        "id": "dlvQV1O_gqli"
      }
    },
    {
      "cell_type": "code",
      "source": [
        "str_slc = 'I am very happy'\n",
        "print(str_slc[1:5])\n",
        "\n",
        "\n",
        "\n",
        "print(str_slc[:16])\n",
        "\n",
        "# to end\n",
        "print(str_slc[1:])\n",
        "\n",
        "\n",
        "#Everything\n",
        "print(str_slc[:])\n",
        "len(str_slc)"
      ],
      "metadata": {
        "colab": {
          "base_uri": "https://localhost:8080/"
        },
        "id": "10SX8DAuNQtx",
        "outputId": "275742f3-51a0-4a0e-fbb4-99dae11fb409"
      },
      "execution_count": 7,
      "outputs": [
        {
          "output_type": "stream",
          "name": "stdout",
          "text": [
            " am \n",
            "I am very happy\n",
            " am very happy\n",
            "I am very happy\n"
          ]
        },
        {
          "output_type": "execute_result",
          "data": {
            "text/plain": [
              "15"
            ]
          },
          "metadata": {},
          "execution_count": 7
        }
      ]
    },
    {
      "cell_type": "code",
      "source": [
        "#we can use the index -4 to extract the FOURTH LAST element\n",
        "\n",
        "print(str_slc[-4])"
      ],
      "metadata": {
        "colab": {
          "base_uri": "https://localhost:8080/"
        },
        "id": "P6azMyJyw1PZ",
        "outputId": "eccbef71-8295-41f5-8ab6-15ccc439e711"
      },
      "execution_count": 8,
      "outputs": [
        {
          "output_type": "stream",
          "name": "stdout",
          "text": [
            "a\n"
          ]
        }
      ]
    },
    {
      "cell_type": "code",
      "source": [
        "## Grab everything, but go in steps size of 1\n",
        "print(str_slc[::1])\n",
        "\n",
        "print(str_slc[::2])\n",
        "\n",
        "# Grab everything, but go in step sizes of 5\n",
        "print(str_slc[5:15:5])       #(start:stop:step)"
      ],
      "metadata": {
        "colab": {
          "base_uri": "https://localhost:8080/"
        },
        "id": "ZtT3NiXZ_6KE",
        "outputId": "63b4a410-13ef-41c1-ecef-797c91ffb396"
      },
      "execution_count": 9,
      "outputs": [
        {
          "output_type": "stream",
          "name": "stdout",
          "text": [
            "I am very happy\n",
            "Ia eyhpy\n",
            "vh\n"
          ]
        }
      ]
    },
    {
      "cell_type": "markdown",
      "source": [
        "# Reverse a string."
      ],
      "metadata": {
        "id": "kj9OPyklE8xR"
      }
    },
    {
      "cell_type": "code",
      "source": [
        "print(str_slc)"
      ],
      "metadata": {
        "colab": {
          "base_uri": "https://localhost:8080/"
        },
        "id": "ja-VBw_PFJ-y",
        "outputId": "9a7354ba-194c-4ab9-d068-dd30a9694274"
      },
      "execution_count": 10,
      "outputs": [
        {
          "output_type": "stream",
          "name": "stdout",
          "text": [
            "I am very happy\n"
          ]
        }
      ]
    },
    {
      "cell_type": "code",
      "source": [
        "#reverse of string using slicing\n",
        "print(str_slc[::-1])    # start from -1 then go to 0th index"
      ],
      "metadata": {
        "colab": {
          "base_uri": "https://localhost:8080/"
        },
        "id": "9wKloV0-E8G7",
        "outputId": "f77ad26c-cf1b-4cbe-c10a-2f20eb2c10fc"
      },
      "execution_count": 11,
      "outputs": [
        {
          "output_type": "stream",
          "name": "stdout",
          "text": [
            "yppah yrev ma I\n"
          ]
        }
      ]
    },
    {
      "cell_type": "markdown",
      "source": [
        "## **split()** method Splits the **\"string\"** at the specified separator, and returns a **\"list\"**"
      ],
      "metadata": {
        "id": "qeF2oUzG9TvU"
      }
    },
    {
      "cell_type": "code",
      "source": [
        "st_splt = 'i am an aspiring data scienctist'\n",
        "print(st_splt.split())"
      ],
      "metadata": {
        "colab": {
          "base_uri": "https://localhost:8080/"
        },
        "id": "TWjjRzF29f5R",
        "outputId": "43c871a7-3d83-4f1b-a763-ae7dbeb2fccf"
      },
      "execution_count": 12,
      "outputs": [
        {
          "output_type": "stream",
          "name": "stdout",
          "text": [
            "['i', 'am', 'an', 'aspiring', 'data', 'scienctist']\n"
          ]
        }
      ]
    },
    {
      "cell_type": "markdown",
      "source": [
        "###**join() method** returns a string by joining all the elements of an iterable (list, string, tuple), separated by the given separator."
      ],
      "metadata": {
        "id": "-LRGgCF0-BKr"
      }
    },
    {
      "cell_type": "code",
      "source": [
        "text = ['Python', 'is', 'a', 'fun', 'programming', 'language']\n",
        "\n",
        "# join elements of text with space\n",
        "print(' '.join(text))\n"
      ],
      "metadata": {
        "colab": {
          "base_uri": "https://localhost:8080/"
        },
        "id": "Mzqnb1DDASdn",
        "outputId": "27755de3-e8c0-46a0-8f83-18365fa56062"
      },
      "execution_count": 13,
      "outputs": [
        {
          "output_type": "stream",
          "name": "stdout",
          "text": [
            "Python is a fun programming language\n"
          ]
        }
      ]
    },
    {
      "cell_type": "code",
      "source": [
        "i = ['1','2','3']\n",
        "print(''.join(i))"
      ],
      "metadata": {
        "colab": {
          "base_uri": "https://localhost:8080/"
        },
        "id": "DtyNB19IBAc8",
        "outputId": "f0cc1921-3494-49e6-be2f-9600ae40e5e4"
      },
      "execution_count": 14,
      "outputs": [
        {
          "output_type": "stream",
          "name": "stdout",
          "text": [
            "123\n"
          ]
        }
      ]
    },
    {
      "cell_type": "markdown",
      "source": [
        "# Reverse a string without changing the position of words."
      ],
      "metadata": {
        "id": "OsiZvV5HHcTy"
      }
    },
    {
      "cell_type": "code",
      "source": [
        "string = 'GOOD LUCK'\n",
        "split = string.split()\n",
        "emp_str = \"\"\n",
        "for i in split:\n",
        "  emp_str = emp_str+' '+i[::-1]\n",
        "print(emp_str)\n",
        "\n"
      ],
      "metadata": {
        "colab": {
          "base_uri": "https://localhost:8080/"
        },
        "id": "UjK0bbTg__n2",
        "outputId": "d1ccbe55-a5df-47f0-e282-bdb62a275cb2"
      },
      "execution_count": 15,
      "outputs": [
        {
          "output_type": "stream",
          "name": "stdout",
          "text": [
            " DOOG KCUL\n"
          ]
        }
      ]
    },
    {
      "cell_type": "code",
      "source": [
        "#using function\n",
        "def rev_str(text):\n",
        "  sp=text.split()\n",
        "  emp=\"\"\n",
        "  for char in sp:\n",
        "    emp=emp+' '+char[::-1]\n",
        "  return emp\n",
        "rev_str('I HAVE MY DREAM JOB')\n"
      ],
      "metadata": {
        "colab": {
          "base_uri": "https://localhost:8080/",
          "height": 36
        },
        "id": "4fU84JfOcRg1",
        "outputId": "fda8689e-a02d-4a76-b3b4-bc827cda570e"
      },
      "execution_count": 16,
      "outputs": [
        {
          "output_type": "execute_result",
          "data": {
            "text/plain": [
              "' I EVAH YM MAERD BOJ'"
            ],
            "application/vnd.google.colaboratory.intrinsic+json": {
              "type": "string"
            }
          },
          "metadata": {},
          "execution_count": 16
        }
      ]
    },
    {
      "cell_type": "markdown",
      "source": [
        "# concatenate strings!"
      ],
      "metadata": {
        "id": "IwneEDhWlH3z"
      }
    },
    {
      "cell_type": "code",
      "source": [
        "str1='good'\n",
        "str2='luck'\n",
        "print(str1+' '+str2)\n",
        "\n",
        "#multiply string with int\n",
        "print(str2*3)"
      ],
      "metadata": {
        "colab": {
          "base_uri": "https://localhost:8080/"
        },
        "id": "gR6BAb0o8MAo",
        "outputId": "91908872-73e4-4045-b846-2311cf3ccf28"
      },
      "execution_count": 17,
      "outputs": [
        {
          "output_type": "stream",
          "name": "stdout",
          "text": [
            "good luck\n",
            "luckluckluck\n"
          ]
        }
      ]
    },
    {
      "cell_type": "markdown",
      "source": [
        "# String functions and methods"
      ],
      "metadata": {
        "id": "xoyDUKH1mQnY"
      }
    },
    {
      "cell_type": "markdown",
      "source": [
        "1. **len()** **function** returns the length of the string\n",
        "2. **lower()** **method** converts the string to lowercase\n",
        "3. **upper()** **method** converts the string to uppercase\n",
        "4. **count()** **method** returns the count of a string in the given string.\n",
        "\n",
        " Unlike lower() and upper() method, the count() method takes a string as an argument\n",
        "5. **find()** **method** returns the index of the first occurrence of a string present in a given string. Similar to the count() method, the find() method takes a string as an argument.\n",
        "6. **replace()** **method** takes two arguments - \n",
        "  * (i) the string to replace and\n",
        "  * (ii) the string to replace with, and returns a modified string after the operation\n",
        "7. **capitalize():** method returns a string where the first character is upper case, and the rest is lower case"
      ],
      "metadata": {
        "id": "YiO2Au5SmVtS"
      }
    },
    {
      "cell_type": "code",
      "source": [
        "#1. len() function\n",
        "str_len = 'I am learning python'\n",
        "print(len(str_len))"
      ],
      "metadata": {
        "id": "DPD6BHAMmTJA",
        "colab": {
          "base_uri": "https://localhost:8080/"
        },
        "outputId": "4c5c2502-1e4f-4a1b-bfbb-a94b7a7db838"
      },
      "execution_count": 18,
      "outputs": [
        {
          "output_type": "stream",
          "name": "stdout",
          "text": [
            "20\n"
          ]
        }
      ]
    },
    {
      "cell_type": "code",
      "source": [
        "#2.lower() method\n",
        "str_low = 'ALL THE BEST'\n",
        "str_low.lower()"
      ],
      "metadata": {
        "colab": {
          "base_uri": "https://localhost:8080/",
          "height": 36
        },
        "id": "a2jei4ehnNLJ",
        "outputId": "1634ff49-4557-4377-e0af-0e9229d78784"
      },
      "execution_count": 19,
      "outputs": [
        {
          "output_type": "execute_result",
          "data": {
            "text/plain": [
              "'all the best'"
            ],
            "application/vnd.google.colaboratory.intrinsic+json": {
              "type": "string"
            }
          },
          "metadata": {},
          "execution_count": 19
        }
      ]
    },
    {
      "cell_type": "code",
      "source": [
        "#3. upper() method\n",
        "str_up = 'i am very happy'\n",
        "print(str_up.upper())\n"
      ],
      "metadata": {
        "colab": {
          "base_uri": "https://localhost:8080/"
        },
        "id": "msJwOusQnqks",
        "outputId": "8295edf1-a6ac-4f60-805a-7abeedd37af2"
      },
      "execution_count": 20,
      "outputs": [
        {
          "output_type": "stream",
          "name": "stdout",
          "text": [
            "I AM VERY HAPPY\n"
          ]
        }
      ]
    },
    {
      "cell_type": "code",
      "source": [
        "#4. count() method\n",
        "str_cnt = 'i am happy that i am learning python and sql'\n",
        "print(str_cnt.count('i am')) "
      ],
      "metadata": {
        "colab": {
          "base_uri": "https://localhost:8080/"
        },
        "id": "crrDvZVjoMUr",
        "outputId": "81e78aed-4f41-4e65-dcae-7d88710f0128"
      },
      "execution_count": 21,
      "outputs": [
        {
          "output_type": "stream",
          "name": "stdout",
          "text": [
            "2\n"
          ]
        }
      ]
    },
    {
      "cell_type": "code",
      "source": [
        "#5. find() method\n",
        "str_find = 'i am improving my coding skills'\n",
        "print(str_find.find('c'))\n",
        "\n",
        "\n",
        "\n",
        "#find method will return a value of -1 if string is not there\n",
        "str_find.find('z')"
      ],
      "metadata": {
        "id": "h8x4jw4ZoymI",
        "colab": {
          "base_uri": "https://localhost:8080/"
        },
        "outputId": "4a4ce2f5-b943-4be2-e446-66fe4504159f"
      },
      "execution_count": 22,
      "outputs": [
        {
          "output_type": "stream",
          "name": "stdout",
          "text": [
            "18\n"
          ]
        },
        {
          "output_type": "execute_result",
          "data": {
            "text/plain": [
              "-1"
            ]
          },
          "metadata": {},
          "execution_count": 22
        }
      ]
    },
    {
      "cell_type": "code",
      "source": [
        "#6. replace() method, takes 2 argument\n",
        "str_rplc = 'all the best'\n",
        "print(str_rplc.replace('best','good luck'))"
      ],
      "metadata": {
        "colab": {
          "base_uri": "https://localhost:8080/"
        },
        "id": "NuHvN03bzf08",
        "outputId": "9a329d76-0caf-4996-f083-179c3a93ffb0"
      },
      "execution_count": 23,
      "outputs": [
        {
          "output_type": "stream",
          "name": "stdout",
          "text": [
            "all the good luck\n"
          ]
        }
      ]
    },
    {
      "cell_type": "code",
      "source": [
        "#7. capitalize() method\n",
        "str_capital = 'kanika raj'\n",
        "print(str_capital.capitalize())"
      ],
      "metadata": {
        "id": "3_5_prF-EKyE",
        "colab": {
          "base_uri": "https://localhost:8080/"
        },
        "outputId": "c6209fdf-3071-460d-f7f3-66b3411bb490"
      },
      "execution_count": 24,
      "outputs": [
        {
          "output_type": "stream",
          "name": "stdout",
          "text": [
            "Kanika raj\n"
          ]
        }
      ]
    },
    {
      "cell_type": "markdown",
      "source": [
        "### **isalnum()** Returns True if all characters in the string are alphanumeric\n",
        "\n",
        "###**isalpha()** Returns True if all characters in the string are in the alphabet\n",
        "\n",
        "###**isdigit()** Returns True if all characters in the string are digits"
      ],
      "metadata": {
        "id": "v1dC3_BC7LZR"
      }
    },
    {
      "cell_type": "code",
      "source": [
        "is_num = \"kanikaraj\"\n",
        "\n",
        "x = is_num.isalnum()\n",
        "print(x)\n",
        "\n",
        "isnm = 'kanikaraj@@'\n",
        "print(isnm.isalnum())"
      ],
      "metadata": {
        "colab": {
          "base_uri": "https://localhost:8080/"
        },
        "id": "a2AHZgD-7ZVi",
        "outputId": "8f9741e4-9ee4-4f3c-d9d4-eb0a8f36cf75"
      },
      "execution_count": 25,
      "outputs": [
        {
          "output_type": "stream",
          "name": "stdout",
          "text": [
            "True\n",
            "False\n"
          ]
        }
      ]
    },
    {
      "cell_type": "code",
      "source": [
        "txt = \"CompanyX\"\n",
        "\n",
        "x = txt.isalpha()\n",
        "\n",
        "print(x)"
      ],
      "metadata": {
        "colab": {
          "base_uri": "https://localhost:8080/"
        },
        "id": "YBDlMIL38BtQ",
        "outputId": "8364e27d-d8d5-4333-8f54-6ba0a438c335"
      },
      "execution_count": 26,
      "outputs": [
        {
          "output_type": "stream",
          "name": "stdout",
          "text": [
            "True\n"
          ]
        }
      ]
    },
    {
      "cell_type": "code",
      "source": [
        "txt = \"50800\"\n",
        "\n",
        "x = txt.isdigit()\n",
        "\n",
        "print(x)"
      ],
      "metadata": {
        "colab": {
          "base_uri": "https://localhost:8080/"
        },
        "id": "ib9z8iIU8IvZ",
        "outputId": "12dec4d7-e5d1-4297-a4b7-0cd928428729"
      },
      "execution_count": 27,
      "outputs": [
        {
          "output_type": "stream",
          "name": "stdout",
          "text": [
            "True\n"
          ]
        }
      ]
    },
    {
      "cell_type": "markdown",
      "source": [
        "## swapcase() Swaps cases, lower case becomes upper case and vice versa."
      ],
      "metadata": {
        "id": "sOgBGFtn8PmY"
      }
    },
    {
      "cell_type": "code",
      "source": [
        "txt = \"HeLLO,WeLCOME\"\n",
        "\n",
        "x = txt.swapcase()\n",
        "\n",
        "print(x)"
      ],
      "metadata": {
        "colab": {
          "base_uri": "https://localhost:8080/"
        },
        "id": "hNnNqJhV8Mhq",
        "outputId": "36ee03a0-1f99-48a7-903b-9db842973ee1"
      },
      "execution_count": 28,
      "outputs": [
        {
          "output_type": "stream",
          "name": "stdout",
          "text": [
            "hEllo,wElcome\n"
          ]
        }
      ]
    },
    {
      "cell_type": "markdown",
      "source": [
        "## **zfill()** Fills the string with a specified number of 0 values at the beginning"
      ],
      "metadata": {
        "id": "3enqPF4X80tM"
      }
    },
    {
      "cell_type": "code",
      "source": [
        "txt = \"5\"\n",
        "\n",
        "x = txt.zfill(2)\n",
        "\n",
        "print(x)"
      ],
      "metadata": {
        "colab": {
          "base_uri": "https://localhost:8080/"
        },
        "id": "ebMikBs684pN",
        "outputId": "a645fcf0-0066-4f44-a889-327921080a33"
      },
      "execution_count": 29,
      "outputs": [
        {
          "output_type": "stream",
          "name": "stdout",
          "text": [
            "05\n"
          ]
        }
      ]
    },
    {
      "cell_type": "markdown",
      "source": [
        "# Printing strings a bit differently"
      ],
      "metadata": {
        "id": "yOytPq2I0KUm"
      }
    },
    {
      "cell_type": "code",
      "source": [
        "f_name = 'kanika'\n",
        "l_name = 'raj'\n",
        "print(f'merge both the strings:-  {f_name} {l_name}')"
      ],
      "metadata": {
        "colab": {
          "base_uri": "https://localhost:8080/"
        },
        "id": "lP8zU8zK0F0n",
        "outputId": "3d5adb51-5ef6-4d3b-b2b7-38d0be3aa715"
      },
      "execution_count": 30,
      "outputs": [
        {
          "output_type": "stream",
          "name": "stdout",
          "text": [
            "merge both the strings:-  kanika raj\n"
          ]
        }
      ]
    },
    {
      "cell_type": "code",
      "source": [
        "print(f_name+' '+l_name)"
      ],
      "metadata": {
        "id": "dDWqayZU0-sW",
        "colab": {
          "base_uri": "https://localhost:8080/"
        },
        "outputId": "c73c84dc-39af-47dd-8936-3b0260c2f74c"
      },
      "execution_count": 31,
      "outputs": [
        {
          "output_type": "stream",
          "name": "stdout",
          "text": [
            "kanika raj\n"
          ]
        }
      ]
    },
    {
      "cell_type": "markdown",
      "source": [
        "## Check if any word is present in the given string or not"
      ],
      "metadata": {
        "id": "4PvheDw6_mdh"
      }
    },
    {
      "cell_type": "markdown",
      "source": [
        "**To check the certain phrase in a string we use *IN* and *NOT IN* keyword**"
      ],
      "metadata": {
        "id": "Qy6LqPw8CgsA"
      }
    },
    {
      "cell_type": "code",
      "source": [
        "st_wrd = 'i am learning python from basic and soon i will learn advance'\n",
        "if 'soon' in st_wrd:\n",
        "    print('True')\n",
        "else:\n",
        "    print('n.a')"
      ],
      "metadata": {
        "colab": {
          "base_uri": "https://localhost:8080/"
        },
        "id": "h_BzxcGx5ghI",
        "outputId": "021eb051-b01b-4baf-9692-99a0db991ccd"
      },
      "execution_count": 32,
      "outputs": [
        {
          "output_type": "stream",
          "name": "stdout",
          "text": [
            "True\n"
          ]
        }
      ]
    },
    {
      "cell_type": "markdown",
      "source": [
        "# List- A list is a collection of similar or different types of data.\n",
        "\n",
        "* **List items are ordered, mutable, and allow duplicate values.**\n"
      ],
      "metadata": {
        "id": "PjvEtlIIBY1E"
      }
    },
    {
      "cell_type": "code",
      "source": [
        "list1 = ['a','1','b','2']\n",
        "print(list1)\n",
        "\n",
        "#check item\n",
        "if i in list1:\n",
        "  print('yes')\n"
      ],
      "metadata": {
        "colab": {
          "base_uri": "https://localhost:8080/"
        },
        "id": "zJ4_89quC5nV",
        "outputId": "df598f66-22e9-47cd-8495-58813303255f"
      },
      "execution_count": 33,
      "outputs": [
        {
          "output_type": "stream",
          "name": "stdout",
          "text": [
            "['a', '1', 'b', '2']\n"
          ]
        }
      ]
    },
    {
      "cell_type": "markdown",
      "source": [
        "### Add Elements to a Python List:\n",
        "\n",
        "* **+**\n",
        "* **append()**\n",
        "* **join()**\n",
        "* **insert()** - method inserts an element to the list at the specified index\n",
        "* **extend()** - to add all items of one list to another "
      ],
      "metadata": {
        "id": "e1WRtlN9Ico2"
      }
    },
    {
      "cell_type": "code",
      "source": [
        "#Add item into a list\n",
        "l1 = ['Fname','lname','dob','email']+['mobile_no']\n",
        "print(l1)\n"
      ],
      "metadata": {
        "colab": {
          "base_uri": "https://localhost:8080/"
        },
        "id": "F0gqQLWEH-_v",
        "outputId": "21364955-cc00-47b2-b451-2fbabee2a249"
      },
      "execution_count": 34,
      "outputs": [
        {
          "output_type": "stream",
          "name": "stdout",
          "text": [
            "['Fname', 'lname', 'dob', 'email', 'mobile_no']\n"
          ]
        }
      ]
    },
    {
      "cell_type": "code",
      "source": [
        "#2.append()\n",
        "num_ap = [1,2,3,4,5]\n",
        "num_ap.append(6)\n",
        "print(num_ap)"
      ],
      "metadata": {
        "colab": {
          "base_uri": "https://localhost:8080/"
        },
        "id": "1HYO141tR8jS",
        "outputId": "66fe5300-d525-4319-da3f-68a8ecfe2786"
      },
      "execution_count": 35,
      "outputs": [
        {
          "output_type": "stream",
          "name": "stdout",
          "text": [
            "[1, 2, 3, 4, 5, 6]\n"
          ]
        }
      ]
    },
    {
      "cell_type": "code",
      "source": [
        "#3.join()\n",
        "l_j = ['hello','kanika_raj']\n",
        "print(' '.join(l_j))"
      ],
      "metadata": {
        "colab": {
          "base_uri": "https://localhost:8080/"
        },
        "id": "VzAS7DH6Smt5",
        "outputId": "ced7a392-108a-420e-c3ec-5f52478730f7"
      },
      "execution_count": 36,
      "outputs": [
        {
          "output_type": "stream",
          "name": "stdout",
          "text": [
            "hello kanika_raj\n"
          ]
        }
      ]
    },
    {
      "cell_type": "code",
      "source": [
        "#4.insert()\n",
        "vowel = ['a', 'e', 'i', 'u']\n",
        "vowel.insert(3, 'o')\n",
        "print(vowel)"
      ],
      "metadata": {
        "colab": {
          "base_uri": "https://localhost:8080/"
        },
        "id": "kl2P15R4TuWk",
        "outputId": "b1fc218a-809e-4b66-a8a5-b3ee88d74179"
      },
      "execution_count": 37,
      "outputs": [
        {
          "output_type": "stream",
          "name": "stdout",
          "text": [
            "['a', 'e', 'i', 'o', 'u']\n"
          ]
        }
      ]
    },
    {
      "cell_type": "code",
      "source": [
        "#5. extend()\n",
        "prime_numbers = [2, 3, 5]\n",
        "numbers = [1, 4]\n",
        "numbers.extend(prime_numbers)\n",
        "print(numbers)"
      ],
      "metadata": {
        "colab": {
          "base_uri": "https://localhost:8080/"
        },
        "id": "Z_6WeShCU0kh",
        "outputId": "6ea10497-66ec-4b2f-ee7e-d44eef2ea2ff"
      },
      "execution_count": 38,
      "outputs": [
        {
          "output_type": "stream",
          "name": "stdout",
          "text": [
            "[1, 4, 2, 3, 5]\n"
          ]
        }
      ]
    },
    {
      "cell_type": "code",
      "source": [
        "# Print all items in the list, one by one:\n",
        "litems= ['a','b','c']\n",
        "for i in litems:\n",
        "  print(i)"
      ],
      "metadata": {
        "colab": {
          "base_uri": "https://localhost:8080/"
        },
        "id": "6rBHQFHKegnj",
        "outputId": "b6949f7f-2f5c-4286-c93f-560b6e12683e"
      },
      "execution_count": 39,
      "outputs": [
        {
          "output_type": "stream",
          "name": "stdout",
          "text": [
            "a\n",
            "b\n",
            "c\n"
          ]
        }
      ]
    },
    {
      "cell_type": "code",
      "source": [
        "# Print all items by referring to their index number:\n",
        "list_index = [\"a\", \"b\", \"c\"]\n",
        "for i in range(len(list_index)):\n",
        "  print(list_index[i])"
      ],
      "metadata": {
        "colab": {
          "base_uri": "https://localhost:8080/"
        },
        "id": "X3GwbwwueuqQ",
        "outputId": "1ed9e538-7988-4834-ec67-c280b0a7d9a9"
      },
      "execution_count": 40,
      "outputs": [
        {
          "output_type": "stream",
          "name": "stdout",
          "text": [
            "a\n",
            "b\n",
            "c\n"
          ]
        }
      ]
    },
    {
      "cell_type": "code",
      "source": [
        "# Print all items, using a while loop to go through all the index numbers\n",
        "\n",
        "thislist = [\"apple\", \"banana\", \"cherry\"]\n",
        "i = 0\n",
        "while i < len(thislist):\n",
        "  print(thislist[i])\n",
        "  i = i + 1"
      ],
      "metadata": {
        "colab": {
          "base_uri": "https://localhost:8080/"
        },
        "id": "fcXeq0sse_Tb",
        "outputId": "d1f9d858-b91a-4cc3-9373-eec44fc508a3"
      },
      "execution_count": 41,
      "outputs": [
        {
          "output_type": "stream",
          "name": "stdout",
          "text": [
            "apple\n",
            "banana\n",
            "cherry\n"
          ]
        }
      ]
    },
    {
      "cell_type": "code",
      "source": [
        "# Looping using list comprehention\n",
        "\n",
        "thislist = [\"apple\", \"banana\", \"cherry\"]\n",
        "print([i for i in thislist])"
      ],
      "metadata": {
        "colab": {
          "base_uri": "https://localhost:8080/"
        },
        "id": "MQZvF20PfGj3",
        "outputId": "7b0ecb14-8ca2-4d4b-d277-bad46dacb5ce"
      },
      "execution_count": 42,
      "outputs": [
        {
          "output_type": "stream",
          "name": "stdout",
          "text": [
            "['apple', 'banana', 'cherry']\n"
          ]
        }
      ]
    },
    {
      "cell_type": "markdown",
      "source": [
        "## List methods\n",
        "* pop() - to \"pop off\" an item from the list.\n",
        "\n",
        " By default pop() takes off the element at the last index, but you can also specify which index to pop off.\n",
        "* remove()\n",
        "* count()\n",
        "* index()\n",
        "* sort()\n",
        "* reverse()\n"
      ],
      "metadata": {
        "id": "rVbJ4thGG20c"
      }
    },
    {
      "cell_type": "code",
      "source": [
        "#1. pop()\n",
        "my_list = [1, 2, 3, 1, 1, 1, 3, 10, 5, 8, 'Append me!', 2.73, [1, 2, 3], [10, [19, 20], 30]]\n",
        "\n",
        "# Pop off the 0 indexed item\n",
        "my_list.pop()"
      ],
      "metadata": {
        "id": "-o3RjYYIfo9s",
        "colab": {
          "base_uri": "https://localhost:8080/"
        },
        "outputId": "11088e03-9a51-403b-c4f8-a40d46e67b3f"
      },
      "execution_count": 43,
      "outputs": [
        {
          "output_type": "execute_result",
          "data": {
            "text/plain": [
              "[10, [19, 20], 30]"
            ]
          },
          "metadata": {},
          "execution_count": 43
        }
      ]
    },
    {
      "cell_type": "code",
      "source": [
        "# Assign the popped element, remember default popped index is -1\n",
        "my_list.pop(11)"
      ],
      "metadata": {
        "id": "77TzuaOEgWMx",
        "colab": {
          "base_uri": "https://localhost:8080/"
        },
        "outputId": "29da5fcc-e1ae-464c-d22f-5782b19e3283"
      },
      "execution_count": 44,
      "outputs": [
        {
          "output_type": "execute_result",
          "data": {
            "text/plain": [
              "2.73"
            ]
          },
          "metadata": {},
          "execution_count": 44
        }
      ]
    },
    {
      "cell_type": "markdown",
      "source": [
        "## Use remove() to remove an item/element from the list.\n",
        "* By default remove() removes the specified element from the list.\n",
        "\n",
        "* remove() takes the element as an argument."
      ],
      "metadata": {
        "id": "y7udxOiUgjyc"
      }
    },
    {
      "cell_type": "code",
      "source": [
        "my_list = [1, 2, 3, 1, 1, 1, 3, 10, 5, 8, 'Append me!', 2.73, [1, 2, 3], [10, [19, 20], 30]]\n",
        "\n",
        "# Remove the element which you want to \n",
        "my_list.remove([10, [19, 20], 30])\n",
        "print(my_list)"
      ],
      "metadata": {
        "id": "hUAcCg1wgp6P",
        "colab": {
          "base_uri": "https://localhost:8080/"
        },
        "outputId": "981c4287-1cbc-4d88-af6d-1f1055d57931"
      },
      "execution_count": 45,
      "outputs": [
        {
          "output_type": "stream",
          "name": "stdout",
          "text": [
            "[1, 2, 3, 1, 1, 1, 3, 10, 5, 8, 'Append me!', 2.73, [1, 2, 3]]\n"
          ]
        }
      ]
    },
    {
      "cell_type": "markdown",
      "source": [
        "## index()\n",
        "The index() method returns the index of a specified element."
      ],
      "metadata": {
        "id": "-YSnCAZZhGEu"
      }
    },
    {
      "cell_type": "code",
      "source": [
        "my_list.index('Append me!')"
      ],
      "metadata": {
        "id": "nKFTPmvShIWx",
        "colab": {
          "base_uri": "https://localhost:8080/"
        },
        "outputId": "ffcf6545-3b1a-409a-d455-7185b3f17f47"
      },
      "execution_count": 46,
      "outputs": [
        {
          "output_type": "execute_result",
          "data": {
            "text/plain": [
              "10"
            ]
          },
          "metadata": {},
          "execution_count": 46
        }
      ]
    },
    {
      "cell_type": "markdown",
      "source": [
        "## sort()\n",
        "- Use sort() to sort the list in either ascending/descending order\n",
        "\n",
        "- The sorting is done in ascending order by default\n",
        "\n",
        "- sort() method takes the reverse boolean as an argument\n",
        "\n",
        "- sort() method only works on a list with elements of same data type"
      ],
      "metadata": {
        "id": "HficOp1yhTO0"
      }
    },
    {
      "cell_type": "code",
      "source": [
        "new_list = [6, 9, 1, 3, 5]\n",
        "\n",
        "# Use sort to sort the list (this is permanent!)\n",
        "new_list.sort()\n",
        "print(new_list)"
      ],
      "metadata": {
        "id": "uB4ygxhShZ-9",
        "colab": {
          "base_uri": "https://localhost:8080/"
        },
        "outputId": "5a0bf54d-9ec8-40ef-e640-4a6e760eb9c0"
      },
      "execution_count": 47,
      "outputs": [
        {
          "output_type": "stream",
          "name": "stdout",
          "text": [
            "[1, 3, 5, 6, 9]\n"
          ]
        }
      ]
    },
    {
      "cell_type": "code",
      "source": [
        "# Use the reverse boolean to set the ascending or descending order\n",
        "new_list.sort(reverse=True)\n",
        "print(new_list)"
      ],
      "metadata": {
        "id": "G4gQwMafhucI",
        "colab": {
          "base_uri": "https://localhost:8080/"
        },
        "outputId": "0a1a2785-3b20-465a-8ee4-e03a9a0b532d"
      },
      "execution_count": 48,
      "outputs": [
        {
          "output_type": "stream",
          "name": "stdout",
          "text": [
            "[9, 6, 5, 3, 1]\n"
          ]
        }
      ]
    },
    {
      "cell_type": "code",
      "source": [
        "boolean_list = [True, False]\n",
        "\n",
        "boolean_list.sort(reverse=True)\n",
        "print(boolean_list)"
      ],
      "metadata": {
        "id": "WetHuiiihxo1",
        "colab": {
          "base_uri": "https://localhost:8080/"
        },
        "outputId": "0cd76b20-e384-4334-aeef-e3f0085ae8a5"
      },
      "execution_count": 49,
      "outputs": [
        {
          "output_type": "stream",
          "name": "stdout",
          "text": [
            "[True, False]\n"
          ]
        }
      ]
    },
    {
      "cell_type": "markdown",
      "source": [
        "# reverse()\n",
        "reverse() method reverses the list"
      ],
      "metadata": {
        "id": "CPI3KHZLiJIH"
      }
    },
    {
      "cell_type": "code",
      "source": [
        "my_list = [1, 1, 1, 1, 1.43, 2, 3, 3, 5, 8, 10, 'Lubba', 'Dub Dub']\n",
        "my_list.reverse()\n",
        "print(my_list)"
      ],
      "metadata": {
        "id": "b94o6R69iK7x",
        "colab": {
          "base_uri": "https://localhost:8080/"
        },
        "outputId": "b755a651-1b34-4fb6-8dd6-f00a797b206a"
      },
      "execution_count": 50,
      "outputs": [
        {
          "output_type": "stream",
          "name": "stdout",
          "text": [
            "['Dub Dub', 'Lubba', 10, 8, 5, 3, 3, 2, 1.43, 1, 1, 1, 1]\n"
          ]
        }
      ]
    },
    {
      "cell_type": "markdown",
      "source": [
        "## clear() Removes all the elements from the list"
      ],
      "metadata": {
        "id": "J2um2zoHjUXG"
      }
    },
    {
      "cell_type": "markdown",
      "source": [
        "## List Functions"
      ],
      "metadata": {
        "id": "v6VCBXJdjfu1"
      }
    },
    {
      "cell_type": "markdown",
      "source": [
        "### len()- function returns the length of the list\n"
      ],
      "metadata": {
        "id": "T-o8sjALjhiI"
      }
    },
    {
      "cell_type": "code",
      "source": [
        "l_length = ['Mean Absolute Error', 'Mean Squared Error', 'Huber Loss', 'Log Loss', 'Hinge Loss', 'Kullback-Leibler']\n",
        "len(l_length)"
      ],
      "metadata": {
        "id": "GYF9QVRFjuCC",
        "colab": {
          "base_uri": "https://localhost:8080/"
        },
        "outputId": "bf646787-5f7d-4fe2-a750-bcbcd8fc1167"
      },
      "execution_count": 51,
      "outputs": [
        {
          "output_type": "execute_result",
          "data": {
            "text/plain": [
              "6"
            ]
          },
          "metadata": {},
          "execution_count": 51
        }
      ]
    },
    {
      "cell_type": "code",
      "source": [
        "fruits = ['apple', 'banana', 'cherry', 'orange']\n",
        "\n",
        "fruits.clear()\n",
        "\n",
        "print(fruits)"
      ],
      "metadata": {
        "id": "749NXw0LjYZw",
        "colab": {
          "base_uri": "https://localhost:8080/"
        },
        "outputId": "85b9e0f9-ef49-4e41-9642-fe502ace87cd"
      },
      "execution_count": 52,
      "outputs": [
        {
          "output_type": "stream",
          "name": "stdout",
          "text": [
            "[]\n"
          ]
        }
      ]
    },
    {
      "cell_type": "markdown",
      "source": [
        "# Nested Lists- A list inside a list\n",
        "* [A [list] inside a list]."
      ],
      "metadata": {
        "id": "hPDHy9dIiWa5"
      }
    },
    {
      "cell_type": "code",
      "source": [
        "# Let's make three lists\n",
        "lst_1=[1,2,3]\n",
        "lst_2=['b','a','d']\n",
        "lst_3=[7,8,9]\n",
        "\n",
        "# Make a list of lists to form a matrix\n",
        "list_of_lists = [lst_1,lst_2,lst_3]\n",
        "print(list_of_lists)"
      ],
      "metadata": {
        "id": "XMm3ux8xinNF",
        "colab": {
          "base_uri": "https://localhost:8080/"
        },
        "outputId": "b63e5809-80aa-4e3d-a3a8-c1d3d48d9221"
      },
      "execution_count": 53,
      "outputs": [
        {
          "output_type": "stream",
          "name": "stdout",
          "text": [
            "[[1, 2, 3], ['b', 'a', 'd'], [7, 8, 9]]\n"
          ]
        }
      ]
    },
    {
      "cell_type": "code",
      "source": [
        "# Grab first item in matrix object\n",
        "list_of_lists[1]"
      ],
      "metadata": {
        "id": "IW8Lje1Li0ic",
        "colab": {
          "base_uri": "https://localhost:8080/"
        },
        "outputId": "525eec4b-015d-4d8d-b784-d34125ee928c"
      },
      "execution_count": 54,
      "outputs": [
        {
          "output_type": "execute_result",
          "data": {
            "text/plain": [
              "['b', 'a', 'd']"
            ]
          },
          "metadata": {},
          "execution_count": 54
        }
      ]
    },
    {
      "cell_type": "code",
      "source": [
        "list_of_lists[1][1]"
      ],
      "metadata": {
        "id": "p0m_UOOWi6C5",
        "colab": {
          "base_uri": "https://localhost:8080/",
          "height": 36
        },
        "outputId": "0435fe39-0c34-40ea-f9ef-3c88018f03fc"
      },
      "execution_count": 55,
      "outputs": [
        {
          "output_type": "execute_result",
          "data": {
            "text/plain": [
              "'a'"
            ],
            "application/vnd.google.colaboratory.intrinsic+json": {
              "type": "string"
            }
          },
          "metadata": {},
          "execution_count": 55
        }
      ]
    }
  ]
}