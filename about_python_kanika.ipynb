{
  "nbformat": 4,
  "nbformat_minor": 0,
  "metadata": {
    "colab": {
      "provenance": [],
      "authorship_tag": "ABX9TyOKUV5JgS5wmAOtATKH9Dqs",
      "include_colab_link": true
    },
    "kernelspec": {
      "name": "python3",
      "display_name": "Python 3"
    },
    "language_info": {
      "name": "python"
    }
  },
  "cells": [
    {
      "cell_type": "markdown",
      "metadata": {
        "id": "view-in-github",
        "colab_type": "text"
      },
      "source": [
        "<a href=\"https://colab.research.google.com/github/kanika214/PYTHON_TOPICS/blob/main/about_python_kanika.ipynb\" target=\"_parent\"><img src=\"https://colab.research.google.com/assets/colab-badge.svg\" alt=\"Open In Colab\"/></a>"
      ]
    },
    {
      "cell_type": "markdown",
      "source": [
        "# 'Srings' - An immutable sequence data type"
      ],
      "metadata": {
        "id": "7sZo1VnLHx9E"
      }
    },
    {
      "cell_type": "markdown",
      "source": [
        "### len() function counts all of the characters in the string, including spaces and punctuation"
      ],
      "metadata": {
        "id": "zLbBt3E7Oc8T"
      }
    },
    {
      "cell_type": "code",
      "execution_count": null,
      "metadata": {
        "colab": {
          "base_uri": "https://localhost:8080/"
        },
        "id": "xh-CuyVd7qnT",
        "outputId": "b6927f67-9c2e-4dba-eb9c-5a2a1e56b4d7"
      },
      "outputs": [
        {
          "output_type": "stream",
          "name": "stdout",
          "text": [
            "Hello world!\n",
            "hello\n",
            "world\n"
          ]
        },
        {
          "output_type": "execute_result",
          "data": {
            "text/plain": [
              "12"
            ]
          },
          "metadata": {},
          "execution_count": 1
        }
      ],
      "source": [
        "#creating a string\n",
        "Python = 'Hello world!'\n",
        "print(Python)\n",
        "\n",
        "#type of variable\n",
        "type(Python)\n",
        "\n",
        "# break into new line \\n\n",
        "print('hello\\nworld')\n",
        "\n",
        "len(Python)"
      ]
    },
    {
      "cell_type": "markdown",
      "source": [
        "# String Indexing\n",
        "\n",
        "* We know strings are a sequence, which means Python can use indexes to call parts of the sequence.\n",
        "* A string index refers to the location of an element present in a string.\n",
        "* In Python, we use brackets [] after an object to call its index."
      ],
      "metadata": {
        "id": "gfuTqkwzfvuZ"
      }
    },
    {
      "cell_type": "code",
      "source": [
        "string_index1 = 'I am very confident'\n",
        "print(string_index1[0])\n",
        "\n",
        "#last element in index\n",
        "print(string_index1[-1])"
      ],
      "metadata": {
        "colab": {
          "base_uri": "https://localhost:8080/"
        },
        "id": "wIISmcqPfuyS",
        "outputId": "2b7047de-f2cd-4cc9-ce1b-230915e7097a"
      },
      "execution_count": null,
      "outputs": [
        {
          "output_type": "stream",
          "name": "stdout",
          "text": [
            "I\n",
            "t\n"
          ]
        }
      ]
    },
    {
      "cell_type": "markdown",
      "source": [
        "# String Slicing\n",
        "\n",
        "*   **colon(:)** (to perform slicing which grabs everything up to a designated point)\n",
        "* element located at the right index is not included like [1:5]--> 1 to 4 it will show."
      ],
      "metadata": {
        "id": "dlvQV1O_gqli"
      }
    },
    {
      "cell_type": "code",
      "source": [
        "str_slc = 'I am very happy'\n",
        "print(str_slc[1:5])\n",
        "\n",
        "\n",
        "\n",
        "print(str_slc[:16])\n",
        "\n",
        "# to end\n",
        "print(str_slc[1:])\n",
        "\n",
        "\n",
        "#Everything\n",
        "print(str_slc[:])\n",
        "len(str_slc)"
      ],
      "metadata": {
        "colab": {
          "base_uri": "https://localhost:8080/"
        },
        "id": "10SX8DAuNQtx",
        "outputId": "c7cdc432-4967-4667-88f3-e36d5bbec697"
      },
      "execution_count": null,
      "outputs": [
        {
          "output_type": "stream",
          "name": "stdout",
          "text": [
            " am \n",
            "I am very happy\n",
            " am very happy\n",
            "I am very happy\n"
          ]
        },
        {
          "output_type": "execute_result",
          "data": {
            "text/plain": [
              "15"
            ]
          },
          "metadata": {},
          "execution_count": 3
        }
      ]
    },
    {
      "cell_type": "code",
      "source": [
        "#we can use the index -4 to extract the FOURTH LAST element\n",
        "\n",
        "print(str_slc[-4])"
      ],
      "metadata": {
        "colab": {
          "base_uri": "https://localhost:8080/"
        },
        "id": "P6azMyJyw1PZ",
        "outputId": "517e04c5-6cb9-4e94-e84a-23715dc42a2f"
      },
      "execution_count": null,
      "outputs": [
        {
          "output_type": "stream",
          "name": "stdout",
          "text": [
            "a\n"
          ]
        }
      ]
    },
    {
      "cell_type": "code",
      "source": [
        "## Grab everything, but go in steps size of 1\n",
        "print(str_slc[::1])\n",
        "\n",
        "print(str_slc[::2])\n",
        "\n",
        "# Grab everything, but go in step sizes of 5\n",
        "print(str_slc[5:15:5])       #(start:stop:step)"
      ],
      "metadata": {
        "colab": {
          "base_uri": "https://localhost:8080/"
        },
        "id": "ZtT3NiXZ_6KE",
        "outputId": "5d1d0948-2104-4818-c0b1-bb4061235d85"
      },
      "execution_count": null,
      "outputs": [
        {
          "output_type": "stream",
          "name": "stdout",
          "text": [
            "I am very happy\n",
            "Ia eyhpy\n",
            "vh\n"
          ]
        }
      ]
    },
    {
      "cell_type": "markdown",
      "source": [
        "# Reverse a string."
      ],
      "metadata": {
        "id": "kj9OPyklE8xR"
      }
    },
    {
      "cell_type": "code",
      "source": [
        "print(str_slc)"
      ],
      "metadata": {
        "colab": {
          "base_uri": "https://localhost:8080/"
        },
        "id": "ja-VBw_PFJ-y",
        "outputId": "65e198cd-99af-4ad3-d8de-dd3ed5a6a071"
      },
      "execution_count": null,
      "outputs": [
        {
          "output_type": "stream",
          "name": "stdout",
          "text": [
            "I am very happy\n"
          ]
        }
      ]
    },
    {
      "cell_type": "code",
      "source": [
        "#reverse of string using slicing\n",
        "print(str_slc[::-1])    # start from -1 then go to 0th index"
      ],
      "metadata": {
        "colab": {
          "base_uri": "https://localhost:8080/"
        },
        "id": "9wKloV0-E8G7",
        "outputId": "646a5422-509c-4721-af7d-a9fd74e646e3"
      },
      "execution_count": null,
      "outputs": [
        {
          "output_type": "stream",
          "name": "stdout",
          "text": [
            "yppah yrev ma I\n"
          ]
        }
      ]
    },
    {
      "cell_type": "markdown",
      "source": [
        "## **split()** method Splits the **\"string\"** at the specified separator, and returns a **\"list\"**"
      ],
      "metadata": {
        "id": "qeF2oUzG9TvU"
      }
    },
    {
      "cell_type": "code",
      "source": [
        "st_splt = 'i am an aspiring data scienctist'\n",
        "print(st_splt.split())"
      ],
      "metadata": {
        "colab": {
          "base_uri": "https://localhost:8080/"
        },
        "id": "TWjjRzF29f5R",
        "outputId": "53bddb50-fa68-43f2-e93a-ef054ddb8955"
      },
      "execution_count": null,
      "outputs": [
        {
          "output_type": "stream",
          "name": "stdout",
          "text": [
            "['i', 'am', 'an', 'aspiring', 'data', 'scienctist']\n"
          ]
        }
      ]
    },
    {
      "cell_type": "markdown",
      "source": [
        "###**join() method** returns a string by joining all the elements of an iterable (list, string, tuple), separated by the given separator."
      ],
      "metadata": {
        "id": "-LRGgCF0-BKr"
      }
    },
    {
      "cell_type": "code",
      "source": [
        "text = ['Python', 'is', 'a', 'fun', 'programming', 'language']\n",
        "\n",
        "# join elements of text with space\n",
        "print(' '.join(text))\n"
      ],
      "metadata": {
        "colab": {
          "base_uri": "https://localhost:8080/"
        },
        "id": "Mzqnb1DDASdn",
        "outputId": "4005485f-6252-4ee9-de91-2e01f0392eb7"
      },
      "execution_count": null,
      "outputs": [
        {
          "output_type": "stream",
          "name": "stdout",
          "text": [
            "Python is a fun programming language\n"
          ]
        }
      ]
    },
    {
      "cell_type": "code",
      "source": [
        "i = ['1','2','3']\n",
        "print(''.join(i))"
      ],
      "metadata": {
        "colab": {
          "base_uri": "https://localhost:8080/"
        },
        "id": "DtyNB19IBAc8",
        "outputId": "417a0527-a2eb-4758-ebf3-1f5170789de2"
      },
      "execution_count": null,
      "outputs": [
        {
          "output_type": "stream",
          "name": "stdout",
          "text": [
            "123\n"
          ]
        }
      ]
    },
    {
      "cell_type": "markdown",
      "source": [
        "# Reverse a string without changing the position of words."
      ],
      "metadata": {
        "id": "OsiZvV5HHcTy"
      }
    },
    {
      "cell_type": "code",
      "source": [
        "string = 'GOOD LUCK'\n",
        "split = string.split()\n",
        "emp_str = \"\"\n",
        "for i in split:\n",
        "  emp_str = emp_str+' '+i[::-1]\n",
        "print(emp_str)\n",
        "\n"
      ],
      "metadata": {
        "colab": {
          "base_uri": "https://localhost:8080/"
        },
        "id": "UjK0bbTg__n2",
        "outputId": "2e238f8c-6964-4912-ae0e-33621a7a9d60"
      },
      "execution_count": null,
      "outputs": [
        {
          "output_type": "stream",
          "name": "stdout",
          "text": [
            " DOOG KCUL\n"
          ]
        }
      ]
    },
    {
      "cell_type": "code",
      "source": [
        "#using function\n",
        "def rev_str(text):\n",
        "  sp=text.split()\n",
        "  emp=\"\"\n",
        "  for char in sp:\n",
        "    emp=emp+' '+char[::-1]\n",
        "  return emp\n",
        "rev_str('I HAVE MY DREAM JOB')\n"
      ],
      "metadata": {
        "colab": {
          "base_uri": "https://localhost:8080/",
          "height": 36
        },
        "id": "4fU84JfOcRg1",
        "outputId": "6cd4d12a-34d2-4e2e-c630-255468ba069b"
      },
      "execution_count": null,
      "outputs": [
        {
          "output_type": "execute_result",
          "data": {
            "text/plain": [
              "' I EVAH YM MAERD BOJ'"
            ],
            "application/vnd.google.colaboratory.intrinsic+json": {
              "type": "string"
            }
          },
          "metadata": {},
          "execution_count": 12
        }
      ]
    },
    {
      "cell_type": "markdown",
      "source": [
        "# concatenate strings!"
      ],
      "metadata": {
        "id": "IwneEDhWlH3z"
      }
    },
    {
      "cell_type": "code",
      "source": [
        "str1='good'\n",
        "str2='luck'\n",
        "print(str1+' '+str2)\n",
        "\n",
        "#multiply string with int\n",
        "print(str2*3)"
      ],
      "metadata": {
        "colab": {
          "base_uri": "https://localhost:8080/"
        },
        "id": "gR6BAb0o8MAo",
        "outputId": "8463a46e-942c-4893-97a3-ad2d83e14456"
      },
      "execution_count": null,
      "outputs": [
        {
          "output_type": "stream",
          "name": "stdout",
          "text": [
            "good luck\n",
            "luckluckluck\n"
          ]
        }
      ]
    },
    {
      "cell_type": "markdown",
      "source": [
        "# String functions and methods"
      ],
      "metadata": {
        "id": "xoyDUKH1mQnY"
      }
    },
    {
      "cell_type": "markdown",
      "source": [
        "1. **len()** **function** returns the length of the string\n",
        "2. **lower()** **method** converts the string to lowercase\n",
        "3. **upper()** **method** converts the string to uppercase\n",
        "4. **count()** **method** returns the count of a string in the given string.\n",
        "\n",
        " Unlike lower() and upper() method, the count() method takes a string as an argument\n",
        "5. **find()** **method** returns the index of the first occurrence of a string present in a given string. Similar to the count() method, the find() method takes a string as an argument.\n",
        "6. **replace()** **method** takes two arguments - \n",
        "  * (i) the string to replace and\n",
        "  * (ii) the string to replace with, and returns a modified string after the operation\n",
        "7. **capitalize():** method returns a string where the first character is upper case, and the rest is lower case"
      ],
      "metadata": {
        "id": "YiO2Au5SmVtS"
      }
    },
    {
      "cell_type": "code",
      "source": [
        "#1. len() function\n",
        "str_len = 'I am learning python'\n",
        "print(len(str_len))"
      ],
      "metadata": {
        "id": "DPD6BHAMmTJA",
        "colab": {
          "base_uri": "https://localhost:8080/"
        },
        "outputId": "7fa7f97b-45d3-4066-e4e5-7627b4067f50"
      },
      "execution_count": null,
      "outputs": [
        {
          "output_type": "stream",
          "name": "stdout",
          "text": [
            "20\n"
          ]
        }
      ]
    },
    {
      "cell_type": "code",
      "source": [
        "#2.lower() method\n",
        "str_low = 'ALL THE BEST'\n",
        "str_low.lower()"
      ],
      "metadata": {
        "colab": {
          "base_uri": "https://localhost:8080/",
          "height": 36
        },
        "id": "a2jei4ehnNLJ",
        "outputId": "ab370b59-2c76-4d4f-830c-b796f87c57b3"
      },
      "execution_count": null,
      "outputs": [
        {
          "output_type": "execute_result",
          "data": {
            "text/plain": [
              "'all the best'"
            ],
            "application/vnd.google.colaboratory.intrinsic+json": {
              "type": "string"
            }
          },
          "metadata": {},
          "execution_count": 15
        }
      ]
    },
    {
      "cell_type": "code",
      "source": [
        "#3. upper() method\n",
        "str_up = 'i am very happy'\n",
        "print(str_up.upper())\n"
      ],
      "metadata": {
        "colab": {
          "base_uri": "https://localhost:8080/"
        },
        "id": "msJwOusQnqks",
        "outputId": "89c12237-cc6f-42a0-aa26-808dd9b61001"
      },
      "execution_count": null,
      "outputs": [
        {
          "output_type": "stream",
          "name": "stdout",
          "text": [
            "I AM VERY HAPPY\n"
          ]
        }
      ]
    },
    {
      "cell_type": "code",
      "source": [
        "#4. count() method\n",
        "str_cnt = 'i am happy that i am learning python and sql'\n",
        "print(str_cnt.count('i am')) "
      ],
      "metadata": {
        "colab": {
          "base_uri": "https://localhost:8080/"
        },
        "id": "crrDvZVjoMUr",
        "outputId": "ffa4530a-40b7-4abf-8ccc-2c1eeb567698"
      },
      "execution_count": null,
      "outputs": [
        {
          "output_type": "stream",
          "name": "stdout",
          "text": [
            "2\n"
          ]
        }
      ]
    },
    {
      "cell_type": "code",
      "source": [
        "#5. find() method\n",
        "str_find = 'i am improving my coding skills'\n",
        "print(str_find.find('c'))\n",
        "\n",
        "\n",
        "\n",
        "#find method will return a value of -1 if string is not there\n",
        "str_find.find('z')"
      ],
      "metadata": {
        "id": "h8x4jw4ZoymI",
        "colab": {
          "base_uri": "https://localhost:8080/"
        },
        "outputId": "7956e4fb-e572-4c8f-a835-638aa9fff424"
      },
      "execution_count": null,
      "outputs": [
        {
          "output_type": "stream",
          "name": "stdout",
          "text": [
            "18\n"
          ]
        },
        {
          "output_type": "execute_result",
          "data": {
            "text/plain": [
              "-1"
            ]
          },
          "metadata": {},
          "execution_count": 18
        }
      ]
    },
    {
      "cell_type": "code",
      "source": [
        "#6. replace() method, takes 2 argument\n",
        "str_rplc = 'all the best'\n",
        "print(str_rplc.replace('best','good luck'))"
      ],
      "metadata": {
        "colab": {
          "base_uri": "https://localhost:8080/"
        },
        "id": "NuHvN03bzf08",
        "outputId": "93a61398-e67c-4f9a-9cdd-703d6f8c9c69"
      },
      "execution_count": null,
      "outputs": [
        {
          "output_type": "stream",
          "name": "stdout",
          "text": [
            "all the good luck\n"
          ]
        }
      ]
    },
    {
      "cell_type": "code",
      "source": [
        "#7. capitalize() method\n",
        "str_capital = 'kanika raj'\n",
        "print(str_capital.capitalize())"
      ],
      "metadata": {
        "id": "3_5_prF-EKyE",
        "colab": {
          "base_uri": "https://localhost:8080/"
        },
        "outputId": "cbc95cfb-bbd1-4317-c6e8-9d3b5c26542a"
      },
      "execution_count": null,
      "outputs": [
        {
          "output_type": "stream",
          "name": "stdout",
          "text": [
            "Kanika raj\n"
          ]
        }
      ]
    },
    {
      "cell_type": "markdown",
      "source": [
        "### **isalnum()** Returns True if all characters in the string are alphanumeric\n",
        "\n",
        "###**isalpha()** Returns True if all characters in the string are in the alphabet\n",
        "\n",
        "###**isdigit()** Returns True if all characters in the string are digits"
      ],
      "metadata": {
        "id": "v1dC3_BC7LZR"
      }
    },
    {
      "cell_type": "code",
      "source": [
        "is_num = \"kanikaraj\"\n",
        "\n",
        "x = is_num.isalnum()\n",
        "print(x)\n",
        "\n",
        "isnm = 'kanikaraj@@'\n",
        "print(isnm.isalnum())"
      ],
      "metadata": {
        "colab": {
          "base_uri": "https://localhost:8080/"
        },
        "id": "a2AHZgD-7ZVi",
        "outputId": "12a34802-1c6b-4284-cc21-c1730eab59f2"
      },
      "execution_count": null,
      "outputs": [
        {
          "output_type": "stream",
          "name": "stdout",
          "text": [
            "True\n",
            "False\n"
          ]
        }
      ]
    },
    {
      "cell_type": "code",
      "source": [
        "txt = \"CompanyX\"\n",
        "\n",
        "x = txt.isalpha()\n",
        "\n",
        "print(x)"
      ],
      "metadata": {
        "colab": {
          "base_uri": "https://localhost:8080/"
        },
        "id": "YBDlMIL38BtQ",
        "outputId": "80fe31cf-ed3a-47bf-e7f6-6cedb5f9631f"
      },
      "execution_count": null,
      "outputs": [
        {
          "output_type": "stream",
          "name": "stdout",
          "text": [
            "True\n"
          ]
        }
      ]
    },
    {
      "cell_type": "code",
      "source": [
        "txt = \"50800\"\n",
        "\n",
        "x = txt.isdigit()\n",
        "\n",
        "print(x)"
      ],
      "metadata": {
        "colab": {
          "base_uri": "https://localhost:8080/"
        },
        "id": "ib9z8iIU8IvZ",
        "outputId": "f0002a9d-0745-408f-871f-7368fdd4dd0f"
      },
      "execution_count": null,
      "outputs": [
        {
          "output_type": "stream",
          "name": "stdout",
          "text": [
            "True\n"
          ]
        }
      ]
    },
    {
      "cell_type": "markdown",
      "source": [
        "## swapcase() Swaps cases, lower case becomes upper case and vice versa."
      ],
      "metadata": {
        "id": "sOgBGFtn8PmY"
      }
    },
    {
      "cell_type": "code",
      "source": [
        "txt = \"HeLLO,WeLCOME\"\n",
        "\n",
        "x = txt.swapcase()\n",
        "\n",
        "print(x)"
      ],
      "metadata": {
        "colab": {
          "base_uri": "https://localhost:8080/"
        },
        "id": "hNnNqJhV8Mhq",
        "outputId": "d6ea2749-ce4d-42c5-8e1d-de30ca757484"
      },
      "execution_count": null,
      "outputs": [
        {
          "output_type": "stream",
          "name": "stdout",
          "text": [
            "hEllo,wElcome\n"
          ]
        }
      ]
    },
    {
      "cell_type": "markdown",
      "source": [
        "## **zfill()** Fills the string with a specified number of 0 values at the beginning"
      ],
      "metadata": {
        "id": "3enqPF4X80tM"
      }
    },
    {
      "cell_type": "code",
      "source": [
        "txt = \"5\"\n",
        "\n",
        "x = txt.zfill(2)\n",
        "\n",
        "print(x)"
      ],
      "metadata": {
        "colab": {
          "base_uri": "https://localhost:8080/"
        },
        "id": "ebMikBs684pN",
        "outputId": "0519ebe7-72f7-4b63-f1b9-dcc989ed5cf9"
      },
      "execution_count": null,
      "outputs": [
        {
          "output_type": "stream",
          "name": "stdout",
          "text": [
            "05\n"
          ]
        }
      ]
    },
    {
      "cell_type": "markdown",
      "source": [
        "# Printing strings a bit differently"
      ],
      "metadata": {
        "id": "yOytPq2I0KUm"
      }
    },
    {
      "cell_type": "code",
      "source": [
        "f_name = 'kanika'\n",
        "l_name = 'raj'\n",
        "print(f'merge both the strings:-  {f_name} {l_name}')"
      ],
      "metadata": {
        "colab": {
          "base_uri": "https://localhost:8080/"
        },
        "id": "lP8zU8zK0F0n",
        "outputId": "8b638d01-abc2-47c3-c38e-8255db74d2bb"
      },
      "execution_count": null,
      "outputs": [
        {
          "output_type": "stream",
          "name": "stdout",
          "text": [
            "merge both the strings:-  kanika raj\n"
          ]
        }
      ]
    },
    {
      "cell_type": "code",
      "source": [
        "print(f_name+' '+l_name)"
      ],
      "metadata": {
        "id": "dDWqayZU0-sW",
        "colab": {
          "base_uri": "https://localhost:8080/"
        },
        "outputId": "cb16ac9c-4c92-4c26-de75-ac03bba73a89"
      },
      "execution_count": null,
      "outputs": [
        {
          "output_type": "stream",
          "name": "stdout",
          "text": [
            "kanika raj\n"
          ]
        }
      ]
    },
    {
      "cell_type": "markdown",
      "source": [
        "## Check if any word is present in the given string or not"
      ],
      "metadata": {
        "id": "4PvheDw6_mdh"
      }
    },
    {
      "cell_type": "markdown",
      "source": [
        "**To check the certain phrase in a string we use *IN* and *NOT IN* keyword**"
      ],
      "metadata": {
        "id": "Qy6LqPw8CgsA"
      }
    },
    {
      "cell_type": "code",
      "source": [
        "st_wrd = 'i am learning python from basic and soon i will learn advance'\n",
        "if 'soon' in st_wrd:\n",
        "    print('True')\n",
        "else:\n",
        "    print('n.a')"
      ],
      "metadata": {
        "colab": {
          "base_uri": "https://localhost:8080/"
        },
        "id": "h_BzxcGx5ghI",
        "outputId": "cdcdbffa-6c28-4d4f-f30c-47dad32bd657"
      },
      "execution_count": null,
      "outputs": [
        {
          "output_type": "stream",
          "name": "stdout",
          "text": [
            "True\n"
          ]
        }
      ]
    },
    {
      "cell_type": "markdown",
      "source": [
        "# List- A list is a collection of similar or different types of data.\n",
        "\n",
        "* **List items are ordered, mutable, and allow duplicate values.**\n"
      ],
      "metadata": {
        "id": "PjvEtlIIBY1E"
      }
    },
    {
      "cell_type": "code",
      "source": [
        "list1 = ['a','1','b','2']\n",
        "print(list1)\n",
        "\n",
        "#check item\n",
        "if i in list1:\n",
        "  print('yes')\n"
      ],
      "metadata": {
        "colab": {
          "base_uri": "https://localhost:8080/"
        },
        "id": "zJ4_89quC5nV",
        "outputId": "450c566c-47db-4931-a11a-c1e728c2fb51"
      },
      "execution_count": null,
      "outputs": [
        {
          "output_type": "stream",
          "name": "stdout",
          "text": [
            "['a', '1', 'b', '2']\n"
          ]
        }
      ]
    },
    {
      "cell_type": "markdown",
      "source": [
        "### Add Elements to a Python List:\n",
        "\n",
        "* **+**\n",
        "* **append()**\n",
        "* **join()**\n",
        "* **insert()** - method inserts an element to the list at the specified index\n",
        "* **extend()** - to add all items of one list to another "
      ],
      "metadata": {
        "id": "e1WRtlN9Ico2"
      }
    },
    {
      "cell_type": "code",
      "source": [
        "#Add item into a list\n",
        "l1 = ['Fname','lname','dob','email']+['mobile_no']\n",
        "print(l1)\n"
      ],
      "metadata": {
        "colab": {
          "base_uri": "https://localhost:8080/"
        },
        "id": "F0gqQLWEH-_v",
        "outputId": "c6a358be-0509-4c87-f6e3-17c2d64ee6ca"
      },
      "execution_count": null,
      "outputs": [
        {
          "output_type": "stream",
          "name": "stdout",
          "text": [
            "['Fname', 'lname', 'dob', 'email', 'mobile_no']\n"
          ]
        }
      ]
    },
    {
      "cell_type": "code",
      "source": [
        "#2.append()\n",
        "num_ap = [1,2,3,4,5]\n",
        "num_ap.append(6)\n",
        "print(num_ap)"
      ],
      "metadata": {
        "colab": {
          "base_uri": "https://localhost:8080/"
        },
        "id": "1HYO141tR8jS",
        "outputId": "05be496c-a961-44da-8699-729169a3cf30"
      },
      "execution_count": null,
      "outputs": [
        {
          "output_type": "stream",
          "name": "stdout",
          "text": [
            "[1, 2, 3, 4, 5, 6]\n"
          ]
        }
      ]
    },
    {
      "cell_type": "code",
      "source": [
        "#3.join()\n",
        "l_j = ['hello','kanika_raj']\n",
        "print(' '.join(l_j))"
      ],
      "metadata": {
        "colab": {
          "base_uri": "https://localhost:8080/"
        },
        "id": "VzAS7DH6Smt5",
        "outputId": "d88b0904-3576-4e4e-bd51-e6a439ad9cc2"
      },
      "execution_count": null,
      "outputs": [
        {
          "output_type": "stream",
          "name": "stdout",
          "text": [
            "hello kanika_raj\n"
          ]
        }
      ]
    },
    {
      "cell_type": "code",
      "source": [
        "#4.insert()\n",
        "vowel = ['a', 'e', 'i', 'u']\n",
        "vowel.insert(3, 'o')\n",
        "print(vowel)"
      ],
      "metadata": {
        "colab": {
          "base_uri": "https://localhost:8080/"
        },
        "id": "kl2P15R4TuWk",
        "outputId": "d51afa54-4a28-4f23-ab77-2bd704e43d25"
      },
      "execution_count": null,
      "outputs": [
        {
          "output_type": "stream",
          "name": "stdout",
          "text": [
            "['a', 'e', 'i', 'o', 'u']\n"
          ]
        }
      ]
    },
    {
      "cell_type": "code",
      "source": [
        "#5. extend()\n",
        "prime_numbers = [2, 3, 5]\n",
        "numbers = [1, 4]\n",
        "numbers.extend(prime_numbers)\n",
        "print(numbers)"
      ],
      "metadata": {
        "colab": {
          "base_uri": "https://localhost:8080/"
        },
        "id": "Z_6WeShCU0kh",
        "outputId": "3aa02d46-099a-402c-e5d0-cc5629ec8448"
      },
      "execution_count": null,
      "outputs": [
        {
          "output_type": "stream",
          "name": "stdout",
          "text": [
            "[1, 4, 2, 3, 5]\n"
          ]
        }
      ]
    },
    {
      "cell_type": "code",
      "source": [
        "# Print all items in the list, one by one:\n",
        "litems= ['a','b','c']\n",
        "for i in litems:\n",
        "  print(i)"
      ],
      "metadata": {
        "colab": {
          "base_uri": "https://localhost:8080/"
        },
        "id": "6rBHQFHKegnj",
        "outputId": "b159de35-64ec-4c1f-f0c5-075498ff66bc"
      },
      "execution_count": null,
      "outputs": [
        {
          "output_type": "stream",
          "name": "stdout",
          "text": [
            "a\n",
            "b\n",
            "c\n"
          ]
        }
      ]
    },
    {
      "cell_type": "code",
      "source": [
        "# Print all items by referring to their index number:\n",
        "list_index = [\"a\", \"b\", \"c\"]\n",
        "for i in range(len(list_index)):\n",
        "  print(list_index[i])"
      ],
      "metadata": {
        "colab": {
          "base_uri": "https://localhost:8080/"
        },
        "id": "X3GwbwwueuqQ",
        "outputId": "fe40eda0-9a05-4a62-fd6d-ac03b54d712d"
      },
      "execution_count": null,
      "outputs": [
        {
          "output_type": "stream",
          "name": "stdout",
          "text": [
            "a\n",
            "b\n",
            "c\n"
          ]
        }
      ]
    },
    {
      "cell_type": "code",
      "source": [
        "# Print all items, using a while loop to go through all the index numbers\n",
        "\n",
        "thislist = [\"apple\", \"banana\", \"cherry\"]\n",
        "i = 0\n",
        "while i < len(thislist):\n",
        "  print(thislist[i])\n",
        "  i = i + 1"
      ],
      "metadata": {
        "colab": {
          "base_uri": "https://localhost:8080/"
        },
        "id": "fcXeq0sse_Tb",
        "outputId": "4e95481a-172f-42e8-b458-cd130c671b69"
      },
      "execution_count": null,
      "outputs": [
        {
          "output_type": "stream",
          "name": "stdout",
          "text": [
            "apple\n",
            "banana\n",
            "cherry\n"
          ]
        }
      ]
    },
    {
      "cell_type": "code",
      "source": [
        "# Looping using list comprehention\n",
        "\n",
        "thislist = [\"apple\", \"banana\", \"cherry\"]\n",
        "print([i for i in thislist])"
      ],
      "metadata": {
        "colab": {
          "base_uri": "https://localhost:8080/"
        },
        "id": "MQZvF20PfGj3",
        "outputId": "c0bd1214-e588-448e-ba99-75449610ec4e"
      },
      "execution_count": null,
      "outputs": [
        {
          "output_type": "stream",
          "name": "stdout",
          "text": [
            "['apple', 'banana', 'cherry']\n"
          ]
        }
      ]
    },
    {
      "cell_type": "markdown",
      "source": [
        "## List methods\n",
        "* pop() - to \"pop off\" an item from the list.\n",
        "\n",
        " By default pop() takes off the element at the last index, but you can also specify which index to pop off.\n",
        "* remove()\n",
        "* count()\n",
        "* index()\n",
        "* sort()\n",
        "* reverse()\n"
      ],
      "metadata": {
        "id": "rVbJ4thGG20c"
      }
    },
    {
      "cell_type": "code",
      "source": [
        "#1. pop()\n",
        "my_list = [1, 2, 3, 1, 1, 1, 3, 10, 5, 8, 'Append me!', 2.73, [1, 2, 3], [10, [19, 20], 30]]\n",
        "\n",
        "# Pop off the 0 indexed item\n",
        "my_list.pop()"
      ],
      "metadata": {
        "id": "-o3RjYYIfo9s",
        "colab": {
          "base_uri": "https://localhost:8080/"
        },
        "outputId": "50e562db-f3c0-4cab-f907-b602167eda00"
      },
      "execution_count": null,
      "outputs": [
        {
          "output_type": "execute_result",
          "data": {
            "text/plain": [
              "[10, [19, 20], 30]"
            ]
          },
          "metadata": {},
          "execution_count": 39
        }
      ]
    },
    {
      "cell_type": "code",
      "source": [
        "# Assign the popped element, remember default popped index is -1\n",
        "my_list.pop(11)"
      ],
      "metadata": {
        "id": "77TzuaOEgWMx",
        "colab": {
          "base_uri": "https://localhost:8080/"
        },
        "outputId": "62828206-512a-4c6e-f347-454e9f16293f"
      },
      "execution_count": null,
      "outputs": [
        {
          "output_type": "execute_result",
          "data": {
            "text/plain": [
              "2.73"
            ]
          },
          "metadata": {},
          "execution_count": 40
        }
      ]
    },
    {
      "cell_type": "markdown",
      "source": [
        "## Use remove() to remove an item/element from the list.\n",
        "* By default remove() removes the specified element from the list.\n",
        "\n",
        "* remove() takes the element as an argument."
      ],
      "metadata": {
        "id": "y7udxOiUgjyc"
      }
    },
    {
      "cell_type": "code",
      "source": [
        "my_list = [1, 2, 3, 1, 1, 1, 3, 10, 5, 8, 'Append me!', 2.73, [1, 2, 3], [10, [19, 20], 30]]\n",
        "\n",
        "# Remove the element which you want to \n",
        "my_list.remove([10, [19, 20], 30])\n",
        "print(my_list)"
      ],
      "metadata": {
        "id": "hUAcCg1wgp6P",
        "colab": {
          "base_uri": "https://localhost:8080/"
        },
        "outputId": "6ea6d2d3-38c0-4fb2-ccea-fe5fec453ae6"
      },
      "execution_count": null,
      "outputs": [
        {
          "output_type": "stream",
          "name": "stdout",
          "text": [
            "[1, 2, 3, 1, 1, 1, 3, 10, 5, 8, 'Append me!', 2.73, [1, 2, 3]]\n"
          ]
        }
      ]
    },
    {
      "cell_type": "markdown",
      "source": [
        "## index()\n",
        "The index() method returns the index of a specified element."
      ],
      "metadata": {
        "id": "-YSnCAZZhGEu"
      }
    },
    {
      "cell_type": "code",
      "source": [
        "my_list.index('Append me!')"
      ],
      "metadata": {
        "id": "nKFTPmvShIWx",
        "colab": {
          "base_uri": "https://localhost:8080/"
        },
        "outputId": "542fe00e-ae86-4153-f3b7-c809aa0fcf93"
      },
      "execution_count": null,
      "outputs": [
        {
          "output_type": "execute_result",
          "data": {
            "text/plain": [
              "10"
            ]
          },
          "metadata": {},
          "execution_count": 42
        }
      ]
    },
    {
      "cell_type": "markdown",
      "source": [
        "## sort()\n",
        "- Use sort() to sort the list in either ascending/descending order\n",
        "\n",
        "- The sorting is done in ascending order by default\n",
        "\n",
        "- sort() method takes the reverse boolean as an argument\n",
        "\n",
        "- sort() method only works on a list with elements of same data type"
      ],
      "metadata": {
        "id": "HficOp1yhTO0"
      }
    },
    {
      "cell_type": "code",
      "source": [
        "new_list = [6, 9, 1, 3, 5]\n",
        "\n",
        "# Use sort to sort the list (this is permanent!)\n",
        "new_list.sort()\n",
        "print(new_list)"
      ],
      "metadata": {
        "id": "uB4ygxhShZ-9",
        "colab": {
          "base_uri": "https://localhost:8080/"
        },
        "outputId": "63922e60-2c3d-4647-fa56-4e6d57f315bc"
      },
      "execution_count": null,
      "outputs": [
        {
          "output_type": "stream",
          "name": "stdout",
          "text": [
            "[1, 3, 5, 6, 9]\n"
          ]
        }
      ]
    },
    {
      "cell_type": "code",
      "source": [
        "# Use the reverse boolean to set the ascending or descending order\n",
        "new_list.sort(reverse=True)\n",
        "print(new_list)"
      ],
      "metadata": {
        "id": "G4gQwMafhucI",
        "colab": {
          "base_uri": "https://localhost:8080/"
        },
        "outputId": "8e8249c2-8efb-4003-c2e3-3a624c507e4a"
      },
      "execution_count": null,
      "outputs": [
        {
          "output_type": "stream",
          "name": "stdout",
          "text": [
            "[9, 6, 5, 3, 1]\n"
          ]
        }
      ]
    },
    {
      "cell_type": "code",
      "source": [
        "boolean_list = [True, False]\n",
        "\n",
        "boolean_list.sort(reverse=True)\n",
        "print(boolean_list)"
      ],
      "metadata": {
        "id": "WetHuiiihxo1",
        "colab": {
          "base_uri": "https://localhost:8080/"
        },
        "outputId": "49077b06-29f0-4254-ad71-e7f2d8cc330f"
      },
      "execution_count": null,
      "outputs": [
        {
          "output_type": "stream",
          "name": "stdout",
          "text": [
            "[True, False]\n"
          ]
        }
      ]
    },
    {
      "cell_type": "markdown",
      "source": [
        "# reverse()\n",
        "reverse() method reverses the list"
      ],
      "metadata": {
        "id": "CPI3KHZLiJIH"
      }
    },
    {
      "cell_type": "code",
      "source": [
        "my_list = [1, 1, 1, 1, 1.43, 2, 3, 3, 5, 8, 10, 'Lubba', 'Dub Dub']\n",
        "my_list.reverse()\n",
        "print(my_list)"
      ],
      "metadata": {
        "id": "b94o6R69iK7x",
        "colab": {
          "base_uri": "https://localhost:8080/"
        },
        "outputId": "a597b326-0879-4943-d56e-304dcb390923"
      },
      "execution_count": null,
      "outputs": [
        {
          "output_type": "stream",
          "name": "stdout",
          "text": [
            "['Dub Dub', 'Lubba', 10, 8, 5, 3, 3, 2, 1.43, 1, 1, 1, 1]\n"
          ]
        }
      ]
    },
    {
      "cell_type": "markdown",
      "source": [
        "## clear() Removes all the elements from the list"
      ],
      "metadata": {
        "id": "J2um2zoHjUXG"
      }
    },
    {
      "cell_type": "markdown",
      "source": [
        "## List Functions"
      ],
      "metadata": {
        "id": "v6VCBXJdjfu1"
      }
    },
    {
      "cell_type": "markdown",
      "source": [
        "### len()- function returns the length of the list\n"
      ],
      "metadata": {
        "id": "T-o8sjALjhiI"
      }
    },
    {
      "cell_type": "code",
      "source": [
        "l_length = ['Mean Absolute Error', 'Mean Squared Error', 'Huber Loss', 'Log Loss', 'Hinge Loss', 'Kullback-Leibler']\n",
        "len(l_length)"
      ],
      "metadata": {
        "id": "GYF9QVRFjuCC",
        "colab": {
          "base_uri": "https://localhost:8080/"
        },
        "outputId": "36ea0c66-5c26-43c5-a0c9-de05895021f4"
      },
      "execution_count": null,
      "outputs": [
        {
          "output_type": "execute_result",
          "data": {
            "text/plain": [
              "6"
            ]
          },
          "metadata": {},
          "execution_count": 47
        }
      ]
    },
    {
      "cell_type": "code",
      "source": [
        "fruits = ['apple', 'banana', 'cherry', 'orange']\n",
        "\n",
        "fruits.clear()\n",
        "\n",
        "print(fruits)"
      ],
      "metadata": {
        "id": "749NXw0LjYZw",
        "colab": {
          "base_uri": "https://localhost:8080/"
        },
        "outputId": "5fb84ad4-1327-44ab-f9ca-8462e8f180a4"
      },
      "execution_count": null,
      "outputs": [
        {
          "output_type": "stream",
          "name": "stdout",
          "text": [
            "[]\n"
          ]
        }
      ]
    },
    {
      "cell_type": "markdown",
      "source": [
        "# Nested Lists- A list inside a list\n",
        "* [A [list] inside a list]."
      ],
      "metadata": {
        "id": "hPDHy9dIiWa5"
      }
    },
    {
      "cell_type": "code",
      "source": [
        "# Let's make three lists\n",
        "lst_1=[1,2,3]\n",
        "lst_2=['b','a','d']\n",
        "lst_3=[7,8,9]\n",
        "\n",
        "# Make a list of lists to form a matrix\n",
        "list_of_lists = [lst_1,lst_2,lst_3]\n",
        "print(list_of_lists)"
      ],
      "metadata": {
        "id": "XMm3ux8xinNF",
        "colab": {
          "base_uri": "https://localhost:8080/"
        },
        "outputId": "bc9ac356-7f94-47aa-c34d-ae7cd934a88d"
      },
      "execution_count": null,
      "outputs": [
        {
          "output_type": "stream",
          "name": "stdout",
          "text": [
            "[[1, 2, 3], ['b', 'a', 'd'], [7, 8, 9]]\n"
          ]
        }
      ]
    },
    {
      "cell_type": "code",
      "source": [
        "# Grab first item in matrix object\n",
        "list_of_lists[1]"
      ],
      "metadata": {
        "id": "IW8Lje1Li0ic",
        "colab": {
          "base_uri": "https://localhost:8080/"
        },
        "outputId": "b6c9e1ee-eab8-4735-ce78-88242a021c2f"
      },
      "execution_count": null,
      "outputs": [
        {
          "output_type": "execute_result",
          "data": {
            "text/plain": [
              "['b', 'a', 'd']"
            ]
          },
          "metadata": {},
          "execution_count": 50
        }
      ]
    },
    {
      "cell_type": "code",
      "source": [
        "list_of_lists[1][1]"
      ],
      "metadata": {
        "id": "p0m_UOOWi6C5",
        "colab": {
          "base_uri": "https://localhost:8080/",
          "height": 36
        },
        "outputId": "e5e8eba4-e64a-4e3b-9fcb-75ea2761ee0f"
      },
      "execution_count": null,
      "outputs": [
        {
          "output_type": "execute_result",
          "data": {
            "text/plain": [
              "'a'"
            ],
            "application/vnd.google.colaboratory.intrinsic+json": {
              "type": "string"
            }
          },
          "metadata": {},
          "execution_count": 51
        }
      ]
    },
    {
      "cell_type": "markdown",
      "source": [
        "## **min()**\n",
        "**min() function** returns the minimum element of the list\n",
        "\n",
        "**min() function** only works with lists of similar data types"
      ],
      "metadata": {
        "id": "8pJzUXwrUc0A"
      }
    },
    {
      "cell_type": "code",
      "source": [
        "new_list = [6, 9, 1, 3, 5.5]\n",
        "min(new_list)\n"
      ],
      "metadata": {
        "id": "abgig99PUiU3",
        "outputId": "a4af5cf8-564e-4a1a-8d4f-8270bb2ccfdd",
        "colab": {
          "base_uri": "https://localhost:8080/"
        }
      },
      "execution_count": null,
      "outputs": [
        {
          "output_type": "execute_result",
          "data": {
            "text/plain": [
              "1"
            ]
          },
          "metadata": {},
          "execution_count": 52
        }
      ]
    },
    {
      "cell_type": "code",
      "source": [
        "my_new_list = ['a','b', 'z' ,'y' , 'm']\n",
        "min(my_new_list)"
      ],
      "metadata": {
        "id": "i_9_hSfRVKa6",
        "outputId": "933089a1-8e06-4466-ccc9-2c1f5df8abe2",
        "colab": {
          "base_uri": "https://localhost:8080/",
          "height": 36
        }
      },
      "execution_count": null,
      "outputs": [
        {
          "output_type": "execute_result",
          "data": {
            "text/plain": [
              "'a'"
            ],
            "application/vnd.google.colaboratory.intrinsic+json": {
              "type": "string"
            }
          },
          "metadata": {},
          "execution_count": 54
        }
      ]
    },
    {
      "cell_type": "markdown",
      "source": [
        "## **max()**\n",
        "**max() function** returns the maximum element of the list\n",
        "\n",
        "**max() function** only works with lists of similar data types"
      ],
      "metadata": {
        "id": "d1xSGOfuVTv_"
      }
    },
    {
      "cell_type": "code",
      "source": [
        "new_list = ['Argue','Burglar','Parent','Linear','shape']\n",
        "max(new_list)"
      ],
      "metadata": {
        "id": "6JJqQ7y0Va5l",
        "outputId": "dbde39e0-553e-4d21-95c6-897056dd9fb3",
        "colab": {
          "base_uri": "https://localhost:8080/",
          "height": 36
        }
      },
      "execution_count": null,
      "outputs": [
        {
          "output_type": "execute_result",
          "data": {
            "text/plain": [
              "'shape'"
            ],
            "application/vnd.google.colaboratory.intrinsic+json": {
              "type": "string"
            }
          },
          "metadata": {},
          "execution_count": 55
        }
      ]
    },
    {
      "cell_type": "markdown",
      "source": [
        "## **sum()**\n",
        "**sum() function** returns the sum of the elements of the list\n",
        "\n",
        "**sum() function** only works with lists of numeric data types"
      ],
      "metadata": {
        "id": "SBvLEbopWUQ9"
      }
    },
    {
      "cell_type": "code",
      "source": [
        "new_list = [6, 9, 1, 3, 5.5]\n",
        "sum(new_list)"
      ],
      "metadata": {
        "id": "nJJSYEYPWaxI",
        "outputId": "0dca4576-a6c7-4b49-98a8-4cdbbdd97b41",
        "colab": {
          "base_uri": "https://localhost:8080/"
        }
      },
      "execution_count": null,
      "outputs": [
        {
          "output_type": "execute_result",
          "data": {
            "text/plain": [
              "24.5"
            ]
          },
          "metadata": {},
          "execution_count": 56
        }
      ]
    },
    {
      "cell_type": "markdown",
      "source": [
        "## sorted()\n",
        "**sorted() function** returns the sorted list\n",
        "\n",
        "**sorted() function** takes reverse boolean as an argument\n",
        "\n",
        "**sorted() function** only works on a list with similar data typesNew Section\n",
        "\n",
        "**sorted() function** does not change our list"
      ],
      "metadata": {
        "id": "0NEtyYoAW9kB"
      }
    },
    {
      "cell_type": "code",
      "source": [
        "new_list=[6, 9, 1, 3, 5.5]\n",
        "sorted(new_list)\n",
        "print(new_list)"
      ],
      "metadata": {
        "id": "murj4ArJeT7c",
        "outputId": "40eb93e8-25d1-4d56-8e2b-56573a10c3c9",
        "colab": {
          "base_uri": "https://localhost:8080/"
        }
      },
      "execution_count": null,
      "outputs": [
        {
          "output_type": "stream",
          "name": "stdout",
          "text": [
            "[6, 9, 1, 3, 5.5]\n"
          ]
        }
      ]
    },
    {
      "cell_type": "code",
      "source": [
        "new_list = ['Argue','Burglar','Parent','Linear','shape']\n",
        "sorted(new_list)"
      ],
      "metadata": {
        "id": "ulEYpX2meh77",
        "outputId": "1568b4ba-786d-4661-cb15-3ec79500c254",
        "colab": {
          "base_uri": "https://localhost:8080/"
        }
      },
      "execution_count": null,
      "outputs": [
        {
          "output_type": "execute_result",
          "data": {
            "text/plain": [
              "['Argue', 'Burglar', 'Linear', 'Parent', 'shape']"
            ]
          },
          "metadata": {},
          "execution_count": 63
        }
      ]
    },
    {
      "cell_type": "markdown",
      "source": [
        "## Tuple- Tuple items are ordered, unchangeable, and allow duplicate values.\n",
        "\n",
        "* **Tuple items are indexed, the first item has index [0], the second item has index [1] etc.**\n",
        "* **A tuple can have any number of items and they may be of different types (integer, float, list, string, etc.).**\n",
        "\n"
      ],
      "metadata": {
        "id": "4YNGdD3ifz65"
      }
    },
    {
      "cell_type": "code",
      "source": [
        "# Empty tuple\n",
        "my_tuple = ()\n",
        "print(my_tuple)\n",
        "\n",
        "# Tuple having integers\n",
        "my_tuple = (1, 2, 3)\n",
        "print(my_tuple)\n",
        "\n",
        "# tuple with mixed datatypes\n",
        "my_tuple = (1, \"Hello\", 3.4)\n",
        "print(my_tuple)\n",
        "\n",
        "# nested tuple\n",
        "my_tuple = (\"mouse\", [8, 4, 6], (1, 2, 3))\n",
        "print(my_tuple)\n",
        "type(my_tuple)"
      ],
      "metadata": {
        "colab": {
          "base_uri": "https://localhost:8080/"
        },
        "id": "zxOQP_kugoQu",
        "outputId": "7e4efac7-9109-48a7-c65f-b78bb2faa253"
      },
      "execution_count": null,
      "outputs": [
        {
          "output_type": "stream",
          "name": "stdout",
          "text": [
            "()\n",
            "(1, 2, 3)\n",
            "(1, 'Hello', 3.4)\n",
            "('mouse', [8, 4, 6], (1, 2, 3))\n"
          ]
        },
        {
          "output_type": "execute_result",
          "data": {
            "text/plain": [
              "tuple"
            ]
          },
          "metadata": {},
          "execution_count": 66
        }
      ]
    },
    {
      "cell_type": "markdown",
      "source": [
        "## Check if Item Exists"
      ],
      "metadata": {
        "id": "Sd905-TakFT0"
      }
    },
    {
      "cell_type": "code",
      "source": [
        "languages = ('Python', 'Swift', 'C++')\n",
        "\n",
        "print('C' in languages)    \n",
        "print('Python' in languages) "
      ],
      "metadata": {
        "colab": {
          "base_uri": "https://localhost:8080/"
        },
        "id": "uuI21UUukHUd",
        "outputId": "e5c5a7d1-aa70-4c01-8d56-6bbda511d54f"
      },
      "execution_count": null,
      "outputs": [
        {
          "output_type": "stream",
          "name": "stdout",
          "text": [
            "False\n",
            "True\n"
          ]
        }
      ]
    },
    {
      "cell_type": "markdown",
      "source": [
        "##**Change Tuple Values**\n",
        "\n",
        "* Once a tuple is created, you cannot change its values. Tuples are unchangeable, or immutable as it also is called.\n",
        "\n",
        "* But there is a workaround. You can convert the tuple into a list, change the list, and convert the list back into a tuple.\n"
      ],
      "metadata": {
        "id": "PP03FFCrjGl3"
      }
    },
    {
      "cell_type": "code",
      "source": [
        "x = (\"apple\", \"banana\", \"cherry\")\n",
        "y = list(x)\n",
        "y[1] = \"kiwi\"\n",
        "x = tuple(y)\n",
        "\n",
        "print(x)"
      ],
      "metadata": {
        "colab": {
          "base_uri": "https://localhost:8080/"
        },
        "id": "_6XbzbRojPdJ",
        "outputId": "c478aac2-2d6c-4124-ee84-2b13c21ef402"
      },
      "execution_count": null,
      "outputs": [
        {
          "output_type": "stream",
          "name": "stdout",
          "text": [
            "('apple', 'kiwi', 'cherry')\n"
          ]
        }
      ]
    },
    {
      "cell_type": "markdown",
      "source": [
        "## Add Items into Tuple\n",
        "\n"
      ],
      "metadata": {
        "id": "BFACrubykdIo"
      }
    },
    {
      "cell_type": "code",
      "source": [
        "thistuple = (\"apple\", \"banana\", \"cherry\")\n",
        "y = list(thistuple)\n",
        "\n",
        "#add orange\n",
        "y.append(\"orange\")\n",
        "thistuple = tuple(y)\n",
        "print(thistuple)"
      ],
      "metadata": {
        "colab": {
          "base_uri": "https://localhost:8080/"
        },
        "id": "s0evOtsFocAa",
        "outputId": "739bc029-e548-40e5-c8e6-2a79cc589564"
      },
      "execution_count": null,
      "outputs": [
        {
          "output_type": "stream",
          "name": "stdout",
          "text": [
            "('apple', 'banana', 'cherry', 'orange')\n"
          ]
        }
      ]
    },
    {
      "cell_type": "markdown",
      "source": [
        "## count()-  Returns the number of times a specified value occurs in a tuple"
      ],
      "metadata": {
        "id": "c0ONphpjojps"
      }
    },
    {
      "cell_type": "code",
      "source": [
        "thistuple = (1, 3, 7, 8, 7, 5, 4, 6, 8, 5)\n",
        "\n",
        "x = thistuple.count(5)\n",
        "\n",
        "print(x)"
      ],
      "metadata": {
        "colab": {
          "base_uri": "https://localhost:8080/"
        },
        "id": "BVxtilmKoo5K",
        "outputId": "6ea59855-cfca-404b-fb96-e7f2f6a09009"
      },
      "execution_count": null,
      "outputs": [
        {
          "output_type": "stream",
          "name": "stdout",
          "text": [
            "2\n"
          ]
        }
      ]
    },
    {
      "cell_type": "markdown",
      "source": [
        "## **index()**-  Searches the tuple for a specified value and returns the position of where it was found."
      ],
      "metadata": {
        "id": "_h1XqWDoovUs"
      }
    },
    {
      "cell_type": "code",
      "source": [
        "thistuple = (1, 3, 7, 8, 7, 5, 4, 6, 8, 5)\n",
        "\n",
        "x = thistuple.index(8)\n",
        "\n",
        "print(x)"
      ],
      "metadata": {
        "colab": {
          "base_uri": "https://localhost:8080/"
        },
        "id": "o0hXFrXao1vJ",
        "outputId": "6ca52d88-490f-4979-cfea-6fd74555f720"
      },
      "execution_count": null,
      "outputs": [
        {
          "output_type": "stream",
          "name": "stdout",
          "text": [
            "3\n"
          ]
        }
      ]
    },
    {
      "cell_type": "markdown",
      "source": [
        "## zip()\n",
        "zip() function takes multiple lists as arguments and zips them together\n",
        "\n",
        "This function returns a list of n-paired tuples where n is the number of lists being zipped"
      ],
      "metadata": {
        "id": "p5KVDaR-ALkW"
      }
    },
    {
      "cell_type": "code",
      "source": [
        "city_list = ['Delhi','Patna','Cuttack','Guwahati']\n",
        "river_list = ['Yamuna','Ganga','Mahanadi','Brahmaputra']\n",
        "city_and_their_rivers = list(zip(city_list,river_list))\n",
        "city_and_their_rivers"
      ],
      "metadata": {
        "id": "aUeiFZ_hAVFR",
        "outputId": "5bee9bcf-00ec-4f31-f884-54a977aeff1a",
        "colab": {
          "base_uri": "https://localhost:8080/"
        }
      },
      "execution_count": null,
      "outputs": [
        {
          "output_type": "execute_result",
          "data": {
            "text/plain": [
              "[('Delhi', 'Yamuna'),\n",
              " ('Patna', 'Ganga'),\n",
              " ('Cuttack', 'Mahanadi'),\n",
              " ('Guwahati', 'Brahmaputra')]"
            ]
          },
          "metadata": {},
          "execution_count": 3
        }
      ]
    },
    {
      "cell_type": "markdown",
      "source": [
        "## **Set**- **Unoredered, not use index, no dulicate values, mutable**\n",
        "\n",
        "## **set can't contain another set**\n",
        "\n",
        "## **Set items can be of any data type**"
      ],
      "metadata": {
        "id": "w6gR7pGE__3r"
      }
    },
    {
      "cell_type": "markdown",
      "source": [
        "## It is also possible to use the **set()** constructor to make a set"
      ],
      "metadata": {
        "id": "AJx6Vd7LrZzp"
      }
    },
    {
      "cell_type": "code",
      "source": [
        "# Create an empty set \n",
        "empty_set = set()\n",
        "type(empty_set)"
      ],
      "metadata": {
        "id": "52n4cpBVbyBj",
        "outputId": "051e659a-4491-4164-a12b-f80cfffc4598",
        "colab": {
          "base_uri": "https://localhost:8080/"
        }
      },
      "execution_count": null,
      "outputs": [
        {
          "output_type": "execute_result",
          "data": {
            "text/plain": [
              "set"
            ]
          },
          "metadata": {},
          "execution_count": 5
        }
      ]
    },
    {
      "cell_type": "code",
      "source": [
        "# Create a non-empty set within curly braces\n",
        "non_empty_set = {1,6,4,'abc'}\n",
        "type(non_empty_set)\n",
        "print(non_empty_set)"
      ],
      "metadata": {
        "id": "mJiqtSUopAjk",
        "outputId": "f9df9f76-cb17-4f2c-869e-80831bbcefc6",
        "colab": {
          "base_uri": "https://localhost:8080/"
        }
      },
      "execution_count": null,
      "outputs": [
        {
          "output_type": "stream",
          "name": "stdout",
          "text": [
            "{1, 'abc', 4, 6}\n"
          ]
        }
      ]
    },
    {
      "cell_type": "markdown",
      "source": [
        "## We can **cast** a **list** with multiple repeat elements to a **set** to get the **unique elements**."
      ],
      "metadata": {
        "id": "0vf4h47ppY7d"
      }
    },
    {
      "cell_type": "code",
      "source": [
        "# Create a list with repeats\n",
        "my_list = [1,1,2,2,3,4,5,6,1,1]\n",
        "\n",
        "# Cast as set to get unique values\n",
        "my_set = set(my_list)\n",
        "my_set"
      ],
      "metadata": {
        "id": "kLGB3LESpd5b",
        "outputId": "eca6bcb5-ab96-48c3-a9ec-42aac2ac22f8",
        "colab": {
          "base_uri": "https://localhost:8080/"
        }
      },
      "execution_count": null,
      "outputs": [
        {
          "output_type": "execute_result",
          "data": {
            "text/plain": [
              "{1, 2, 3, 4, 5, 6}"
            ]
          },
          "metadata": {},
          "execution_count": 9
        }
      ]
    },
    {
      "cell_type": "code",
      "source": [
        "# But we can have tuples as set elements, they are immutable\n",
        "my_setup = {1, 2, (2,3)}\n",
        "my_setup\n"
      ],
      "metadata": {
        "id": "JVSrXv9Ep1dl",
        "outputId": "9dd62933-4fa1-43e0-efc7-c854c9002d6e",
        "colab": {
          "base_uri": "https://localhost:8080/"
        }
      },
      "execution_count": null,
      "outputs": [
        {
          "output_type": "execute_result",
          "data": {
            "text/plain": [
              "{(2, 3), 1, 2}"
            ]
          },
          "metadata": {},
          "execution_count": 10
        }
      ]
    },
    {
      "cell_type": "markdown",
      "source": [
        "## Set methods\n",
        "\n",
        "* Once a set is created, cannot change its items, but can **add** new items.\n",
        "\n",
        "* **add() method** adds an element to a set\n",
        "\n",
        "* This method takes the element to be added as an argument"
      ],
      "metadata": {
        "id": "MUAi6fZ3qqOE"
      }
    },
    {
      "cell_type": "code",
      "source": [
        "# We add to sets with the add() method\n",
        "my_set = set()\n",
        "my_set.add('a')\n",
        "my_set.add('b')\n",
        "my_set.add('a')\n",
        "my_set"
      ],
      "metadata": {
        "id": "7yB2KRoQr4K5",
        "outputId": "06ce2329-648a-44f7-dcdf-2d7846a9698e",
        "colab": {
          "base_uri": "https://localhost:8080/"
        }
      },
      "execution_count": null,
      "outputs": [
        {
          "output_type": "execute_result",
          "data": {
            "text/plain": [
              "{'a', 'b'}"
            ]
          },
          "metadata": {},
          "execution_count": 16
        }
      ]
    },
    {
      "cell_type": "markdown",
      "source": [
        "## **update() method** helps to add multiple elements to a set"
      ],
      "metadata": {
        "id": "9HbOKfsAtc_X"
      }
    },
    {
      "cell_type": "code",
      "source": [
        "my_set = {5,7,9,3}\n",
        "# add multiple elements\n",
        "my_set.update([2, 3, 4])\n",
        "print(my_set)"
      ],
      "metadata": {
        "id": "FGo5-jI_tsvp",
        "outputId": "3fcade52-9634-4419-848e-df2e7d0dc98a",
        "colab": {
          "base_uri": "https://localhost:8080/"
        }
      },
      "execution_count": null,
      "outputs": [
        {
          "output_type": "stream",
          "name": "stdout",
          "text": [
            "{2, 3, 4, 5, 7, 9}\n"
          ]
        }
      ]
    },
    {
      "cell_type": "markdown",
      "source": [
        "## **remove()**- to remove an item/element from the set.\n",
        "\n",
        "* By default **remove()** removes the specified element from the set.\n",
        "\n",
        "* **remove()** takes the element as an argument.\n"
      ],
      "metadata": {
        "id": "3eN8LO8It1zU"
      }
    },
    {
      "cell_type": "code",
      "source": [
        "non_empty_set = {1,5,6,73,2}\n",
        "non_empty_set.remove(5)\n",
        "non_empty_set"
      ],
      "metadata": {
        "id": "tH6M7hO9uBQQ",
        "outputId": "83f4308f-a62d-4295-a72d-bfff6d488b2d",
        "colab": {
          "base_uri": "https://localhost:8080/"
        }
      },
      "execution_count": null,
      "outputs": [
        {
          "output_type": "execute_result",
          "data": {
            "text/plain": [
              "{1, 2, 6, 73}"
            ]
          },
          "metadata": {},
          "execution_count": 18
        }
      ]
    },
    {
      "cell_type": "markdown",
      "source": [
        "## The ***del*** keyword will delete the set completely"
      ],
      "metadata": {
        "id": "BxZI2nwDvod7"
      }
    },
    {
      "cell_type": "code",
      "source": [
        "thisset = {\"apple\", \"banana\", \"cherry\"}\n",
        "\n",
        "del thisset\n",
        "\n",
        "#print(thisset)"
      ],
      "metadata": {
        "id": "5xOK53aIvrzq"
      },
      "execution_count": null,
      "outputs": []
    },
    {
      "cell_type": "markdown",
      "source": [
        "##**union() method** returns union of two sets,denoted by the operator **|**"
      ],
      "metadata": {
        "id": "H83xC6OnuL-X"
      }
    },
    {
      "cell_type": "code",
      "source": [
        "# Initialize sets A and B and then join by union\n",
        "A = {1, 2, 3, 4, 5}\n",
        "B = {4, 5, 6, 7, 8}\n",
        "\n",
        "A.union(B)\n"
      ],
      "metadata": {
        "id": "-rEn9wEfuat9",
        "outputId": "15b277a1-29b1-4491-cfff-88063b67ebf6",
        "colab": {
          "base_uri": "https://localhost:8080/"
        }
      },
      "execution_count": null,
      "outputs": [
        {
          "output_type": "execute_result",
          "data": {
            "text/plain": [
              "{1, 2, 3, 4, 5, 6, 7, 8}"
            ]
          },
          "metadata": {},
          "execution_count": 20
        }
      ]
    },
    {
      "cell_type": "code",
      "source": [
        "# Also denoted by the operator |\n",
        "A | B"
      ],
      "metadata": {
        "id": "RaZ4dXdFuvb5",
        "outputId": "44433b8c-a448-4de1-ca02-4c6d41c26f70",
        "colab": {
          "base_uri": "https://localhost:8080/"
        }
      },
      "execution_count": null,
      "outputs": [
        {
          "output_type": "execute_result",
          "data": {
            "text/plain": [
              "{1, 2, 3, 4, 5, 6, 7, 8}"
            ]
          },
          "metadata": {},
          "execution_count": 21
        }
      ]
    },
    {
      "cell_type": "markdown",
      "source": [
        "##**intersection() method** Keep ONLY the Duplicates,denoted by operator &"
      ],
      "metadata": {
        "id": "iMppbEDnuyUO"
      }
    },
    {
      "cell_type": "code",
      "source": [
        "A = {1, 2, 3, 4, 5}\n",
        "B = {4, 5, 6, 7, 8}\n",
        "A.intersection(B)"
      ],
      "metadata": {
        "id": "CwLZRyXau-_c",
        "outputId": "777e1805-02d8-42de-ed1b-b2f48cdb418c",
        "colab": {
          "base_uri": "https://localhost:8080/"
        }
      },
      "execution_count": null,
      "outputs": [
        {
          "output_type": "execute_result",
          "data": {
            "text/plain": [
              "{4, 5}"
            ]
          },
          "metadata": {},
          "execution_count": 22
        }
      ]
    },
    {
      "cell_type": "code",
      "source": [
        "A&B"
      ],
      "metadata": {
        "id": "PzYChzEf5WVs",
        "outputId": "5dd8fec4-755c-422f-cefa-4f84dbe9fa01",
        "colab": {
          "base_uri": "https://localhost:8080/"
        }
      },
      "execution_count": null,
      "outputs": [
        {
          "output_type": "execute_result",
          "data": {
            "text/plain": [
              "{4, 5}"
            ]
          },
          "metadata": {},
          "execution_count": 26
        }
      ]
    },
    {
      "cell_type": "markdown",
      "source": [
        "## difference() method returns the difference of two sets.\n",
        "\n",
        "Difference of the set B from set A i.e, (A - B) is a set of elements that are only in A but not in B\n",
        "\n",
        "Also denoted by the operator **-**"
      ],
      "metadata": {
        "id": "qYKeCs2o5BIt"
      }
    },
    {
      "cell_type": "code",
      "source": [
        "A = {1, 2, 3, 4, 5}\n",
        "B = {4, 5, 6, 7, 8}\n",
        "print(A.difference(B))\n",
        "B.difference(A)"
      ],
      "metadata": {
        "id": "jufvi32j5Md5",
        "outputId": "02c4c7d7-01ab-42e5-b371-3db04cc3d919",
        "colab": {
          "base_uri": "https://localhost:8080/"
        }
      },
      "execution_count": null,
      "outputs": [
        {
          "output_type": "stream",
          "name": "stdout",
          "text": [
            "{1, 2, 3}\n"
          ]
        },
        {
          "output_type": "execute_result",
          "data": {
            "text/plain": [
              "{6, 7, 8}"
            ]
          },
          "metadata": {},
          "execution_count": 29
        }
      ]
    },
    {
      "cell_type": "code",
      "source": [
        "print(A-B)\n",
        "B-A"
      ],
      "metadata": {
        "id": "kyFt04925cUJ",
        "outputId": "2b9b6241-f6b6-4198-ae36-2a1dba8ddc5b",
        "colab": {
          "base_uri": "https://localhost:8080/"
        }
      },
      "execution_count": null,
      "outputs": [
        {
          "output_type": "stream",
          "name": "stdout",
          "text": [
            "{1, 2, 3}\n"
          ]
        },
        {
          "output_type": "execute_result",
          "data": {
            "text/plain": [
              "{6, 7, 8}"
            ]
          },
          "metadata": {},
          "execution_count": 30
        }
      ]
    },
    {
      "cell_type": "markdown",
      "source": [
        "## **symmetric_difference() method**- Keep All, But NOT the Duplicates(excluding the intersection)\n",
        "Also denoted by the operator **^**"
      ],
      "metadata": {
        "id": "3OXFRc5E6o-n"
      }
    },
    {
      "cell_type": "code",
      "source": [
        "A = {1, 2, 3, 4, 5}\n",
        "B = {4, 5, 6, 7, 8}\n",
        "print(B.symmetric_difference(A))\n",
        "A^B"
      ],
      "metadata": {
        "id": "9jBEw3_06u27",
        "outputId": "041495ac-c832-44dd-fe89-a800ec926bdc",
        "colab": {
          "base_uri": "https://localhost:8080/"
        }
      },
      "execution_count": null,
      "outputs": [
        {
          "output_type": "stream",
          "name": "stdout",
          "text": [
            "{1, 2, 3, 6, 7, 8}\n"
          ]
        },
        {
          "output_type": "execute_result",
          "data": {
            "text/plain": [
              "{1, 2, 3, 6, 7, 8}"
            ]
          },
          "metadata": {},
          "execution_count": 32
        }
      ]
    },
    {
      "cell_type": "markdown",
      "source": [
        "## Access set Items"
      ],
      "metadata": {
        "id": "ITsManjJ6_bk"
      }
    },
    {
      "cell_type": "code",
      "source": [
        "thisset = {\"apple\", \"banana\", \"cherry\"}\n",
        "\n",
        "for x in thisset:\n",
        "  print(x)"
      ],
      "metadata": {
        "id": "aKe1cf3j7HYZ",
        "outputId": "3a833fa1-fe01-49a3-e3c2-1698aceedbf5",
        "colab": {
          "base_uri": "https://localhost:8080/"
        }
      },
      "execution_count": null,
      "outputs": [
        {
          "output_type": "stream",
          "name": "stdout",
          "text": [
            "apple\n",
            "cherry\n",
            "banana\n"
          ]
        }
      ]
    },
    {
      "cell_type": "code",
      "source": [
        "thisset = {\"apple\", \"banana\", \"cherry\"}\n",
        "\n",
        "print(\"banana\" in thisset)\n"
      ],
      "metadata": {
        "id": "OHxQ0mzv7KzX",
        "outputId": "ec845862-3758-4fab-8a60-5bf746968486",
        "colab": {
          "base_uri": "https://localhost:8080/"
        }
      },
      "execution_count": null,
      "outputs": [
        {
          "output_type": "stream",
          "name": "stdout",
          "text": [
            "True\n"
          ]
        }
      ]
    },
    {
      "cell_type": "markdown",
      "source": [
        "## **Dictionary**\n",
        "Dictionaries are used to store data values in **key:value pairs** like **{key1:value1,key2:value2,key3:value3}**\n",
        "\n",
        "A dictionary is a collection which is **ordered**, **changeable** and **do not allow duplicates.**\n",
        "\n",
        "The values in dictionary items can be of any data type"
      ],
      "metadata": {
        "id": "BKZROrBGninv"
      }
    },
    {
      "cell_type": "code",
      "source": [
        "# Make a dictionary with {} and : to signify a key and a value\n",
        "marvel_dict = {'Name':'Thor','Place':'Asgard','Weapon' : 'Hammer', 1:2, 3 : 'power', 'alibies' : ['Ironman','Captain America'], 'abc' : {1:2, 4:5}}"
      ],
      "metadata": {
        "id": "CZteWUUhn9ne"
      },
      "execution_count": null,
      "outputs": []
    },
    {
      "cell_type": "code",
      "source": [
        "# Call values by their key\n",
        "marvel_dict['Place']"
      ],
      "metadata": {
        "id": "bnehUaSBpyJ2",
        "outputId": "65b6e6e9-6621-4a4c-d365-680a4ece34d6",
        "colab": {
          "base_uri": "https://localhost:8080/",
          "height": 36
        }
      },
      "execution_count": null,
      "outputs": [
        {
          "output_type": "execute_result",
          "data": {
            "text/plain": [
              "'Asgard'"
            ],
            "application/vnd.google.colaboratory.intrinsic+json": {
              "type": "string"
            }
          },
          "metadata": {},
          "execution_count": 2
        }
      ]
    },
    {
      "cell_type": "code",
      "source": [
        "type(marvel_dict)"
      ],
      "metadata": {
        "id": "dB0XGiqFp0rH",
        "outputId": "7e54d689-73b4-4a90-c00d-863b4d49fdb0",
        "colab": {
          "base_uri": "https://localhost:8080/"
        }
      },
      "execution_count": null,
      "outputs": [
        {
          "output_type": "execute_result",
          "data": {
            "text/plain": [
              "dict"
            ]
          },
          "metadata": {},
          "execution_count": 3
        }
      ]
    },
    {
      "cell_type": "code",
      "source": [
        "marvel_dict['Name']"
      ],
      "metadata": {
        "id": "oKsVL-kAp442",
        "outputId": "91de40fd-b52f-454c-e37f-c5200fd145b1",
        "colab": {
          "base_uri": "https://localhost:8080/",
          "height": 36
        }
      },
      "execution_count": null,
      "outputs": [
        {
          "output_type": "execute_result",
          "data": {
            "text/plain": [
              "'Thor'"
            ],
            "application/vnd.google.colaboratory.intrinsic+json": {
              "type": "string"
            }
          },
          "metadata": {},
          "execution_count": 4
        }
      ]
    },
    {
      "cell_type": "markdown",
      "source": [
        "## Dictionary Methods"
      ],
      "metadata": {
        "id": "BjYcjD7Tp-YM"
      }
    },
    {
      "cell_type": "markdown",
      "source": [
        "### **keys()**\n",
        "**keys()** method returns the list of keys in the dictionary object"
      ],
      "metadata": {
        "id": "xrsGBKMcqUg7"
      }
    },
    {
      "cell_type": "code",
      "source": [
        "marvel_dict.keys()"
      ],
      "metadata": {
        "id": "Gm5yix9eqbAe",
        "outputId": "a84cf817-792b-43f0-e561-e5ab56d0f4bb",
        "colab": {
          "base_uri": "https://localhost:8080/"
        }
      },
      "execution_count": null,
      "outputs": [
        {
          "output_type": "execute_result",
          "data": {
            "text/plain": [
              "dict_keys(['Name', 'Place', 'Weapon', 1, 3, 'alibies', 'abc'])"
            ]
          },
          "metadata": {},
          "execution_count": 5
        }
      ]
    },
    {
      "cell_type": "code",
      "source": [
        "list(marvel_dict.keys())"
      ],
      "metadata": {
        "id": "oJy9DPlcqezr",
        "outputId": "c8223c5f-6115-48b0-a6e7-1beb7f804535",
        "colab": {
          "base_uri": "https://localhost:8080/"
        }
      },
      "execution_count": null,
      "outputs": [
        {
          "output_type": "execute_result",
          "data": {
            "text/plain": [
              "['Name', 'Place', 'Weapon', 1, 3, 'alibies', 'abc']"
            ]
          },
          "metadata": {},
          "execution_count": 6
        }
      ]
    },
    {
      "cell_type": "markdown",
      "source": [
        "### **values()**method returns the list of values in the dictionary object"
      ],
      "metadata": {
        "id": "ebT-t11zqlDU"
      }
    },
    {
      "cell_type": "code",
      "source": [
        "print(marvel_dict)"
      ],
      "metadata": {
        "id": "TEMfEL7Gqq39",
        "outputId": "f04dbe45-8cdf-4a49-c2e4-b6d63b408b77",
        "colab": {
          "base_uri": "https://localhost:8080/"
        }
      },
      "execution_count": null,
      "outputs": [
        {
          "output_type": "stream",
          "name": "stdout",
          "text": [
            "{'Name': 'Thor', 'Place': 'Asgard', 'Weapon': 'Hammer', 1: 2, 3: 'power', 'alibies': ['Ironman', 'Captain America'], 'abc': {1: 2, 4: 5}}\n"
          ]
        }
      ]
    },
    {
      "cell_type": "code",
      "source": [
        "list(marvel_dict.values())"
      ],
      "metadata": {
        "id": "4iF4EhW4qs3x",
        "outputId": "023f5062-56c8-4014-d33a-e879c5055fcd",
        "colab": {
          "base_uri": "https://localhost:8080/"
        }
      },
      "execution_count": null,
      "outputs": [
        {
          "output_type": "execute_result",
          "data": {
            "text/plain": [
              "['Thor',\n",
              " 'Asgard',\n",
              " 'Hammer',\n",
              " 2,\n",
              " 'power',\n",
              " ['Ironman', 'Captain America'],\n",
              " {1: 2, 4: 5}]"
            ]
          },
          "metadata": {},
          "execution_count": 8
        }
      ]
    },
    {
      "cell_type": "markdown",
      "source": [
        "### items() method returns the list of the keys and values"
      ],
      "metadata": {
        "id": "jtQKfjdQqze-"
      }
    },
    {
      "cell_type": "code",
      "source": [
        "# Get the keys and their corresponding values\n",
        "list(marvel_dict.items())"
      ],
      "metadata": {
        "id": "5npe6FBdq21b",
        "outputId": "00c72d69-bdbc-4c54-898d-7604ebde33ff",
        "colab": {
          "base_uri": "https://localhost:8080/"
        }
      },
      "execution_count": null,
      "outputs": [
        {
          "output_type": "execute_result",
          "data": {
            "text/plain": [
              "[('Name', 'Thor'),\n",
              " ('Place', 'Asgard'),\n",
              " ('Weapon', 'Hammer'),\n",
              " (1, 2),\n",
              " (3, 'power'),\n",
              " ('alibies', ['Ironman', 'Captain America']),\n",
              " ('abc', {1: 2, 4: 5})]"
            ]
          },
          "metadata": {},
          "execution_count": 9
        }
      ]
    },
    {
      "cell_type": "markdown",
      "source": [
        "### We can also use the **get()** method to extract a particular value of key-value pair."
      ],
      "metadata": {
        "id": "ULKr8mL-q-LG"
      }
    },
    {
      "cell_type": "code",
      "source": [
        "marvel_dict.get('Place')"
      ],
      "metadata": {
        "id": "TgjRYfMSrFG_",
        "outputId": "6780922e-fa9d-4adc-d257-3f203267cdec",
        "colab": {
          "base_uri": "https://localhost:8080/",
          "height": 36
        }
      },
      "execution_count": null,
      "outputs": [
        {
          "output_type": "execute_result",
          "data": {
            "text/plain": [
              "'Asgard'"
            ],
            "application/vnd.google.colaboratory.intrinsic+json": {
              "type": "string"
            }
          },
          "metadata": {},
          "execution_count": 10
        }
      ]
    },
    {
      "cell_type": "markdown",
      "source": [
        "### get() method takes the key as an argument and returns None if the key is not found in the dictionary.\n",
        "We can also set the value to return if a key is not found. This will be passed as the second argument in **get()**"
      ],
      "metadata": {
        "id": "mzvjIyVTrSpF"
      }
    },
    {
      "cell_type": "code",
      "source": [
        "marvel_dict.get('Place')"
      ],
      "metadata": {
        "id": "D87SLcUArxxO",
        "outputId": "58398bdc-85c9-450b-b0c1-e610ca8aaa8e",
        "colab": {
          "base_uri": "https://localhost:8080/",
          "height": 36
        }
      },
      "execution_count": null,
      "outputs": [
        {
          "output_type": "execute_result",
          "data": {
            "text/plain": [
              "'Asgard'"
            ],
            "application/vnd.google.colaboratory.intrinsic+json": {
              "type": "string"
            }
          },
          "metadata": {},
          "execution_count": 11
        }
      ]
    },
    {
      "cell_type": "code",
      "source": [
        "marvel_dict.get('Random')"
      ],
      "metadata": {
        "id": "naLjSkhNr7H2"
      },
      "execution_count": null,
      "outputs": []
    },
    {
      "cell_type": "code",
      "source": [
        "marvel_dict.get('Random','Not Found')\n",
        "len(marvel_dict)"
      ],
      "metadata": {
        "id": "qaUGgH2Lr_WV",
        "outputId": "412f80cc-9f76-41ca-e3f9-4346484c5d85",
        "colab": {
          "base_uri": "https://localhost:8080/"
        }
      },
      "execution_count": null,
      "outputs": [
        {
          "output_type": "execute_result",
          "data": {
            "text/plain": [
              "7"
            ]
          },
          "metadata": {},
          "execution_count": 14
        }
      ]
    },
    {
      "cell_type": "code",
      "source": [
        "employee_dict = {'Name':'Sanket','Skills':['Python','Machine Learning','Deep Learning'],'Band':6.0,'Promotion Year':[2016,2018,2020]}"
      ],
      "metadata": {
        "id": "cB6vYC44sPrL"
      },
      "execution_count": null,
      "outputs": []
    },
    {
      "cell_type": "code",
      "source": [
        "# Let's call items from the dictionary\n",
        "employee_dict['Skills']"
      ],
      "metadata": {
        "id": "hUzXDswHsSLQ",
        "outputId": "46d96766-3d0a-4b6d-d786-6f2287ff874b",
        "colab": {
          "base_uri": "https://localhost:8080/"
        }
      },
      "execution_count": null,
      "outputs": [
        {
          "output_type": "execute_result",
          "data": {
            "text/plain": [
              "['Python', 'Machine Learning', 'Deep Learning']"
            ]
          },
          "metadata": {},
          "execution_count": 16
        }
      ]
    },
    {
      "cell_type": "code",
      "source": [
        "# Can call an index on that value\n",
        "employee_dict['Skills'][0]"
      ],
      "metadata": {
        "id": "89KSXRrSsV7S",
        "outputId": "77847dd6-c36e-4d85-c116-5fc68fd1421b",
        "colab": {
          "base_uri": "https://localhost:8080/",
          "height": 36
        }
      },
      "execution_count": null,
      "outputs": [
        {
          "output_type": "execute_result",
          "data": {
            "text/plain": [
              "'Python'"
            ],
            "application/vnd.google.colaboratory.intrinsic+json": {
              "type": "string"
            }
          },
          "metadata": {},
          "execution_count": 17
        }
      ]
    },
    {
      "cell_type": "code",
      "source": [
        "# Can then even call methods on that value\n",
        "employee_dict['Skills'][0].upper()"
      ],
      "metadata": {
        "id": "ABJ-jd3DsZct",
        "outputId": "ded490a5-cd61-496e-b8dd-db4d860ab066",
        "colab": {
          "base_uri": "https://localhost:8080/",
          "height": 36
        }
      },
      "execution_count": null,
      "outputs": [
        {
          "output_type": "execute_result",
          "data": {
            "text/plain": [
              "'PYTHON'"
            ],
            "application/vnd.google.colaboratory.intrinsic+json": {
              "type": "string"
            }
          },
          "metadata": {},
          "execution_count": 18
        }
      ]
    },
    {
      "cell_type": "code",
      "source": [
        "# Add a new key\n",
        "\n",
        "employee_dict['Designation'] ='Senior Data Scientist'"
      ],
      "metadata": {
        "id": "9KO_fl0AsdQ7"
      },
      "execution_count": null,
      "outputs": []
    },
    {
      "cell_type": "code",
      "source": [
        "employee_dict"
      ],
      "metadata": {
        "id": "1iHW5wD0shPL",
        "outputId": "20ea6585-9bf9-4566-eab0-e7a99488b494",
        "colab": {
          "base_uri": "https://localhost:8080/"
        }
      },
      "execution_count": null,
      "outputs": [
        {
          "output_type": "execute_result",
          "data": {
            "text/plain": [
              "{'Name': 'Sanket',\n",
              " 'Skills': ['Python', 'Machine Learning', 'Deep Learning'],\n",
              " 'Band': 6.0,\n",
              " 'Promotion Year': [2016, 2018, 2020],\n",
              " 'Designation': 'Senior Data Scientist'}"
            ]
          },
          "metadata": {},
          "execution_count": 20
        }
      ]
    },
    {
      "cell_type": "markdown",
      "source": [
        "### **update()** You can add an element which is a key-value pair using the update() method\n",
        "\n",
        "This method takes a dictionary as an argument"
      ],
      "metadata": {
        "id": "iNKqMzXBsxo7"
      }
    },
    {
      "cell_type": "code",
      "source": [
        "employee_dict.update({'Salary':'2,000,000'})"
      ],
      "metadata": {
        "id": "opuPW5Xfs1wH"
      },
      "execution_count": null,
      "outputs": []
    },
    {
      "cell_type": "code",
      "source": [
        "employee_dict"
      ],
      "metadata": {
        "id": "66lvrwlfs8Cm",
        "outputId": "d4f1884c-6294-4c0c-a359-8b93b1d9d738",
        "colab": {
          "base_uri": "https://localhost:8080/"
        }
      },
      "execution_count": null,
      "outputs": [
        {
          "output_type": "execute_result",
          "data": {
            "text/plain": [
              "{'Name': 'Sanket',\n",
              " 'Skills': ['Python', 'Machine Learning', 'Deep Learning'],\n",
              " 'Band': 6.0,\n",
              " 'Promotion Year': [2016, 2018, 2020],\n",
              " 'Designation': 'Senior Data Scientist',\n",
              " 'Salary': '2,000,000'}"
            ]
          },
          "metadata": {},
          "execution_count": 22
        }
      ]
    },
    {
      "cell_type": "markdown",
      "source": [
        "### We can also use the **update()** method to update the existing values for a key"
      ],
      "metadata": {
        "id": "P94QZN1Vs-4X"
      }
    },
    {
      "cell_type": "code",
      "source": [
        "employee_dict.update({'Name' : 'Varun Saini'})\n",
        "employee_dict"
      ],
      "metadata": {
        "id": "nSucs3CPtDfl",
        "outputId": "c4e2a0e2-aa3b-43e4-dae6-a1756d98f59d",
        "colab": {
          "base_uri": "https://localhost:8080/"
        }
      },
      "execution_count": null,
      "outputs": [
        {
          "output_type": "execute_result",
          "data": {
            "text/plain": [
              "{'Name': 'Varun Saini',\n",
              " 'Skills': ['Python', 'Machine Learning', 'Deep Learning'],\n",
              " 'Band': 6.0,\n",
              " 'Promotion Year': [2016, 2018, 2020],\n",
              " 'Designation': 'Senior Data Scientist',\n",
              " 'Salary': '2,000,000'}"
            ]
          },
          "metadata": {},
          "execution_count": 23
        }
      ]
    },
    {
      "cell_type": "markdown",
      "source": [
        "### We can affect the values of a key as well without the update() method"
      ],
      "metadata": {
        "id": "0WdV7q9utVU1"
      }
    },
    {
      "cell_type": "code",
      "source": [
        "employee_dict['Name']"
      ],
      "metadata": {
        "id": "nSx-3IxKtWw1",
        "outputId": "e7ba28be-654b-4fe9-9892-fb1e38d80524",
        "colab": {
          "base_uri": "https://localhost:8080/",
          "height": 36
        }
      },
      "execution_count": null,
      "outputs": [
        {
          "output_type": "execute_result",
          "data": {
            "text/plain": [
              "'Varun Saini'"
            ],
            "application/vnd.google.colaboratory.intrinsic+json": {
              "type": "string"
            }
          },
          "metadata": {},
          "execution_count": 24
        }
      ]
    },
    {
      "cell_type": "code",
      "source": [
        "# Subtract 123 from the value\n",
        "employee_dict['Name'] = employee_dict['Name'] + ' ' + 'Raj'"
      ],
      "metadata": {
        "id": "_PxY8gKKtceo"
      },
      "execution_count": null,
      "outputs": []
    },
    {
      "cell_type": "code",
      "source": [
        "#Check\n",
        "employee_dict"
      ],
      "metadata": {
        "id": "Qy8BFDHitgaW",
        "outputId": "8f4b919c-3498-4dea-d316-02be9e01512c",
        "colab": {
          "base_uri": "https://localhost:8080/"
        }
      },
      "execution_count": null,
      "outputs": [
        {
          "output_type": "execute_result",
          "data": {
            "text/plain": [
              "{'Name': 'Varun Saini Raj',\n",
              " 'Skills': ['Python', 'Machine Learning', 'Deep Learning'],\n",
              " 'Band': 6.0,\n",
              " 'Promotion Year': [2016, 2018, 2020],\n",
              " 'Designation': 'Senior Data Scientist',\n",
              " 'Salary': '2,000,000'}"
            ]
          },
          "metadata": {},
          "execution_count": 26
        }
      ]
    },
    {
      "cell_type": "markdown",
      "source": [
        "### dict() We can also create dictionary objects from sequence of items which are pairs. This is done using the dict()method\n",
        "\n",
        "dict() function takes the list of paired elements as argument"
      ],
      "metadata": {
        "id": "LUndLCSRv8bS"
      }
    },
    {
      "cell_type": "code",
      "source": [
        "country_list = ['India','Australia','United States','England']\n",
        "city_list = ['New Delhi', 'Canberra' , 'Washington DC','London']\n",
        "\n",
        "country_city_list = list(zip(country_list,city_list))\n",
        "country_city_list"
      ],
      "metadata": {
        "id": "qPPoMV9yv_gI",
        "outputId": "20690945-2345-4aa5-cde1-fff96bb7316a",
        "colab": {
          "base_uri": "https://localhost:8080/"
        }
      },
      "execution_count": null,
      "outputs": [
        {
          "output_type": "execute_result",
          "data": {
            "text/plain": [
              "[('India', 'New Delhi'),\n",
              " ('Australia', 'Canberra'),\n",
              " ('United States', 'Washington DC'),\n",
              " ('England', 'London')]"
            ]
          },
          "metadata": {},
          "execution_count": 28
        }
      ]
    },
    {
      "cell_type": "code",
      "source": [
        "dict(country_city_list)"
      ],
      "metadata": {
        "id": "6AAYfJT7wJQU",
        "outputId": "f3b7e115-c9b0-47da-a052-51e7dd12e5dc",
        "colab": {
          "base_uri": "https://localhost:8080/"
        }
      },
      "execution_count": null,
      "outputs": [
        {
          "output_type": "execute_result",
          "data": {
            "text/plain": [
              "{'India': 'New Delhi',\n",
              " 'Australia': 'Canberra',\n",
              " 'United States': 'Washington DC',\n",
              " 'England': 'London'}"
            ]
          },
          "metadata": {},
          "execution_count": 29
        }
      ]
    },
    {
      "cell_type": "code",
      "source": [
        "# Let us create a list of paired tuples\n",
        "country_city_tuples = [('India','New Delhi'),('Australia','Canberra'),('United States','Washington DC'),('England','London')]\n",
        "\n",
        "country_city_dict = dict(country_city_tuples)\n",
        "country_city_dict"
      ],
      "metadata": {
        "id": "A44lZTzKwMEI",
        "outputId": "486b9c36-c09e-4dac-aa3d-4a84947e8081",
        "colab": {
          "base_uri": "https://localhost:8080/"
        }
      },
      "execution_count": null,
      "outputs": [
        {
          "output_type": "execute_result",
          "data": {
            "text/plain": [
              "{'India': 'New Delhi',\n",
              " 'Australia': 'Canberra',\n",
              " 'United States': 'Washington DC',\n",
              " 'England': 'London'}"
            ]
          },
          "metadata": {},
          "execution_count": 32
        }
      ]
    },
    {
      "cell_type": "markdown",
      "source": [
        "### pop() method removes and returns an element from a dictionary having the given key.\n",
        "\n",
        "This method takes two arguments/parameters\n",
        "\n",
        " (i) key - key which is to be searched for removal, \n",
        " \n",
        " (ii) default - value which is to be returned when the key is not in the dictionary"
      ],
      "metadata": {
        "id": "vkIVpueqwU_V"
      }
    },
    {
      "cell_type": "code",
      "source": [
        "country_city_dict.pop('England')"
      ],
      "metadata": {
        "id": "5Z4Ex4WmwrCq",
        "outputId": "139d691d-10aa-430a-c5ec-e346c52de7dd",
        "colab": {
          "base_uri": "https://localhost:8080/",
          "height": 36
        }
      },
      "execution_count": null,
      "outputs": [
        {
          "output_type": "execute_result",
          "data": {
            "text/plain": [
              "'London'"
            ],
            "application/vnd.google.colaboratory.intrinsic+json": {
              "type": "string"
            }
          },
          "metadata": {},
          "execution_count": 33
        }
      ]
    },
    {
      "cell_type": "code",
      "source": [
        "country_city_dict"
      ],
      "metadata": {
        "id": "WSNY9dBnwrJC",
        "outputId": "1ef81ab3-9cdf-4913-b4c9-f35fc2cf7bf4",
        "colab": {
          "base_uri": "https://localhost:8080/"
        }
      },
      "execution_count": null,
      "outputs": [
        {
          "output_type": "execute_result",
          "data": {
            "text/plain": [
              "{'India': 'New Delhi',\n",
              " 'Australia': 'Canberra',\n",
              " 'United States': 'Washington DC'}"
            ]
          },
          "metadata": {},
          "execution_count": 34
        }
      ]
    },
    {
      "cell_type": "markdown",
      "source": [
        "### list comprehensions\n",
        "\n",
        "List comprehensions are a tool for transforming one list (any iterable actually) into another list."
      ],
      "metadata": {
        "id": "ViICqLax-RrI"
      }
    },
    {
      "cell_type": "code",
      "source": [
        "# Getting the list of squares using list comprehension\n",
        "list_of_numbers = [1, 2, 4, 6, 11, 14, 17, 20]\n",
        "squared_numbers = [number**2 for number in list_of_numbers]\n",
        "print(squared_numbers)"
      ],
      "metadata": {
        "id": "8le1bXeA-9Da",
        "outputId": "7cfb1dec-c44b-4070-9074-c2e451ef919f",
        "colab": {
          "base_uri": "https://localhost:8080/"
        }
      },
      "execution_count": 2,
      "outputs": [
        {
          "output_type": "stream",
          "name": "stdout",
          "text": [
            "[1, 4, 16, 36, 121, 196, 289, 400]\n"
          ]
        }
      ]
    },
    {
      "cell_type": "markdown",
      "source": [
        "### get the squares of only those numbers which are even"
      ],
      "metadata": {
        "id": "1oHYSwxB_Stz"
      }
    },
    {
      "cell_type": "code",
      "source": [
        "# Writing list comprehension using conditionals\n",
        "even_squared_numbers = [number**2 for number in list_of_numbers if number%2==0]\n",
        "print(even_squared_numbers)"
      ],
      "metadata": {
        "id": "wu42al0t_VCM",
        "outputId": "fe3f8d90-14dd-448a-d150-efed65d45752",
        "colab": {
          "base_uri": "https://localhost:8080/"
        }
      },
      "execution_count": 3,
      "outputs": [
        {
          "output_type": "stream",
          "name": "stdout",
          "text": [
            "[4, 16, 36, 196, 400]\n"
          ]
        }
      ]
    },
    {
      "cell_type": "markdown",
      "source": [
        "### NumPy\n",
        "* In Python we have lists that serve the purpose of arrays, but they are slow to process.\n",
        "\n",
        "* NumPy aims to provide an array object that is up to 50x faster than traditional Python lists.\n",
        "\n",
        "* The array object in NumPy is called ndarray, it provides a lot of supporting functions that make working with ndarray very easy"
      ],
      "metadata": {
        "id": "oy4yUYMCLZzs"
      }
    },
    {
      "cell_type": "code",
      "source": [
        "import numpy as np\n",
        "\n",
        "arr = np.array([1, 2, 3, 4, 5])\n",
        "\n",
        "print(arr)\n"
      ],
      "metadata": {
        "id": "sM6IxY-k_R-N",
        "outputId": "512fdae9-43b9-4d3a-97fe-4dca01188728",
        "colab": {
          "base_uri": "https://localhost:8080/"
        }
      },
      "execution_count": 5,
      "outputs": [
        {
          "output_type": "stream",
          "name": "stdout",
          "text": [
            "[1 2 3 4 5]\n"
          ]
        },
        {
          "output_type": "execute_result",
          "data": {
            "text/plain": [
              "(5,)"
            ]
          },
          "metadata": {},
          "execution_count": 5
        }
      ]
    },
    {
      "cell_type": "code",
      "source": [
        "alma_array = np.array([[1,2,3],[4,5,6]]) \n",
        "print(alma_array.shape)"
      ],
      "metadata": {
        "id": "Rb5V0c3aMLui",
        "outputId": "dc005e92-e82f-4263-dddb-82abd196e1fe",
        "colab": {
          "base_uri": "https://localhost:8080/"
        }
      },
      "execution_count": 6,
      "outputs": [
        {
          "output_type": "stream",
          "name": "stdout",
          "text": [
            "(2, 3)\n"
          ]
        }
      ]
    },
    {
      "cell_type": "markdown",
      "source": [
        "###ndarray.ndim--This returns the number of array dimensions"
      ],
      "metadata": {
        "id": "DNmBVc2CMb7I"
      }
    },
    {
      "cell_type": "code",
      "source": [
        "#ndarray.ndim\n",
        "array_of_integers = np.array([0,1,2,3,4,5,6,7,8,9])\n",
        "print(\"Dimensions of 'array_of_integers' = \", array_of_integers.ndim)\n",
        "\n",
        "sample_2d_array = np.array([[1,2,3],[4,5,6]]) \n",
        "print(\"Dimensions of 'sample_2d_array' = \", sample_2d_array.ndim)"
      ],
      "metadata": {
        "id": "Z_5Ng6DlMU0K",
        "outputId": "30fe9774-f455-4ed9-b368-28b5a59c985b",
        "colab": {
          "base_uri": "https://localhost:8080/"
        }
      },
      "execution_count": 7,
      "outputs": [
        {
          "output_type": "stream",
          "name": "stdout",
          "text": [
            "Dimensions of 'array_of_integers' =  1\n",
            "Dimensions of 'sample_2d_array' =  2\n"
          ]
        }
      ]
    },
    {
      "cell_type": "markdown",
      "source": [
        "### ndarray.size This returns the total number of elements in the array"
      ],
      "metadata": {
        "id": "EIK5SapQMXwi"
      }
    },
    {
      "cell_type": "code",
      "source": [
        "# Print the size of array\n",
        "array_of_integers = np.array([0,1,2,3,4,5,6,7,8,9])\n",
        "print(f\"The total number of elements in our array 'array_of_integers' =  {array_of_integers.size}\")\n",
        "\n",
        "sample_2d_array = np.array([[1,2,3],[4,5,6]])\n",
        "print(f\"The total number of elements in our array 'sample_2d_array' =  {sample_2d_array.size}\")"
      ],
      "metadata": {
        "id": "11cMxtF1MnDH",
        "outputId": "c2dc7d07-6f64-4244-e969-4250ef9f2dff",
        "colab": {
          "base_uri": "https://localhost:8080/"
        }
      },
      "execution_count": 8,
      "outputs": [
        {
          "output_type": "stream",
          "name": "stdout",
          "text": [
            "The total number of elements in our array 'array_of_integers' =  10\n",
            "The total number of elements in our array 'sample_2d_array' =  6\n"
          ]
        }
      ]
    },
    {
      "cell_type": "markdown",
      "source": [
        "### ndarray.dtype - This returns the data type of the array"
      ],
      "metadata": {
        "id": "-IwuSZhrMttb"
      }
    },
    {
      "cell_type": "code",
      "source": [
        "# Print the dtype of array\n",
        "my_array = np.array([1,2,3,4,5])\n",
        "print(my_array.dtype)"
      ],
      "metadata": {
        "id": "1RRMotPaMwnr",
        "outputId": "27709f5a-1d00-491e-ea2a-0b54f67ccbf6",
        "colab": {
          "base_uri": "https://localhost:8080/"
        }
      },
      "execution_count": 9,
      "outputs": [
        {
          "output_type": "stream",
          "name": "stdout",
          "text": [
            "int64\n"
          ]
        }
      ]
    },
    {
      "cell_type": "markdown",
      "source": [
        "### ndarray.astype---This changes the data type of an array"
      ],
      "metadata": {
        "id": "OoP93y54M3pq"
      }
    },
    {
      "cell_type": "code",
      "source": [
        "# Create an array\n",
        "arravali = np.array([2,3,4])\n",
        "print(arravali)\n",
        "print(arravali.dtype)\n",
        "\n",
        "# Change the datatype of the array to float\n",
        "arravali_ = arravali.astype('float64')\n",
        "print(arravali_)\n",
        "print(arravali_.dtype)\n",
        "\n",
        "# Change the datatype of the array to string\n",
        "# arravali_ = arravali.astype('string_')\n",
        "# print(arravali_)\n",
        "# print(arravali_.dtype)"
      ],
      "metadata": {
        "id": "Evc7WePEM51z",
        "outputId": "7cc8cc1b-1e6b-4465-fdbb-0aaeafdce2be",
        "colab": {
          "base_uri": "https://localhost:8080/"
        }
      },
      "execution_count": 10,
      "outputs": [
        {
          "output_type": "stream",
          "name": "stdout",
          "text": [
            "[2 3 4]\n",
            "int64\n",
            "[2. 3. 4.]\n",
            "float64\n"
          ]
        }
      ]
    },
    {
      "cell_type": "code",
      "source": [
        "#NumPy Array Indexing\n",
        "import numpy as np\n",
        "\n",
        "arr = np.array([1, 2, 3, 4])\n",
        "\n",
        "print(arr[0])"
      ],
      "metadata": {
        "id": "umZTJCY-NPuR",
        "outputId": "750ae42c-4925-4049-a449-082a0a00e6b4",
        "colab": {
          "base_uri": "https://localhost:8080/"
        }
      },
      "execution_count": 11,
      "outputs": [
        {
          "output_type": "stream",
          "name": "stdout",
          "text": [
            "1\n"
          ]
        }
      ]
    },
    {
      "cell_type": "code",
      "source": [
        "arr = np.array([[1, 2, 3], [4, 5, 6]])\n",
        "\n",
        "for x in arr:\n",
        "  print(x)"
      ],
      "metadata": {
        "id": "UcCTvvSfM2kO",
        "outputId": "cd4cd446-986a-407e-a114-44e8e47ad026",
        "colab": {
          "base_uri": "https://localhost:8080/"
        }
      },
      "execution_count": 12,
      "outputs": [
        {
          "output_type": "stream",
          "name": "stdout",
          "text": [
            "[1 2 3]\n",
            "[4 5 6]\n"
          ]
        }
      ]
    },
    {
      "cell_type": "code",
      "source": [
        "# Array with values from 0 to N\n",
        "array_with_range = np.arange(5)\n",
        "array_with_range"
      ],
      "metadata": {
        "id": "XxeFCIPEOIKW",
        "outputId": "32075537-6d11-466d-a2d7-1b0060b6f630",
        "colab": {
          "base_uri": "https://localhost:8080/"
        }
      },
      "execution_count": 13,
      "outputs": [
        {
          "output_type": "execute_result",
          "data": {
            "text/plain": [
              "array([0, 1, 2, 3, 4])"
            ]
          },
          "metadata": {},
          "execution_count": 13
        }
      ]
    },
    {
      "cell_type": "code",
      "source": [
        "# To get an array with specified input element of desired shape\n",
        "# Parameters for the function - np.full(shape,value)\n",
        "a = np.full((3,3),30)\n",
        "print(a)"
      ],
      "metadata": {
        "id": "zETFL2hlOO4h",
        "outputId": "c9751c2f-2a3a-47ce-9ee8-fb8a321f6fe6",
        "colab": {
          "base_uri": "https://localhost:8080/"
        }
      },
      "execution_count": 14,
      "outputs": [
        {
          "output_type": "stream",
          "name": "stdout",
          "text": [
            "[[30 30 30]\n",
            " [30 30 30]\n",
            " [30 30 30]]\n"
          ]
        }
      ]
    },
    {
      "cell_type": "code",
      "source": [
        "# convert list to ndarray \n",
        "typical_list = [1,2,3]\n",
        "corresponding_array = np.asarray(typical_list) \n",
        "corresponding_array"
      ],
      "metadata": {
        "id": "UXgwcJonOUIb",
        "outputId": "380e8d5b-fadd-4972-fbca-e55f2a87dec0",
        "colab": {
          "base_uri": "https://localhost:8080/"
        }
      },
      "execution_count": 15,
      "outputs": [
        {
          "output_type": "execute_result",
          "data": {
            "text/plain": [
              "array([1, 2, 3])"
            ]
          },
          "metadata": {},
          "execution_count": 15
        }
      ]
    },
    {
      "cell_type": "code",
      "source": [
        "# convert tuple to ndarray\n",
        "typical_tuple = (1,2,3) \n",
        "corresponding_array = np.asarray(typical_tuple) \n",
        "corresponding_array"
      ],
      "metadata": {
        "id": "7g1R0eCTOWV0",
        "outputId": "bf0e591a-49b9-459a-b116-660fcbf8740b",
        "colab": {
          "base_uri": "https://localhost:8080/"
        }
      },
      "execution_count": 16,
      "outputs": [
        {
          "output_type": "execute_result",
          "data": {
            "text/plain": [
              "array([1, 2, 3])"
            ]
          },
          "metadata": {},
          "execution_count": 16
        }
      ]
    },
    {
      "cell_type": "markdown",
      "source": [
        "# <u> **Array Manipulation**</u>\n",
        "* ### <code>np.transpose(array)</code> - To transpose array\n",
        "* ### <code>np.reshape(array,shape)</code> - To Change shape of an array\n",
        "* ### <code>np.resize(array,shape)</code> - To return new array with shape \n",
        "* ### <code>np.flatten(array)</code> - To flatten the array"
      ],
      "metadata": {
        "id": "GxDXvqSLM3G3"
      }
    },
    {
      "cell_type": "code",
      "source": [
        "#np.transpose(array) \n",
        "arravali = np.array(np.random.randint(10,45,(8,2)))\n",
        "print(f\"The defined array is \\n{arravali}\")\n",
        "print(f\" \\n The shape of the array is {arravali.shape}\")\n",
        "\n",
        "# Storing the transpose in another matrix object\n",
        "nilgiri =np.transpose(arravali)\n",
        "print(f\" The transpose of the array is \\n{nilgiri}\")\n",
        "print(f\" \\n The shape of the array is {nilgiri.shape}\")"
      ],
      "metadata": {
        "id": "vO87RVlHOoyo",
        "outputId": "53d9084c-c11b-4b8c-cf4e-caba13309ba2",
        "colab": {
          "base_uri": "https://localhost:8080/"
        }
      },
      "execution_count": 17,
      "outputs": [
        {
          "output_type": "stream",
          "name": "stdout",
          "text": [
            "The defined array is \n",
            "[[18 16]\n",
            " [31 19]\n",
            " [34 22]\n",
            " [27 29]\n",
            " [44 33]\n",
            " [39 19]\n",
            " [32 15]\n",
            " [21 34]]\n",
            " \n",
            " The shape of the array is (8, 2)\n",
            " The transpose of the array is \n",
            "[[18 31 34 27 44 39 32 21]\n",
            " [16 19 22 29 33 19 15 34]]\n",
            " \n",
            " The shape of the array is (2, 8)\n"
          ]
        }
      ]
    },
    {
      "cell_type": "markdown",
      "source": [
        "### What is Pandas?\n",
        "Pandas is a Python library used for working with data sets.\n",
        "\n",
        "\n",
        "* Pandas DataFrame consists of three principal components, the data, rows, and columns.\n",
        "* Pandas allows us to analyze big data and make conclusions based on statistical theories.\n",
        "\n",
        "* Pandas can clean messy data sets, and make them readable and relevant.\n",
        "* A Pandas Series is like a column in a table. It is a one-dimensional array holding data of any type."
      ],
      "metadata": {
        "id": "mGBdjeSaPpLj"
      }
    },
    {
      "cell_type": "code",
      "source": [
        "#Import package\n",
        "import pandas as pd\n",
        "\n",
        "# Version of pandas\n",
        "pd.__version__"
      ],
      "metadata": {
        "id": "in9-py82PrRb",
        "outputId": "7c116963-cfb0-498a-cf90-e224e6d49b46",
        "colab": {
          "base_uri": "https://localhost:8080/",
          "height": 36
        }
      },
      "execution_count": 18,
      "outputs": [
        {
          "output_type": "execute_result",
          "data": {
            "text/plain": [
              "'1.3.5'"
            ],
            "application/vnd.google.colaboratory.intrinsic+json": {
              "type": "string"
            }
          },
          "metadata": {},
          "execution_count": 18
        }
      ]
    },
    {
      "cell_type": "code",
      "source": [
        " #Our first series\n",
        "number_series = pd.Series([2, 3, 5, 6, 8])\n",
        "print(number_series)"
      ],
      "metadata": {
        "id": "RSBZE_l_Qimg",
        "outputId": "395d1286-c373-4e69-826c-9b9a78023f01",
        "colab": {
          "base_uri": "https://localhost:8080/"
        }
      },
      "execution_count": 21,
      "outputs": [
        {
          "output_type": "stream",
          "name": "stdout",
          "text": [
            "0    2\n",
            "1    3\n",
            "2    5\n",
            "3    6\n",
            "4    8\n",
            "dtype: int64\n"
          ]
        }
      ]
    },
    {
      "cell_type": "code",
      "source": [
        "# Same series but with different indices\n",
        "number_series = pd.Series([2, 3, 5, 6, 8],index=['a', 'b', 'd','e','f'],name='Number')\n",
        "print(number_series)"
      ],
      "metadata": {
        "id": "RrFDilfmQqof",
        "outputId": "4ed993d2-79b3-4e2c-d5ab-7574fc3cbfda",
        "colab": {
          "base_uri": "https://localhost:8080/"
        }
      },
      "execution_count": 22,
      "outputs": [
        {
          "output_type": "stream",
          "name": "stdout",
          "text": [
            "a    2\n",
            "b    3\n",
            "d    5\n",
            "e    6\n",
            "f    8\n",
            "Name: Number, dtype: int64\n"
          ]
        }
      ]
    },
    {
      "cell_type": "code",
      "source": [
        "# Initialize list of lists \n",
        "list_of_lists = [['Amar', 10], ['Akbar', 15], ['Anthony', 14]]\n",
        "  \n",
        "# Create the pandas DataFrame \n",
        "df = pd.DataFrame(list_of_lists, columns = ['Name', 'Age']) \n",
        "  \n",
        "# Print dataframe\n",
        "df"
      ],
      "metadata": {
        "id": "-29dHtk2QxZy",
        "outputId": "dc18dc22-2cc2-4f5c-cf89-698ff8fa63bb",
        "colab": {
          "base_uri": "https://localhost:8080/",
          "height": 143
        }
      },
      "execution_count": 23,
      "outputs": [
        {
          "output_type": "execute_result",
          "data": {
            "text/plain": [
              "      Name  Age\n",
              "0     Amar   10\n",
              "1    Akbar   15\n",
              "2  Anthony   14"
            ],
            "text/html": [
              "\n",
              "  <div id=\"df-5438d1b2-098d-4467-bcca-a63a4c5950a7\">\n",
              "    <div class=\"colab-df-container\">\n",
              "      <div>\n",
              "<style scoped>\n",
              "    .dataframe tbody tr th:only-of-type {\n",
              "        vertical-align: middle;\n",
              "    }\n",
              "\n",
              "    .dataframe tbody tr th {\n",
              "        vertical-align: top;\n",
              "    }\n",
              "\n",
              "    .dataframe thead th {\n",
              "        text-align: right;\n",
              "    }\n",
              "</style>\n",
              "<table border=\"1\" class=\"dataframe\">\n",
              "  <thead>\n",
              "    <tr style=\"text-align: right;\">\n",
              "      <th></th>\n",
              "      <th>Name</th>\n",
              "      <th>Age</th>\n",
              "    </tr>\n",
              "  </thead>\n",
              "  <tbody>\n",
              "    <tr>\n",
              "      <th>0</th>\n",
              "      <td>Amar</td>\n",
              "      <td>10</td>\n",
              "    </tr>\n",
              "    <tr>\n",
              "      <th>1</th>\n",
              "      <td>Akbar</td>\n",
              "      <td>15</td>\n",
              "    </tr>\n",
              "    <tr>\n",
              "      <th>2</th>\n",
              "      <td>Anthony</td>\n",
              "      <td>14</td>\n",
              "    </tr>\n",
              "  </tbody>\n",
              "</table>\n",
              "</div>\n",
              "      <button class=\"colab-df-convert\" onclick=\"convertToInteractive('df-5438d1b2-098d-4467-bcca-a63a4c5950a7')\"\n",
              "              title=\"Convert this dataframe to an interactive table.\"\n",
              "              style=\"display:none;\">\n",
              "        \n",
              "  <svg xmlns=\"http://www.w3.org/2000/svg\" height=\"24px\"viewBox=\"0 0 24 24\"\n",
              "       width=\"24px\">\n",
              "    <path d=\"M0 0h24v24H0V0z\" fill=\"none\"/>\n",
              "    <path d=\"M18.56 5.44l.94 2.06.94-2.06 2.06-.94-2.06-.94-.94-2.06-.94 2.06-2.06.94zm-11 1L8.5 8.5l.94-2.06 2.06-.94-2.06-.94L8.5 2.5l-.94 2.06-2.06.94zm10 10l.94 2.06.94-2.06 2.06-.94-2.06-.94-.94-2.06-.94 2.06-2.06.94z\"/><path d=\"M17.41 7.96l-1.37-1.37c-.4-.4-.92-.59-1.43-.59-.52 0-1.04.2-1.43.59L10.3 9.45l-7.72 7.72c-.78.78-.78 2.05 0 2.83L4 21.41c.39.39.9.59 1.41.59.51 0 1.02-.2 1.41-.59l7.78-7.78 2.81-2.81c.8-.78.8-2.07 0-2.86zM5.41 20L4 18.59l7.72-7.72 1.47 1.35L5.41 20z\"/>\n",
              "  </svg>\n",
              "      </button>\n",
              "      \n",
              "  <style>\n",
              "    .colab-df-container {\n",
              "      display:flex;\n",
              "      flex-wrap:wrap;\n",
              "      gap: 12px;\n",
              "    }\n",
              "\n",
              "    .colab-df-convert {\n",
              "      background-color: #E8F0FE;\n",
              "      border: none;\n",
              "      border-radius: 50%;\n",
              "      cursor: pointer;\n",
              "      display: none;\n",
              "      fill: #1967D2;\n",
              "      height: 32px;\n",
              "      padding: 0 0 0 0;\n",
              "      width: 32px;\n",
              "    }\n",
              "\n",
              "    .colab-df-convert:hover {\n",
              "      background-color: #E2EBFA;\n",
              "      box-shadow: 0px 1px 2px rgba(60, 64, 67, 0.3), 0px 1px 3px 1px rgba(60, 64, 67, 0.15);\n",
              "      fill: #174EA6;\n",
              "    }\n",
              "\n",
              "    [theme=dark] .colab-df-convert {\n",
              "      background-color: #3B4455;\n",
              "      fill: #D2E3FC;\n",
              "    }\n",
              "\n",
              "    [theme=dark] .colab-df-convert:hover {\n",
              "      background-color: #434B5C;\n",
              "      box-shadow: 0px 1px 3px 1px rgba(0, 0, 0, 0.15);\n",
              "      filter: drop-shadow(0px 1px 2px rgba(0, 0, 0, 0.3));\n",
              "      fill: #FFFFFF;\n",
              "    }\n",
              "  </style>\n",
              "\n",
              "      <script>\n",
              "        const buttonEl =\n",
              "          document.querySelector('#df-5438d1b2-098d-4467-bcca-a63a4c5950a7 button.colab-df-convert');\n",
              "        buttonEl.style.display =\n",
              "          google.colab.kernel.accessAllowed ? 'block' : 'none';\n",
              "\n",
              "        async function convertToInteractive(key) {\n",
              "          const element = document.querySelector('#df-5438d1b2-098d-4467-bcca-a63a4c5950a7');\n",
              "          const dataTable =\n",
              "            await google.colab.kernel.invokeFunction('convertToInteractive',\n",
              "                                                     [key], {});\n",
              "          if (!dataTable) return;\n",
              "\n",
              "          const docLinkHtml = 'Like what you see? Visit the ' +\n",
              "            '<a target=\"_blank\" href=https://colab.research.google.com/notebooks/data_table.ipynb>data table notebook</a>'\n",
              "            + ' to learn more about interactive tables.';\n",
              "          element.innerHTML = '';\n",
              "          dataTable['output_type'] = 'display_data';\n",
              "          await google.colab.output.renderOutput(dataTable, element);\n",
              "          const docLink = document.createElement('div');\n",
              "          docLink.innerHTML = docLinkHtml;\n",
              "          element.appendChild(docLink);\n",
              "        }\n",
              "      </script>\n",
              "    </div>\n",
              "  </div>\n",
              "  "
            ]
          },
          "metadata": {},
          "execution_count": 23
        }
      ]
    },
    {
      "cell_type": "markdown",
      "source": [
        "### We can print the indices of our dataframe using the index attribute\n"
      ],
      "metadata": {
        "id": "Bo7DvpNKQ_RI"
      }
    },
    {
      "cell_type": "code",
      "source": [
        "list(df.index)"
      ],
      "metadata": {
        "id": "KTaMpRckRA7F",
        "outputId": "a3afb391-97dc-40a4-d681-22c508ef2108",
        "colab": {
          "base_uri": "https://localhost:8080/"
        }
      },
      "execution_count": 25,
      "outputs": [
        {
          "output_type": "execute_result",
          "data": {
            "text/plain": [
              "[0, 1, 2]"
            ]
          },
          "metadata": {},
          "execution_count": 25
        }
      ]
    },
    {
      "cell_type": "code",
      "source": [
        "# Store the data in a dictionary \n",
        "employee_dict = {'Employee Name':['Rajeev', 'Sumit', 'Aviral'], 'Income':[200000, 140000, 90000]} \n",
        "  \n",
        "# Create DataFrame \n",
        "employee_df = pd.DataFrame(employee_dict) \n",
        "  \n",
        "# Print the dataframe\n",
        "employee_df"
      ],
      "metadata": {
        "id": "7BLnaogJQ3jy",
        "outputId": "157fc4d5-872b-40c6-e6e3-63752d530fbf",
        "colab": {
          "base_uri": "https://localhost:8080/",
          "height": 143
        }
      },
      "execution_count": 24,
      "outputs": [
        {
          "output_type": "execute_result",
          "data": {
            "text/plain": [
              "  Employee Name  Income\n",
              "0        Rajeev  200000\n",
              "1         Sumit  140000\n",
              "2        Aviral   90000"
            ],
            "text/html": [
              "\n",
              "  <div id=\"df-a14487a7-2998-4850-895b-9eb58c2d579d\">\n",
              "    <div class=\"colab-df-container\">\n",
              "      <div>\n",
              "<style scoped>\n",
              "    .dataframe tbody tr th:only-of-type {\n",
              "        vertical-align: middle;\n",
              "    }\n",
              "\n",
              "    .dataframe tbody tr th {\n",
              "        vertical-align: top;\n",
              "    }\n",
              "\n",
              "    .dataframe thead th {\n",
              "        text-align: right;\n",
              "    }\n",
              "</style>\n",
              "<table border=\"1\" class=\"dataframe\">\n",
              "  <thead>\n",
              "    <tr style=\"text-align: right;\">\n",
              "      <th></th>\n",
              "      <th>Employee Name</th>\n",
              "      <th>Income</th>\n",
              "    </tr>\n",
              "  </thead>\n",
              "  <tbody>\n",
              "    <tr>\n",
              "      <th>0</th>\n",
              "      <td>Rajeev</td>\n",
              "      <td>200000</td>\n",
              "    </tr>\n",
              "    <tr>\n",
              "      <th>1</th>\n",
              "      <td>Sumit</td>\n",
              "      <td>140000</td>\n",
              "    </tr>\n",
              "    <tr>\n",
              "      <th>2</th>\n",
              "      <td>Aviral</td>\n",
              "      <td>90000</td>\n",
              "    </tr>\n",
              "  </tbody>\n",
              "</table>\n",
              "</div>\n",
              "      <button class=\"colab-df-convert\" onclick=\"convertToInteractive('df-a14487a7-2998-4850-895b-9eb58c2d579d')\"\n",
              "              title=\"Convert this dataframe to an interactive table.\"\n",
              "              style=\"display:none;\">\n",
              "        \n",
              "  <svg xmlns=\"http://www.w3.org/2000/svg\" height=\"24px\"viewBox=\"0 0 24 24\"\n",
              "       width=\"24px\">\n",
              "    <path d=\"M0 0h24v24H0V0z\" fill=\"none\"/>\n",
              "    <path d=\"M18.56 5.44l.94 2.06.94-2.06 2.06-.94-2.06-.94-.94-2.06-.94 2.06-2.06.94zm-11 1L8.5 8.5l.94-2.06 2.06-.94-2.06-.94L8.5 2.5l-.94 2.06-2.06.94zm10 10l.94 2.06.94-2.06 2.06-.94-2.06-.94-.94-2.06-.94 2.06-2.06.94z\"/><path d=\"M17.41 7.96l-1.37-1.37c-.4-.4-.92-.59-1.43-.59-.52 0-1.04.2-1.43.59L10.3 9.45l-7.72 7.72c-.78.78-.78 2.05 0 2.83L4 21.41c.39.39.9.59 1.41.59.51 0 1.02-.2 1.41-.59l7.78-7.78 2.81-2.81c.8-.78.8-2.07 0-2.86zM5.41 20L4 18.59l7.72-7.72 1.47 1.35L5.41 20z\"/>\n",
              "  </svg>\n",
              "      </button>\n",
              "      \n",
              "  <style>\n",
              "    .colab-df-container {\n",
              "      display:flex;\n",
              "      flex-wrap:wrap;\n",
              "      gap: 12px;\n",
              "    }\n",
              "\n",
              "    .colab-df-convert {\n",
              "      background-color: #E8F0FE;\n",
              "      border: none;\n",
              "      border-radius: 50%;\n",
              "      cursor: pointer;\n",
              "      display: none;\n",
              "      fill: #1967D2;\n",
              "      height: 32px;\n",
              "      padding: 0 0 0 0;\n",
              "      width: 32px;\n",
              "    }\n",
              "\n",
              "    .colab-df-convert:hover {\n",
              "      background-color: #E2EBFA;\n",
              "      box-shadow: 0px 1px 2px rgba(60, 64, 67, 0.3), 0px 1px 3px 1px rgba(60, 64, 67, 0.15);\n",
              "      fill: #174EA6;\n",
              "    }\n",
              "\n",
              "    [theme=dark] .colab-df-convert {\n",
              "      background-color: #3B4455;\n",
              "      fill: #D2E3FC;\n",
              "    }\n",
              "\n",
              "    [theme=dark] .colab-df-convert:hover {\n",
              "      background-color: #434B5C;\n",
              "      box-shadow: 0px 1px 3px 1px rgba(0, 0, 0, 0.15);\n",
              "      filter: drop-shadow(0px 1px 2px rgba(0, 0, 0, 0.3));\n",
              "      fill: #FFFFFF;\n",
              "    }\n",
              "  </style>\n",
              "\n",
              "      <script>\n",
              "        const buttonEl =\n",
              "          document.querySelector('#df-a14487a7-2998-4850-895b-9eb58c2d579d button.colab-df-convert');\n",
              "        buttonEl.style.display =\n",
              "          google.colab.kernel.accessAllowed ? 'block' : 'none';\n",
              "\n",
              "        async function convertToInteractive(key) {\n",
              "          const element = document.querySelector('#df-a14487a7-2998-4850-895b-9eb58c2d579d');\n",
              "          const dataTable =\n",
              "            await google.colab.kernel.invokeFunction('convertToInteractive',\n",
              "                                                     [key], {});\n",
              "          if (!dataTable) return;\n",
              "\n",
              "          const docLinkHtml = 'Like what you see? Visit the ' +\n",
              "            '<a target=\"_blank\" href=https://colab.research.google.com/notebooks/data_table.ipynb>data table notebook</a>'\n",
              "            + ' to learn more about interactive tables.';\n",
              "          element.innerHTML = '';\n",
              "          dataTable['output_type'] = 'display_data';\n",
              "          await google.colab.output.renderOutput(dataTable, element);\n",
              "          const docLink = document.createElement('div');\n",
              "          docLink.innerHTML = docLinkHtml;\n",
              "          element.appendChild(docLink);\n",
              "        }\n",
              "      </script>\n",
              "    </div>\n",
              "  </div>\n",
              "  "
            ]
          },
          "metadata": {},
          "execution_count": 24
        }
      ]
    },
    {
      "cell_type": "code",
      "source": [
        "import pandas\n",
        "\n",
        "mydataset = {\n",
        "  'cars': [\"BMW\", \"Volvo\", \"Ford\"],\n",
        "  'passings': [3, 7, 2]\n",
        "}\n",
        "\n",
        "myvar = pandas.DataFrame(mydataset)\n",
        "\n",
        "print(myvar)"
      ],
      "metadata": {
        "id": "26BtMcuYQLFE",
        "outputId": "580e5954-771d-4d1f-b968-595bf78b177c",
        "colab": {
          "base_uri": "https://localhost:8080/"
        }
      },
      "execution_count": 19,
      "outputs": [
        {
          "output_type": "stream",
          "name": "stdout",
          "text": [
            "    cars  passings\n",
            "0    BMW         3\n",
            "1  Volvo         7\n",
            "2   Ford         2\n"
          ]
        }
      ]
    },
    {
      "cell_type": "code",
      "source": [
        "# We can use the head() method to see first 5 rows\n",
        "df.head()"
      ],
      "metadata": {
        "id": "G6ZVeomXROpU",
        "outputId": "bf0c6793-bf3a-4d9b-f9a7-9b34fecc544a",
        "colab": {
          "base_uri": "https://localhost:8080/",
          "height": 143
        }
      },
      "execution_count": 26,
      "outputs": [
        {
          "output_type": "execute_result",
          "data": {
            "text/plain": [
              "      Name  Age\n",
              "0     Amar   10\n",
              "1    Akbar   15\n",
              "2  Anthony   14"
            ],
            "text/html": [
              "\n",
              "  <div id=\"df-6edbdc00-525c-4b57-8788-ac44e29cc6bc\">\n",
              "    <div class=\"colab-df-container\">\n",
              "      <div>\n",
              "<style scoped>\n",
              "    .dataframe tbody tr th:only-of-type {\n",
              "        vertical-align: middle;\n",
              "    }\n",
              "\n",
              "    .dataframe tbody tr th {\n",
              "        vertical-align: top;\n",
              "    }\n",
              "\n",
              "    .dataframe thead th {\n",
              "        text-align: right;\n",
              "    }\n",
              "</style>\n",
              "<table border=\"1\" class=\"dataframe\">\n",
              "  <thead>\n",
              "    <tr style=\"text-align: right;\">\n",
              "      <th></th>\n",
              "      <th>Name</th>\n",
              "      <th>Age</th>\n",
              "    </tr>\n",
              "  </thead>\n",
              "  <tbody>\n",
              "    <tr>\n",
              "      <th>0</th>\n",
              "      <td>Amar</td>\n",
              "      <td>10</td>\n",
              "    </tr>\n",
              "    <tr>\n",
              "      <th>1</th>\n",
              "      <td>Akbar</td>\n",
              "      <td>15</td>\n",
              "    </tr>\n",
              "    <tr>\n",
              "      <th>2</th>\n",
              "      <td>Anthony</td>\n",
              "      <td>14</td>\n",
              "    </tr>\n",
              "  </tbody>\n",
              "</table>\n",
              "</div>\n",
              "      <button class=\"colab-df-convert\" onclick=\"convertToInteractive('df-6edbdc00-525c-4b57-8788-ac44e29cc6bc')\"\n",
              "              title=\"Convert this dataframe to an interactive table.\"\n",
              "              style=\"display:none;\">\n",
              "        \n",
              "  <svg xmlns=\"http://www.w3.org/2000/svg\" height=\"24px\"viewBox=\"0 0 24 24\"\n",
              "       width=\"24px\">\n",
              "    <path d=\"M0 0h24v24H0V0z\" fill=\"none\"/>\n",
              "    <path d=\"M18.56 5.44l.94 2.06.94-2.06 2.06-.94-2.06-.94-.94-2.06-.94 2.06-2.06.94zm-11 1L8.5 8.5l.94-2.06 2.06-.94-2.06-.94L8.5 2.5l-.94 2.06-2.06.94zm10 10l.94 2.06.94-2.06 2.06-.94-2.06-.94-.94-2.06-.94 2.06-2.06.94z\"/><path d=\"M17.41 7.96l-1.37-1.37c-.4-.4-.92-.59-1.43-.59-.52 0-1.04.2-1.43.59L10.3 9.45l-7.72 7.72c-.78.78-.78 2.05 0 2.83L4 21.41c.39.39.9.59 1.41.59.51 0 1.02-.2 1.41-.59l7.78-7.78 2.81-2.81c.8-.78.8-2.07 0-2.86zM5.41 20L4 18.59l7.72-7.72 1.47 1.35L5.41 20z\"/>\n",
              "  </svg>\n",
              "      </button>\n",
              "      \n",
              "  <style>\n",
              "    .colab-df-container {\n",
              "      display:flex;\n",
              "      flex-wrap:wrap;\n",
              "      gap: 12px;\n",
              "    }\n",
              "\n",
              "    .colab-df-convert {\n",
              "      background-color: #E8F0FE;\n",
              "      border: none;\n",
              "      border-radius: 50%;\n",
              "      cursor: pointer;\n",
              "      display: none;\n",
              "      fill: #1967D2;\n",
              "      height: 32px;\n",
              "      padding: 0 0 0 0;\n",
              "      width: 32px;\n",
              "    }\n",
              "\n",
              "    .colab-df-convert:hover {\n",
              "      background-color: #E2EBFA;\n",
              "      box-shadow: 0px 1px 2px rgba(60, 64, 67, 0.3), 0px 1px 3px 1px rgba(60, 64, 67, 0.15);\n",
              "      fill: #174EA6;\n",
              "    }\n",
              "\n",
              "    [theme=dark] .colab-df-convert {\n",
              "      background-color: #3B4455;\n",
              "      fill: #D2E3FC;\n",
              "    }\n",
              "\n",
              "    [theme=dark] .colab-df-convert:hover {\n",
              "      background-color: #434B5C;\n",
              "      box-shadow: 0px 1px 3px 1px rgba(0, 0, 0, 0.15);\n",
              "      filter: drop-shadow(0px 1px 2px rgba(0, 0, 0, 0.3));\n",
              "      fill: #FFFFFF;\n",
              "    }\n",
              "  </style>\n",
              "\n",
              "      <script>\n",
              "        const buttonEl =\n",
              "          document.querySelector('#df-6edbdc00-525c-4b57-8788-ac44e29cc6bc button.colab-df-convert');\n",
              "        buttonEl.style.display =\n",
              "          google.colab.kernel.accessAllowed ? 'block' : 'none';\n",
              "\n",
              "        async function convertToInteractive(key) {\n",
              "          const element = document.querySelector('#df-6edbdc00-525c-4b57-8788-ac44e29cc6bc');\n",
              "          const dataTable =\n",
              "            await google.colab.kernel.invokeFunction('convertToInteractive',\n",
              "                                                     [key], {});\n",
              "          if (!dataTable) return;\n",
              "\n",
              "          const docLinkHtml = 'Like what you see? Visit the ' +\n",
              "            '<a target=\"_blank\" href=https://colab.research.google.com/notebooks/data_table.ipynb>data table notebook</a>'\n",
              "            + ' to learn more about interactive tables.';\n",
              "          element.innerHTML = '';\n",
              "          dataTable['output_type'] = 'display_data';\n",
              "          await google.colab.output.renderOutput(dataTable, element);\n",
              "          const docLink = document.createElement('div');\n",
              "          docLink.innerHTML = docLinkHtml;\n",
              "          element.appendChild(docLink);\n",
              "        }\n",
              "      </script>\n",
              "    </div>\n",
              "  </div>\n",
              "  "
            ]
          },
          "metadata": {},
          "execution_count": 26
        }
      ]
    },
    {
      "cell_type": "code",
      "source": [
        "df.tail()"
      ],
      "metadata": {
        "id": "_UX-1f5YS_q6",
        "outputId": "c3448e32-c39f-44a8-b1bc-fefe77e240a1",
        "colab": {
          "base_uri": "https://localhost:8080/",
          "height": 143
        }
      },
      "execution_count": 27,
      "outputs": [
        {
          "output_type": "execute_result",
          "data": {
            "text/plain": [
              "      Name  Age\n",
              "0     Amar   10\n",
              "1    Akbar   15\n",
              "2  Anthony   14"
            ],
            "text/html": [
              "\n",
              "  <div id=\"df-0b20506c-9144-4298-a4b5-f11c33b72197\">\n",
              "    <div class=\"colab-df-container\">\n",
              "      <div>\n",
              "<style scoped>\n",
              "    .dataframe tbody tr th:only-of-type {\n",
              "        vertical-align: middle;\n",
              "    }\n",
              "\n",
              "    .dataframe tbody tr th {\n",
              "        vertical-align: top;\n",
              "    }\n",
              "\n",
              "    .dataframe thead th {\n",
              "        text-align: right;\n",
              "    }\n",
              "</style>\n",
              "<table border=\"1\" class=\"dataframe\">\n",
              "  <thead>\n",
              "    <tr style=\"text-align: right;\">\n",
              "      <th></th>\n",
              "      <th>Name</th>\n",
              "      <th>Age</th>\n",
              "    </tr>\n",
              "  </thead>\n",
              "  <tbody>\n",
              "    <tr>\n",
              "      <th>0</th>\n",
              "      <td>Amar</td>\n",
              "      <td>10</td>\n",
              "    </tr>\n",
              "    <tr>\n",
              "      <th>1</th>\n",
              "      <td>Akbar</td>\n",
              "      <td>15</td>\n",
              "    </tr>\n",
              "    <tr>\n",
              "      <th>2</th>\n",
              "      <td>Anthony</td>\n",
              "      <td>14</td>\n",
              "    </tr>\n",
              "  </tbody>\n",
              "</table>\n",
              "</div>\n",
              "      <button class=\"colab-df-convert\" onclick=\"convertToInteractive('df-0b20506c-9144-4298-a4b5-f11c33b72197')\"\n",
              "              title=\"Convert this dataframe to an interactive table.\"\n",
              "              style=\"display:none;\">\n",
              "        \n",
              "  <svg xmlns=\"http://www.w3.org/2000/svg\" height=\"24px\"viewBox=\"0 0 24 24\"\n",
              "       width=\"24px\">\n",
              "    <path d=\"M0 0h24v24H0V0z\" fill=\"none\"/>\n",
              "    <path d=\"M18.56 5.44l.94 2.06.94-2.06 2.06-.94-2.06-.94-.94-2.06-.94 2.06-2.06.94zm-11 1L8.5 8.5l.94-2.06 2.06-.94-2.06-.94L8.5 2.5l-.94 2.06-2.06.94zm10 10l.94 2.06.94-2.06 2.06-.94-2.06-.94-.94-2.06-.94 2.06-2.06.94z\"/><path d=\"M17.41 7.96l-1.37-1.37c-.4-.4-.92-.59-1.43-.59-.52 0-1.04.2-1.43.59L10.3 9.45l-7.72 7.72c-.78.78-.78 2.05 0 2.83L4 21.41c.39.39.9.59 1.41.59.51 0 1.02-.2 1.41-.59l7.78-7.78 2.81-2.81c.8-.78.8-2.07 0-2.86zM5.41 20L4 18.59l7.72-7.72 1.47 1.35L5.41 20z\"/>\n",
              "  </svg>\n",
              "      </button>\n",
              "      \n",
              "  <style>\n",
              "    .colab-df-container {\n",
              "      display:flex;\n",
              "      flex-wrap:wrap;\n",
              "      gap: 12px;\n",
              "    }\n",
              "\n",
              "    .colab-df-convert {\n",
              "      background-color: #E8F0FE;\n",
              "      border: none;\n",
              "      border-radius: 50%;\n",
              "      cursor: pointer;\n",
              "      display: none;\n",
              "      fill: #1967D2;\n",
              "      height: 32px;\n",
              "      padding: 0 0 0 0;\n",
              "      width: 32px;\n",
              "    }\n",
              "\n",
              "    .colab-df-convert:hover {\n",
              "      background-color: #E2EBFA;\n",
              "      box-shadow: 0px 1px 2px rgba(60, 64, 67, 0.3), 0px 1px 3px 1px rgba(60, 64, 67, 0.15);\n",
              "      fill: #174EA6;\n",
              "    }\n",
              "\n",
              "    [theme=dark] .colab-df-convert {\n",
              "      background-color: #3B4455;\n",
              "      fill: #D2E3FC;\n",
              "    }\n",
              "\n",
              "    [theme=dark] .colab-df-convert:hover {\n",
              "      background-color: #434B5C;\n",
              "      box-shadow: 0px 1px 3px 1px rgba(0, 0, 0, 0.15);\n",
              "      filter: drop-shadow(0px 1px 2px rgba(0, 0, 0, 0.3));\n",
              "      fill: #FFFFFF;\n",
              "    }\n",
              "  </style>\n",
              "\n",
              "      <script>\n",
              "        const buttonEl =\n",
              "          document.querySelector('#df-0b20506c-9144-4298-a4b5-f11c33b72197 button.colab-df-convert');\n",
              "        buttonEl.style.display =\n",
              "          google.colab.kernel.accessAllowed ? 'block' : 'none';\n",
              "\n",
              "        async function convertToInteractive(key) {\n",
              "          const element = document.querySelector('#df-0b20506c-9144-4298-a4b5-f11c33b72197');\n",
              "          const dataTable =\n",
              "            await google.colab.kernel.invokeFunction('convertToInteractive',\n",
              "                                                     [key], {});\n",
              "          if (!dataTable) return;\n",
              "\n",
              "          const docLinkHtml = 'Like what you see? Visit the ' +\n",
              "            '<a target=\"_blank\" href=https://colab.research.google.com/notebooks/data_table.ipynb>data table notebook</a>'\n",
              "            + ' to learn more about interactive tables.';\n",
              "          element.innerHTML = '';\n",
              "          dataTable['output_type'] = 'display_data';\n",
              "          await google.colab.output.renderOutput(dataTable, element);\n",
              "          const docLink = document.createElement('div');\n",
              "          docLink.innerHTML = docLinkHtml;\n",
              "          element.appendChild(docLink);\n",
              "        }\n",
              "      </script>\n",
              "    </div>\n",
              "  </div>\n",
              "  "
            ]
          },
          "metadata": {},
          "execution_count": 27
        }
      ]
    },
    {
      "cell_type": "code",
      "source": [
        "df.info()"
      ],
      "metadata": {
        "id": "9ykS7dtXO70o",
        "outputId": "006d14c7-0ad3-4e20-d751-72927e78f93e",
        "colab": {
          "base_uri": "https://localhost:8080/"
        }
      },
      "execution_count": 28,
      "outputs": [
        {
          "output_type": "stream",
          "name": "stdout",
          "text": [
            "<class 'pandas.core.frame.DataFrame'>\n",
            "RangeIndex: 3 entries, 0 to 2\n",
            "Data columns (total 2 columns):\n",
            " #   Column  Non-Null Count  Dtype \n",
            "---  ------  --------------  ----- \n",
            " 0   Name    3 non-null      object\n",
            " 1   Age     3 non-null      int64 \n",
            "dtypes: int64(1), object(1)\n",
            "memory usage: 176.0+ bytes\n"
          ]
        }
      ]
    }
  ]
}